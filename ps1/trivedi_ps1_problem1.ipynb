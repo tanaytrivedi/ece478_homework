{
 "cells": [
  {
   "cell_type": "markdown",
   "metadata": {
    "hideCode": false,
    "hidePrompt": false
   },
   "source": [
    "# Problem Set 1\n",
    "By Tanay Trivedi"
   ]
  },
  {
   "cell_type": "code",
   "execution_count": 1,
   "metadata": {
    "hideCode": false,
    "hidePrompt": false
   },
   "outputs": [],
   "source": [
    "%matplotlib inline"
   ]
  },
  {
   "cell_type": "code",
   "execution_count": 2,
   "metadata": {
    "hideCode": false,
    "hidePrompt": false
   },
   "outputs": [],
   "source": [
    "import matplotlib.pyplot as plt"
   ]
  },
  {
   "cell_type": "code",
   "execution_count": 3,
   "metadata": {
    "hideCode": false,
    "hidePrompt": false
   },
   "outputs": [],
   "source": [
    "import matplotlib as mpl"
   ]
  },
  {
   "cell_type": "code",
   "execution_count": 4,
   "metadata": {
    "hideCode": false,
    "hidePrompt": false
   },
   "outputs": [],
   "source": [
    "import pandas as pd\n",
    "import numpy as np"
   ]
  },
  {
   "cell_type": "code",
   "execution_count": 5,
   "metadata": {
    "hideCode": false,
    "hidePrompt": false
   },
   "outputs": [],
   "source": [
    "import os\n",
    "l=os.listdir(\"reduced\")"
   ]
  },
  {
   "cell_type": "code",
   "execution_count": 6,
   "metadata": {
    "hideCode": false,
    "hidePrompt": false
   },
   "outputs": [],
   "source": [
    "csvs=[x for x in l if \"csv\" in x]"
   ]
  },
  {
   "cell_type": "code",
   "execution_count": 7,
   "metadata": {
    "hideCode": false,
    "hidePrompt": false
   },
   "outputs": [
    {
     "data": {
      "text/plain": [
       "['industry_returns_2004.csv',\n",
       " 'industry_returns_2018.csv',\n",
       " 'industry_returns_2001.csv',\n",
       " 'industry_returns_2015.csv',\n",
       " 'industry_returns_2003.csv',\n",
       " 'industry_returns_2002.csv',\n",
       " 'industry_returns_2005.csv',\n",
       " 'industry_returns_2013.csv',\n",
       " 'industry_returns_2009.csv',\n",
       " 'industry_returns_2007.csv',\n",
       " 'industry_returns_2006.csv',\n",
       " 'industry_returns_2017.csv',\n",
       " 'industry_returns_2016.csv',\n",
       " 'industry_returns_2008.csv',\n",
       " 'industry_returns_2012.csv',\n",
       " 'industry_returns_2011.csv',\n",
       " 'industry_returns_2000.csv',\n",
       " 'industry_returns_2014.csv',\n",
       " 'industry_returns_2010.csv']"
      ]
     },
     "execution_count": 7,
     "metadata": {},
     "output_type": "execute_result"
    }
   ],
   "source": [
    "csvs"
   ]
  },
  {
   "cell_type": "markdown",
   "metadata": {
    "hideCode": false,
    "hidePrompt": false
   },
   "source": [
    "# 2000"
   ]
  },
  {
   "cell_type": "code",
   "execution_count": 8,
   "metadata": {
    "hideCode": false,
    "hidePrompt": false
   },
   "outputs": [
    {
     "name": "stdout",
     "output_type": "stream",
     "text": [
      "/home/meltingpot/fsp/reduced\n"
     ]
    }
   ],
   "source": [
    "%cd /home/meltingpot/fsp/reduced"
   ]
  },
  {
   "cell_type": "code",
   "execution_count": 9,
   "metadata": {
    "hideCode": false,
    "hidePrompt": false
   },
   "outputs": [],
   "source": [
    "two_thousand=pd.read_csv(\"industry_returns_2000.csv\")"
   ]
  },
  {
   "cell_type": "code",
   "execution_count": 10,
   "metadata": {
    "hideCode": false,
    "hidePrompt": false
   },
   "outputs": [],
   "source": [
    "two_thousand['date']=pd.to_datetime(two_thousand['date'])"
   ]
  },
  {
   "cell_type": "code",
   "execution_count": 11,
   "metadata": {
    "hideCode": false,
    "hidePrompt": false
   },
   "outputs": [],
   "source": [
    "two_thousand=two_thousand.set_index(\"date\")"
   ]
  },
  {
   "cell_type": "code",
   "execution_count": 12,
   "metadata": {
    "hideCode": false,
    "hidePrompt": false
   },
   "outputs": [],
   "source": [
    "sp=two_thousand['SP500']\n",
    "libor=two_thousand['libor']"
   ]
  },
  {
   "cell_type": "code",
   "execution_count": 13,
   "metadata": {
    "hideCode": false,
    "hidePrompt": false
   },
   "outputs": [],
   "source": [
    "del two_thousand['SP500']\n",
    "del two_thousand['libor']"
   ]
  },
  {
   "cell_type": "markdown",
   "metadata": {
    "hideCode": false,
    "hidePrompt": false
   },
   "source": [
    "## Part A"
   ]
  },
  {
   "cell_type": "code",
   "execution_count": 14,
   "metadata": {
    "hideCode": false,
    "hidePrompt": false,
    "scrolled": true
   },
   "outputs": [
    {
     "data": {
      "text/plain": [
       "Agric    0.133360\n",
       "Food     0.095385\n",
       "Soda     0.125668\n",
       "Beer     0.146194\n",
       "Smoke    0.256316\n",
       "Toys    -0.026518\n",
       "Fun     -0.051215\n",
       "Books    0.014615\n",
       "Hshld    0.044049\n",
       "Clths    0.007490\n",
       "Hlth     0.179879\n",
       "MedEq    0.137247\n",
       "Drugs    0.248219\n",
       "Chems    0.056235\n",
       "Rubbr    0.001093\n",
       "Txtls   -0.039717\n",
       "BldMt    0.008623\n",
       "Cnstr    0.127611\n",
       "Steel   -0.097652\n",
       "FabPr    0.021700\n",
       "Mach     0.066356\n",
       "ElcEq    0.125425\n",
       "Autos   -0.050810\n",
       "Aero     0.070810\n",
       "Ships    0.110850\n",
       "Guns     0.163401\n",
       "Gold     0.051174\n",
       "Mines   -0.003320\n",
       "Coal     0.314899\n",
       "Oil      0.297814\n",
       "Util     0.150648\n",
       "Telcm   -0.231012\n",
       "PerSv   -0.002510\n",
       "BusSv   -0.199433\n",
       "Comps   -0.082348\n",
       "Chips    0.071984\n",
       "LabEq    0.183036\n",
       "Paper    0.023968\n",
       "Boxes   -0.047126\n",
       "Trans    0.041822\n",
       "Whlsl   -0.003482\n",
       "Rtail   -0.102996\n",
       "Meals    0.086923\n",
       "Banks    0.069109\n",
       "Insur    0.113401\n",
       "RlEst    0.090850\n",
       "Fin      0.002105\n",
       "Other   -0.001336\n",
       "dtype: float64"
      ]
     },
     "execution_count": 14,
     "metadata": {},
     "output_type": "execute_result"
    }
   ],
   "source": [
    "mu=two_thousand.mean()\n",
    "mu"
   ]
  },
  {
   "cell_type": "code",
   "execution_count": 15,
   "metadata": {
    "hideCode": false,
    "hidePrompt": false,
    "scrolled": true
   },
   "outputs": [
    {
     "data": {
      "text/html": [
       "<div>\n",
       "<style scoped>\n",
       "    .dataframe tbody tr th:only-of-type {\n",
       "        vertical-align: middle;\n",
       "    }\n",
       "\n",
       "    .dataframe tbody tr th {\n",
       "        vertical-align: top;\n",
       "    }\n",
       "\n",
       "    .dataframe thead th {\n",
       "        text-align: right;\n",
       "    }\n",
       "</style>\n",
       "<table border=\"1\" class=\"dataframe\">\n",
       "  <thead>\n",
       "    <tr style=\"text-align: right;\">\n",
       "      <th></th>\n",
       "      <th>Agric</th>\n",
       "      <th>Food</th>\n",
       "      <th>Soda</th>\n",
       "      <th>Beer</th>\n",
       "      <th>Smoke</th>\n",
       "      <th>Toys</th>\n",
       "      <th>Fun</th>\n",
       "      <th>Books</th>\n",
       "      <th>Hshld</th>\n",
       "      <th>Clths</th>\n",
       "      <th>...</th>\n",
       "      <th>Boxes</th>\n",
       "      <th>Trans</th>\n",
       "      <th>Whlsl</th>\n",
       "      <th>Rtail</th>\n",
       "      <th>Meals</th>\n",
       "      <th>Banks</th>\n",
       "      <th>Insur</th>\n",
       "      <th>RlEst</th>\n",
       "      <th>Fin</th>\n",
       "      <th>Other</th>\n",
       "    </tr>\n",
       "  </thead>\n",
       "  <tbody>\n",
       "    <tr>\n",
       "      <th>Agric</th>\n",
       "      <td>4.476736</td>\n",
       "      <td>0.305888</td>\n",
       "      <td>0.334408</td>\n",
       "      <td>0.383505</td>\n",
       "      <td>0.462988</td>\n",
       "      <td>0.963494</td>\n",
       "      <td>1.344726</td>\n",
       "      <td>0.812422</td>\n",
       "      <td>0.713505</td>\n",
       "      <td>0.579485</td>\n",
       "      <td>...</td>\n",
       "      <td>0.675857</td>\n",
       "      <td>0.737812</td>\n",
       "      <td>1.155989</td>\n",
       "      <td>1.117565</td>\n",
       "      <td>0.709097</td>\n",
       "      <td>0.395677</td>\n",
       "      <td>0.489981</td>\n",
       "      <td>0.761949</td>\n",
       "      <td>0.757952</td>\n",
       "      <td>1.125099</td>\n",
       "    </tr>\n",
       "    <tr>\n",
       "      <th>Food</th>\n",
       "      <td>0.305888</td>\n",
       "      <td>0.641337</td>\n",
       "      <td>0.097889</td>\n",
       "      <td>0.205586</td>\n",
       "      <td>0.232098</td>\n",
       "      <td>0.328701</td>\n",
       "      <td>0.433277</td>\n",
       "      <td>0.390674</td>\n",
       "      <td>0.375327</td>\n",
       "      <td>0.335591</td>\n",
       "      <td>...</td>\n",
       "      <td>0.401276</td>\n",
       "      <td>0.380673</td>\n",
       "      <td>0.380310</td>\n",
       "      <td>0.488969</td>\n",
       "      <td>0.293716</td>\n",
       "      <td>0.272643</td>\n",
       "      <td>0.416386</td>\n",
       "      <td>0.311370</td>\n",
       "      <td>0.347333</td>\n",
       "      <td>0.500407</td>\n",
       "    </tr>\n",
       "    <tr>\n",
       "      <th>Soda</th>\n",
       "      <td>0.334408</td>\n",
       "      <td>0.097889</td>\n",
       "      <td>1.435297</td>\n",
       "      <td>0.197297</td>\n",
       "      <td>0.283600</td>\n",
       "      <td>0.284918</td>\n",
       "      <td>0.181260</td>\n",
       "      <td>0.237269</td>\n",
       "      <td>0.104709</td>\n",
       "      <td>0.173042</td>\n",
       "      <td>...</td>\n",
       "      <td>0.108468</td>\n",
       "      <td>0.201402</td>\n",
       "      <td>0.190329</td>\n",
       "      <td>0.148208</td>\n",
       "      <td>0.078515</td>\n",
       "      <td>0.176281</td>\n",
       "      <td>0.217148</td>\n",
       "      <td>0.255071</td>\n",
       "      <td>0.099759</td>\n",
       "      <td>0.110434</td>\n",
       "    </tr>\n",
       "    <tr>\n",
       "      <th>Beer</th>\n",
       "      <td>0.383505</td>\n",
       "      <td>0.205586</td>\n",
       "      <td>0.197297</td>\n",
       "      <td>1.046189</td>\n",
       "      <td>0.320712</td>\n",
       "      <td>0.338244</td>\n",
       "      <td>0.273925</td>\n",
       "      <td>0.256746</td>\n",
       "      <td>0.234177</td>\n",
       "      <td>0.299046</td>\n",
       "      <td>...</td>\n",
       "      <td>0.176188</td>\n",
       "      <td>0.304294</td>\n",
       "      <td>0.354692</td>\n",
       "      <td>0.392893</td>\n",
       "      <td>0.239497</td>\n",
       "      <td>0.176647</td>\n",
       "      <td>0.270075</td>\n",
       "      <td>0.180724</td>\n",
       "      <td>0.304823</td>\n",
       "      <td>0.377457</td>\n",
       "    </tr>\n",
       "    <tr>\n",
       "      <th>Smoke</th>\n",
       "      <td>0.462988</td>\n",
       "      <td>0.232098</td>\n",
       "      <td>0.283600</td>\n",
       "      <td>0.320712</td>\n",
       "      <td>4.667449</td>\n",
       "      <td>0.272841</td>\n",
       "      <td>0.416019</td>\n",
       "      <td>0.348811</td>\n",
       "      <td>0.151415</td>\n",
       "      <td>0.240603</td>\n",
       "      <td>...</td>\n",
       "      <td>0.423039</td>\n",
       "      <td>0.232124</td>\n",
       "      <td>0.216912</td>\n",
       "      <td>0.248806</td>\n",
       "      <td>0.081767</td>\n",
       "      <td>0.231222</td>\n",
       "      <td>0.400145</td>\n",
       "      <td>0.125215</td>\n",
       "      <td>0.254705</td>\n",
       "      <td>0.215980</td>\n",
       "    </tr>\n",
       "    <tr>\n",
       "      <th>Toys</th>\n",
       "      <td>0.963494</td>\n",
       "      <td>0.328701</td>\n",
       "      <td>0.284918</td>\n",
       "      <td>0.338244</td>\n",
       "      <td>0.272841</td>\n",
       "      <td>1.831402</td>\n",
       "      <td>1.344573</td>\n",
       "      <td>0.798667</td>\n",
       "      <td>0.792360</td>\n",
       "      <td>0.795690</td>\n",
       "      <td>...</td>\n",
       "      <td>0.739042</td>\n",
       "      <td>0.750297</td>\n",
       "      <td>1.076796</td>\n",
       "      <td>1.068958</td>\n",
       "      <td>0.621852</td>\n",
       "      <td>0.375584</td>\n",
       "      <td>0.503673</td>\n",
       "      <td>0.574845</td>\n",
       "      <td>0.822814</td>\n",
       "      <td>1.311137</td>\n",
       "    </tr>\n",
       "    <tr>\n",
       "      <th>Fun</th>\n",
       "      <td>1.344726</td>\n",
       "      <td>0.433277</td>\n",
       "      <td>0.181260</td>\n",
       "      <td>0.273925</td>\n",
       "      <td>0.416019</td>\n",
       "      <td>1.344573</td>\n",
       "      <td>2.485029</td>\n",
       "      <td>1.041957</td>\n",
       "      <td>0.965470</td>\n",
       "      <td>0.861981</td>\n",
       "      <td>...</td>\n",
       "      <td>1.102148</td>\n",
       "      <td>0.926713</td>\n",
       "      <td>1.389451</td>\n",
       "      <td>1.417733</td>\n",
       "      <td>0.820577</td>\n",
       "      <td>0.495367</td>\n",
       "      <td>0.697034</td>\n",
       "      <td>0.893854</td>\n",
       "      <td>1.081835</td>\n",
       "      <td>1.697419</td>\n",
       "    </tr>\n",
       "    <tr>\n",
       "      <th>Books</th>\n",
       "      <td>0.812422</td>\n",
       "      <td>0.390674</td>\n",
       "      <td>0.237269</td>\n",
       "      <td>0.256746</td>\n",
       "      <td>0.348811</td>\n",
       "      <td>0.798667</td>\n",
       "      <td>1.041957</td>\n",
       "      <td>1.388765</td>\n",
       "      <td>0.713032</td>\n",
       "      <td>0.665323</td>\n",
       "      <td>...</td>\n",
       "      <td>0.813174</td>\n",
       "      <td>0.674649</td>\n",
       "      <td>0.879537</td>\n",
       "      <td>0.975707</td>\n",
       "      <td>0.542538</td>\n",
       "      <td>0.435031</td>\n",
       "      <td>0.570390</td>\n",
       "      <td>0.571407</td>\n",
       "      <td>0.740154</td>\n",
       "      <td>1.051866</td>\n",
       "    </tr>\n",
       "    <tr>\n",
       "      <th>Hshld</th>\n",
       "      <td>0.713505</td>\n",
       "      <td>0.375327</td>\n",
       "      <td>0.104709</td>\n",
       "      <td>0.234177</td>\n",
       "      <td>0.151415</td>\n",
       "      <td>0.792360</td>\n",
       "      <td>0.965470</td>\n",
       "      <td>0.713032</td>\n",
       "      <td>1.060416</td>\n",
       "      <td>0.609836</td>\n",
       "      <td>...</td>\n",
       "      <td>0.705646</td>\n",
       "      <td>0.705524</td>\n",
       "      <td>0.788258</td>\n",
       "      <td>0.926162</td>\n",
       "      <td>0.540149</td>\n",
       "      <td>0.403955</td>\n",
       "      <td>0.556701</td>\n",
       "      <td>0.478294</td>\n",
       "      <td>0.696822</td>\n",
       "      <td>1.009922</td>\n",
       "    </tr>\n",
       "    <tr>\n",
       "      <th>Clths</th>\n",
       "      <td>0.579485</td>\n",
       "      <td>0.335591</td>\n",
       "      <td>0.173042</td>\n",
       "      <td>0.299046</td>\n",
       "      <td>0.240603</td>\n",
       "      <td>0.795690</td>\n",
       "      <td>0.861981</td>\n",
       "      <td>0.665323</td>\n",
       "      <td>0.609836</td>\n",
       "      <td>0.976200</td>\n",
       "      <td>...</td>\n",
       "      <td>0.649027</td>\n",
       "      <td>0.668971</td>\n",
       "      <td>0.776369</td>\n",
       "      <td>0.872679</td>\n",
       "      <td>0.473719</td>\n",
       "      <td>0.338704</td>\n",
       "      <td>0.457211</td>\n",
       "      <td>0.488749</td>\n",
       "      <td>0.637130</td>\n",
       "      <td>0.921421</td>\n",
       "    </tr>\n",
       "    <tr>\n",
       "      <th>Hlth</th>\n",
       "      <td>1.004968</td>\n",
       "      <td>0.343046</td>\n",
       "      <td>0.201789</td>\n",
       "      <td>0.282774</td>\n",
       "      <td>0.355120</td>\n",
       "      <td>0.873501</td>\n",
       "      <td>1.169622</td>\n",
       "      <td>0.865597</td>\n",
       "      <td>0.717510</td>\n",
       "      <td>0.598658</td>\n",
       "      <td>...</td>\n",
       "      <td>0.574709</td>\n",
       "      <td>0.704319</td>\n",
       "      <td>0.989184</td>\n",
       "      <td>0.995086</td>\n",
       "      <td>0.616666</td>\n",
       "      <td>0.394082</td>\n",
       "      <td>0.587152</td>\n",
       "      <td>0.581410</td>\n",
       "      <td>0.773683</td>\n",
       "      <td>1.267157</td>\n",
       "    </tr>\n",
       "    <tr>\n",
       "      <th>MedEq</th>\n",
       "      <td>1.379036</td>\n",
       "      <td>0.443516</td>\n",
       "      <td>0.093951</td>\n",
       "      <td>0.363287</td>\n",
       "      <td>0.248713</td>\n",
       "      <td>1.312792</td>\n",
       "      <td>1.781350</td>\n",
       "      <td>1.042840</td>\n",
       "      <td>0.993592</td>\n",
       "      <td>0.807029</td>\n",
       "      <td>...</td>\n",
       "      <td>0.889132</td>\n",
       "      <td>0.835357</td>\n",
       "      <td>1.456075</td>\n",
       "      <td>1.238102</td>\n",
       "      <td>0.765052</td>\n",
       "      <td>0.392452</td>\n",
       "      <td>0.590633</td>\n",
       "      <td>0.814208</td>\n",
       "      <td>0.987716</td>\n",
       "      <td>1.816012</td>\n",
       "    </tr>\n",
       "    <tr>\n",
       "      <th>Drugs</th>\n",
       "      <td>2.157616</td>\n",
       "      <td>0.821199</td>\n",
       "      <td>0.173575</td>\n",
       "      <td>0.523638</td>\n",
       "      <td>0.405129</td>\n",
       "      <td>2.054333</td>\n",
       "      <td>2.945161</td>\n",
       "      <td>1.868085</td>\n",
       "      <td>1.582093</td>\n",
       "      <td>1.490809</td>\n",
       "      <td>...</td>\n",
       "      <td>1.619954</td>\n",
       "      <td>1.465783</td>\n",
       "      <td>2.471785</td>\n",
       "      <td>2.101075</td>\n",
       "      <td>1.239016</td>\n",
       "      <td>0.726685</td>\n",
       "      <td>1.074154</td>\n",
       "      <td>1.404141</td>\n",
       "      <td>1.712992</td>\n",
       "      <td>3.098507</td>\n",
       "    </tr>\n",
       "    <tr>\n",
       "      <th>Chems</th>\n",
       "      <td>0.602323</td>\n",
       "      <td>0.426386</td>\n",
       "      <td>0.118836</td>\n",
       "      <td>0.239437</td>\n",
       "      <td>0.599570</td>\n",
       "      <td>0.705428</td>\n",
       "      <td>0.882967</td>\n",
       "      <td>0.646218</td>\n",
       "      <td>0.631168</td>\n",
       "      <td>0.597907</td>\n",
       "      <td>...</td>\n",
       "      <td>0.860319</td>\n",
       "      <td>0.672714</td>\n",
       "      <td>0.719906</td>\n",
       "      <td>0.841761</td>\n",
       "      <td>0.457641</td>\n",
       "      <td>0.372486</td>\n",
       "      <td>0.582758</td>\n",
       "      <td>0.393217</td>\n",
       "      <td>0.631739</td>\n",
       "      <td>0.855548</td>\n",
       "    </tr>\n",
       "    <tr>\n",
       "      <th>Rubbr</th>\n",
       "      <td>0.937126</td>\n",
       "      <td>0.370632</td>\n",
       "      <td>0.127516</td>\n",
       "      <td>0.264427</td>\n",
       "      <td>0.109593</td>\n",
       "      <td>0.820001</td>\n",
       "      <td>1.002581</td>\n",
       "      <td>0.737576</td>\n",
       "      <td>0.620445</td>\n",
       "      <td>0.609626</td>\n",
       "      <td>...</td>\n",
       "      <td>0.774157</td>\n",
       "      <td>0.631185</td>\n",
       "      <td>0.833979</td>\n",
       "      <td>0.905913</td>\n",
       "      <td>0.551121</td>\n",
       "      <td>0.347880</td>\n",
       "      <td>0.474017</td>\n",
       "      <td>0.462046</td>\n",
       "      <td>0.618785</td>\n",
       "      <td>1.011699</td>\n",
       "    </tr>\n",
       "    <tr>\n",
       "      <th>Txtls</th>\n",
       "      <td>0.305072</td>\n",
       "      <td>0.172011</td>\n",
       "      <td>0.365710</td>\n",
       "      <td>0.134673</td>\n",
       "      <td>0.154582</td>\n",
       "      <td>0.486257</td>\n",
       "      <td>0.440021</td>\n",
       "      <td>0.387882</td>\n",
       "      <td>0.400432</td>\n",
       "      <td>0.415837</td>\n",
       "      <td>...</td>\n",
       "      <td>0.393510</td>\n",
       "      <td>0.395956</td>\n",
       "      <td>0.432610</td>\n",
       "      <td>0.426981</td>\n",
       "      <td>0.289655</td>\n",
       "      <td>0.230263</td>\n",
       "      <td>0.259001</td>\n",
       "      <td>0.505054</td>\n",
       "      <td>0.328376</td>\n",
       "      <td>0.423803</td>\n",
       "    </tr>\n",
       "    <tr>\n",
       "      <th>BldMt</th>\n",
       "      <td>0.611774</td>\n",
       "      <td>0.307084</td>\n",
       "      <td>0.127417</td>\n",
       "      <td>0.215599</td>\n",
       "      <td>0.313560</td>\n",
       "      <td>0.688958</td>\n",
       "      <td>0.865793</td>\n",
       "      <td>0.604538</td>\n",
       "      <td>0.577061</td>\n",
       "      <td>0.582740</td>\n",
       "      <td>...</td>\n",
       "      <td>0.693297</td>\n",
       "      <td>0.606316</td>\n",
       "      <td>0.738749</td>\n",
       "      <td>0.787904</td>\n",
       "      <td>0.444467</td>\n",
       "      <td>0.349993</td>\n",
       "      <td>0.477686</td>\n",
       "      <td>0.513592</td>\n",
       "      <td>0.623003</td>\n",
       "      <td>0.847190</td>\n",
       "    </tr>\n",
       "    <tr>\n",
       "      <th>Cnstr</th>\n",
       "      <td>0.711700</td>\n",
       "      <td>0.379886</td>\n",
       "      <td>0.079420</td>\n",
       "      <td>0.327335</td>\n",
       "      <td>0.131927</td>\n",
       "      <td>0.871218</td>\n",
       "      <td>1.061620</td>\n",
       "      <td>0.754041</td>\n",
       "      <td>0.715570</td>\n",
       "      <td>0.646965</td>\n",
       "      <td>...</td>\n",
       "      <td>0.785824</td>\n",
       "      <td>0.714355</td>\n",
       "      <td>0.939227</td>\n",
       "      <td>0.979272</td>\n",
       "      <td>0.542745</td>\n",
       "      <td>0.363878</td>\n",
       "      <td>0.556692</td>\n",
       "      <td>0.573839</td>\n",
       "      <td>0.829015</td>\n",
       "      <td>1.177455</td>\n",
       "    </tr>\n",
       "    <tr>\n",
       "      <th>Steel</th>\n",
       "      <td>0.921479</td>\n",
       "      <td>0.440306</td>\n",
       "      <td>0.195126</td>\n",
       "      <td>0.302084</td>\n",
       "      <td>0.423768</td>\n",
       "      <td>0.914292</td>\n",
       "      <td>1.105891</td>\n",
       "      <td>0.812946</td>\n",
       "      <td>0.784100</td>\n",
       "      <td>0.767488</td>\n",
       "      <td>...</td>\n",
       "      <td>0.883554</td>\n",
       "      <td>0.817663</td>\n",
       "      <td>0.988267</td>\n",
       "      <td>1.009266</td>\n",
       "      <td>0.618904</td>\n",
       "      <td>0.440485</td>\n",
       "      <td>0.613049</td>\n",
       "      <td>0.707395</td>\n",
       "      <td>0.793873</td>\n",
       "      <td>1.050518</td>\n",
       "    </tr>\n",
       "    <tr>\n",
       "      <th>FabPr</th>\n",
       "      <td>0.892756</td>\n",
       "      <td>0.380786</td>\n",
       "      <td>-0.109745</td>\n",
       "      <td>0.255893</td>\n",
       "      <td>-0.009131</td>\n",
       "      <td>0.920804</td>\n",
       "      <td>1.176980</td>\n",
       "      <td>0.674750</td>\n",
       "      <td>0.800928</td>\n",
       "      <td>0.617148</td>\n",
       "      <td>...</td>\n",
       "      <td>0.798397</td>\n",
       "      <td>0.828968</td>\n",
       "      <td>1.062180</td>\n",
       "      <td>1.059255</td>\n",
       "      <td>0.607688</td>\n",
       "      <td>0.376488</td>\n",
       "      <td>0.517493</td>\n",
       "      <td>0.572337</td>\n",
       "      <td>0.779114</td>\n",
       "      <td>1.132814</td>\n",
       "    </tr>\n",
       "    <tr>\n",
       "      <th>Mach</th>\n",
       "      <td>1.070071</td>\n",
       "      <td>0.454497</td>\n",
       "      <td>0.139205</td>\n",
       "      <td>0.340817</td>\n",
       "      <td>0.234562</td>\n",
       "      <td>1.145225</td>\n",
       "      <td>1.426654</td>\n",
       "      <td>0.984673</td>\n",
       "      <td>0.912308</td>\n",
       "      <td>0.870151</td>\n",
       "      <td>...</td>\n",
       "      <td>1.206850</td>\n",
       "      <td>0.931573</td>\n",
       "      <td>1.259535</td>\n",
       "      <td>1.220510</td>\n",
       "      <td>0.679955</td>\n",
       "      <td>0.470226</td>\n",
       "      <td>0.646018</td>\n",
       "      <td>0.780087</td>\n",
       "      <td>0.996492</td>\n",
       "      <td>1.468273</td>\n",
       "    </tr>\n",
       "    <tr>\n",
       "      <th>ElcEq</th>\n",
       "      <td>1.167794</td>\n",
       "      <td>0.507365</td>\n",
       "      <td>0.167332</td>\n",
       "      <td>0.353745</td>\n",
       "      <td>0.189404</td>\n",
       "      <td>1.230111</td>\n",
       "      <td>1.709991</td>\n",
       "      <td>1.097245</td>\n",
       "      <td>0.959763</td>\n",
       "      <td>0.907265</td>\n",
       "      <td>...</td>\n",
       "      <td>1.063933</td>\n",
       "      <td>0.962961</td>\n",
       "      <td>1.396262</td>\n",
       "      <td>1.370841</td>\n",
       "      <td>0.777012</td>\n",
       "      <td>0.476920</td>\n",
       "      <td>0.690750</td>\n",
       "      <td>0.876930</td>\n",
       "      <td>1.081182</td>\n",
       "      <td>1.658546</td>\n",
       "    </tr>\n",
       "    <tr>\n",
       "      <th>Autos</th>\n",
       "      <td>0.720437</td>\n",
       "      <td>0.378863</td>\n",
       "      <td>0.216941</td>\n",
       "      <td>0.235813</td>\n",
       "      <td>0.420504</td>\n",
       "      <td>0.669347</td>\n",
       "      <td>0.793730</td>\n",
       "      <td>0.594337</td>\n",
       "      <td>0.618879</td>\n",
       "      <td>0.570806</td>\n",
       "      <td>...</td>\n",
       "      <td>0.693289</td>\n",
       "      <td>0.636443</td>\n",
       "      <td>0.734396</td>\n",
       "      <td>0.866014</td>\n",
       "      <td>0.494439</td>\n",
       "      <td>0.383071</td>\n",
       "      <td>0.576696</td>\n",
       "      <td>0.609006</td>\n",
       "      <td>0.600322</td>\n",
       "      <td>0.868037</td>\n",
       "    </tr>\n",
       "    <tr>\n",
       "      <th>Aero</th>\n",
       "      <td>0.771559</td>\n",
       "      <td>0.258874</td>\n",
       "      <td>0.068082</td>\n",
       "      <td>0.165787</td>\n",
       "      <td>0.261223</td>\n",
       "      <td>0.609369</td>\n",
       "      <td>0.805203</td>\n",
       "      <td>0.517853</td>\n",
       "      <td>0.511429</td>\n",
       "      <td>0.519236</td>\n",
       "      <td>...</td>\n",
       "      <td>0.574740</td>\n",
       "      <td>0.631772</td>\n",
       "      <td>0.611875</td>\n",
       "      <td>0.745198</td>\n",
       "      <td>0.486939</td>\n",
       "      <td>0.344904</td>\n",
       "      <td>0.419587</td>\n",
       "      <td>0.439724</td>\n",
       "      <td>0.561839</td>\n",
       "      <td>0.696102</td>\n",
       "    </tr>\n",
       "    <tr>\n",
       "      <th>Ships</th>\n",
       "      <td>0.401625</td>\n",
       "      <td>0.401388</td>\n",
       "      <td>0.041330</td>\n",
       "      <td>0.261842</td>\n",
       "      <td>-0.050633</td>\n",
       "      <td>0.605395</td>\n",
       "      <td>0.624589</td>\n",
       "      <td>0.595335</td>\n",
       "      <td>0.526099</td>\n",
       "      <td>0.601042</td>\n",
       "      <td>...</td>\n",
       "      <td>0.770439</td>\n",
       "      <td>0.582923</td>\n",
       "      <td>0.616622</td>\n",
       "      <td>0.751031</td>\n",
       "      <td>0.447451</td>\n",
       "      <td>0.330264</td>\n",
       "      <td>0.462935</td>\n",
       "      <td>0.413741</td>\n",
       "      <td>0.601203</td>\n",
       "      <td>0.824760</td>\n",
       "    </tr>\n",
       "    <tr>\n",
       "      <th>Guns</th>\n",
       "      <td>0.479535</td>\n",
       "      <td>0.246875</td>\n",
       "      <td>-0.228674</td>\n",
       "      <td>0.026804</td>\n",
       "      <td>-0.578142</td>\n",
       "      <td>0.229134</td>\n",
       "      <td>0.290058</td>\n",
       "      <td>0.325816</td>\n",
       "      <td>0.421072</td>\n",
       "      <td>0.357177</td>\n",
       "      <td>...</td>\n",
       "      <td>0.491071</td>\n",
       "      <td>0.507372</td>\n",
       "      <td>0.320302</td>\n",
       "      <td>0.552905</td>\n",
       "      <td>0.224362</td>\n",
       "      <td>0.272653</td>\n",
       "      <td>0.383163</td>\n",
       "      <td>0.237914</td>\n",
       "      <td>0.282307</td>\n",
       "      <td>0.532892</td>\n",
       "    </tr>\n",
       "    <tr>\n",
       "      <th>Gold</th>\n",
       "      <td>1.237993</td>\n",
       "      <td>-0.062051</td>\n",
       "      <td>0.053425</td>\n",
       "      <td>-0.057400</td>\n",
       "      <td>-0.379964</td>\n",
       "      <td>0.447263</td>\n",
       "      <td>0.665395</td>\n",
       "      <td>0.266354</td>\n",
       "      <td>0.194766</td>\n",
       "      <td>0.035493</td>\n",
       "      <td>...</td>\n",
       "      <td>0.319808</td>\n",
       "      <td>0.295375</td>\n",
       "      <td>0.464712</td>\n",
       "      <td>0.410780</td>\n",
       "      <td>0.277587</td>\n",
       "      <td>0.125232</td>\n",
       "      <td>0.031556</td>\n",
       "      <td>0.294711</td>\n",
       "      <td>0.477928</td>\n",
       "      <td>0.398091</td>\n",
       "    </tr>\n",
       "    <tr>\n",
       "      <th>Mines</th>\n",
       "      <td>0.534097</td>\n",
       "      <td>0.088265</td>\n",
       "      <td>0.163597</td>\n",
       "      <td>0.166873</td>\n",
       "      <td>0.115871</td>\n",
       "      <td>0.360860</td>\n",
       "      <td>0.326292</td>\n",
       "      <td>0.061716</td>\n",
       "      <td>0.300483</td>\n",
       "      <td>0.300624</td>\n",
       "      <td>...</td>\n",
       "      <td>0.578047</td>\n",
       "      <td>0.354416</td>\n",
       "      <td>0.339847</td>\n",
       "      <td>0.395597</td>\n",
       "      <td>0.112065</td>\n",
       "      <td>0.202007</td>\n",
       "      <td>0.372108</td>\n",
       "      <td>0.243269</td>\n",
       "      <td>0.319452</td>\n",
       "      <td>0.396986</td>\n",
       "    </tr>\n",
       "    <tr>\n",
       "      <th>Coal</th>\n",
       "      <td>0.608720</td>\n",
       "      <td>0.179915</td>\n",
       "      <td>-0.033719</td>\n",
       "      <td>0.126926</td>\n",
       "      <td>-0.180504</td>\n",
       "      <td>0.367946</td>\n",
       "      <td>0.417737</td>\n",
       "      <td>0.703905</td>\n",
       "      <td>0.357506</td>\n",
       "      <td>0.388940</td>\n",
       "      <td>...</td>\n",
       "      <td>0.652969</td>\n",
       "      <td>0.396432</td>\n",
       "      <td>0.588388</td>\n",
       "      <td>0.645025</td>\n",
       "      <td>0.282213</td>\n",
       "      <td>0.254139</td>\n",
       "      <td>0.346115</td>\n",
       "      <td>0.566840</td>\n",
       "      <td>0.351090</td>\n",
       "      <td>0.729311</td>\n",
       "    </tr>\n",
       "    <tr>\n",
       "      <th>Oil</th>\n",
       "      <td>0.479583</td>\n",
       "      <td>0.267130</td>\n",
       "      <td>0.256983</td>\n",
       "      <td>0.201102</td>\n",
       "      <td>0.092244</td>\n",
       "      <td>0.702085</td>\n",
       "      <td>0.617253</td>\n",
       "      <td>0.553457</td>\n",
       "      <td>0.411484</td>\n",
       "      <td>0.396107</td>\n",
       "      <td>...</td>\n",
       "      <td>0.590200</td>\n",
       "      <td>0.460443</td>\n",
       "      <td>0.677986</td>\n",
       "      <td>0.522026</td>\n",
       "      <td>0.244155</td>\n",
       "      <td>0.219564</td>\n",
       "      <td>0.324431</td>\n",
       "      <td>0.351395</td>\n",
       "      <td>0.455314</td>\n",
       "      <td>0.697870</td>\n",
       "    </tr>\n",
       "    <tr>\n",
       "      <th>Util</th>\n",
       "      <td>0.254286</td>\n",
       "      <td>0.242847</td>\n",
       "      <td>0.230461</td>\n",
       "      <td>0.232567</td>\n",
       "      <td>0.350811</td>\n",
       "      <td>0.141222</td>\n",
       "      <td>0.170256</td>\n",
       "      <td>0.260850</td>\n",
       "      <td>0.241999</td>\n",
       "      <td>0.219198</td>\n",
       "      <td>...</td>\n",
       "      <td>0.418769</td>\n",
       "      <td>0.263320</td>\n",
       "      <td>0.150584</td>\n",
       "      <td>0.282523</td>\n",
       "      <td>0.135363</td>\n",
       "      <td>0.200719</td>\n",
       "      <td>0.320285</td>\n",
       "      <td>0.177243</td>\n",
       "      <td>0.176817</td>\n",
       "      <td>0.175843</td>\n",
       "    </tr>\n",
       "    <tr>\n",
       "      <th>Telcm</th>\n",
       "      <td>2.128055</td>\n",
       "      <td>0.830240</td>\n",
       "      <td>0.246770</td>\n",
       "      <td>0.561560</td>\n",
       "      <td>0.207064</td>\n",
       "      <td>2.098802</td>\n",
       "      <td>2.890100</td>\n",
       "      <td>1.882096</td>\n",
       "      <td>1.662794</td>\n",
       "      <td>1.536652</td>\n",
       "      <td>...</td>\n",
       "      <td>1.925258</td>\n",
       "      <td>1.712353</td>\n",
       "      <td>2.406681</td>\n",
       "      <td>2.361525</td>\n",
       "      <td>1.410479</td>\n",
       "      <td>0.855240</td>\n",
       "      <td>1.197998</td>\n",
       "      <td>1.453646</td>\n",
       "      <td>1.969842</td>\n",
       "      <td>2.908624</td>\n",
       "    </tr>\n",
       "    <tr>\n",
       "      <th>PerSv</th>\n",
       "      <td>0.909307</td>\n",
       "      <td>0.363207</td>\n",
       "      <td>0.138588</td>\n",
       "      <td>0.389766</td>\n",
       "      <td>0.312520</td>\n",
       "      <td>0.894452</td>\n",
       "      <td>1.057768</td>\n",
       "      <td>0.834250</td>\n",
       "      <td>0.742298</td>\n",
       "      <td>0.667033</td>\n",
       "      <td>...</td>\n",
       "      <td>0.679239</td>\n",
       "      <td>0.710405</td>\n",
       "      <td>0.952086</td>\n",
       "      <td>1.071355</td>\n",
       "      <td>0.584131</td>\n",
       "      <td>0.424032</td>\n",
       "      <td>0.600933</td>\n",
       "      <td>0.491284</td>\n",
       "      <td>0.787043</td>\n",
       "      <td>1.136603</td>\n",
       "    </tr>\n",
       "    <tr>\n",
       "      <th>BusSv</th>\n",
       "      <td>2.023240</td>\n",
       "      <td>0.707140</td>\n",
       "      <td>0.174565</td>\n",
       "      <td>0.522431</td>\n",
       "      <td>0.152483</td>\n",
       "      <td>2.071365</td>\n",
       "      <td>2.742636</td>\n",
       "      <td>1.795518</td>\n",
       "      <td>1.582872</td>\n",
       "      <td>1.439216</td>\n",
       "      <td>...</td>\n",
       "      <td>1.744998</td>\n",
       "      <td>1.558825</td>\n",
       "      <td>2.370942</td>\n",
       "      <td>2.188858</td>\n",
       "      <td>1.283730</td>\n",
       "      <td>0.755798</td>\n",
       "      <td>1.067761</td>\n",
       "      <td>1.411422</td>\n",
       "      <td>1.794781</td>\n",
       "      <td>2.829914</td>\n",
       "    </tr>\n",
       "    <tr>\n",
       "      <th>Comps</th>\n",
       "      <td>2.236646</td>\n",
       "      <td>0.773977</td>\n",
       "      <td>0.162886</td>\n",
       "      <td>0.552778</td>\n",
       "      <td>0.040761</td>\n",
       "      <td>2.286024</td>\n",
       "      <td>3.047756</td>\n",
       "      <td>1.928620</td>\n",
       "      <td>1.675207</td>\n",
       "      <td>1.598438</td>\n",
       "      <td>...</td>\n",
       "      <td>1.937258</td>\n",
       "      <td>1.702751</td>\n",
       "      <td>2.645004</td>\n",
       "      <td>2.382686</td>\n",
       "      <td>1.427268</td>\n",
       "      <td>0.788530</td>\n",
       "      <td>1.124386</td>\n",
       "      <td>1.484375</td>\n",
       "      <td>1.960791</td>\n",
       "      <td>3.088161</td>\n",
       "    </tr>\n",
       "    <tr>\n",
       "      <th>Chips</th>\n",
       "      <td>2.422140</td>\n",
       "      <td>0.831765</td>\n",
       "      <td>0.214360</td>\n",
       "      <td>0.685126</td>\n",
       "      <td>-0.074413</td>\n",
       "      <td>2.462889</td>\n",
       "      <td>3.225394</td>\n",
       "      <td>2.162196</td>\n",
       "      <td>1.828945</td>\n",
       "      <td>1.786095</td>\n",
       "      <td>...</td>\n",
       "      <td>2.354230</td>\n",
       "      <td>1.939418</td>\n",
       "      <td>2.902359</td>\n",
       "      <td>2.619050</td>\n",
       "      <td>1.493300</td>\n",
       "      <td>0.897879</td>\n",
       "      <td>1.235592</td>\n",
       "      <td>1.651095</td>\n",
       "      <td>2.242262</td>\n",
       "      <td>3.277094</td>\n",
       "    </tr>\n",
       "    <tr>\n",
       "      <th>LabEq</th>\n",
       "      <td>1.779671</td>\n",
       "      <td>0.601288</td>\n",
       "      <td>0.150908</td>\n",
       "      <td>0.417055</td>\n",
       "      <td>0.022957</td>\n",
       "      <td>1.730007</td>\n",
       "      <td>2.430722</td>\n",
       "      <td>1.549866</td>\n",
       "      <td>1.350032</td>\n",
       "      <td>1.270131</td>\n",
       "      <td>...</td>\n",
       "      <td>1.574245</td>\n",
       "      <td>1.343439</td>\n",
       "      <td>2.077307</td>\n",
       "      <td>1.840947</td>\n",
       "      <td>1.074165</td>\n",
       "      <td>0.622923</td>\n",
       "      <td>0.858138</td>\n",
       "      <td>1.159531</td>\n",
       "      <td>1.524448</td>\n",
       "      <td>2.447950</td>\n",
       "    </tr>\n",
       "    <tr>\n",
       "      <th>Paper</th>\n",
       "      <td>0.592225</td>\n",
       "      <td>0.352138</td>\n",
       "      <td>0.139214</td>\n",
       "      <td>0.241397</td>\n",
       "      <td>0.318357</td>\n",
       "      <td>0.529973</td>\n",
       "      <td>0.669817</td>\n",
       "      <td>0.528725</td>\n",
       "      <td>0.574259</td>\n",
       "      <td>0.497804</td>\n",
       "      <td>...</td>\n",
       "      <td>0.694243</td>\n",
       "      <td>0.555729</td>\n",
       "      <td>0.576718</td>\n",
       "      <td>0.733606</td>\n",
       "      <td>0.382333</td>\n",
       "      <td>0.345319</td>\n",
       "      <td>0.491369</td>\n",
       "      <td>0.304304</td>\n",
       "      <td>0.483621</td>\n",
       "      <td>0.683673</td>\n",
       "    </tr>\n",
       "    <tr>\n",
       "      <th>Boxes</th>\n",
       "      <td>0.675857</td>\n",
       "      <td>0.401276</td>\n",
       "      <td>0.108468</td>\n",
       "      <td>0.176188</td>\n",
       "      <td>0.423039</td>\n",
       "      <td>0.739042</td>\n",
       "      <td>1.102148</td>\n",
       "      <td>0.813174</td>\n",
       "      <td>0.705646</td>\n",
       "      <td>0.649027</td>\n",
       "      <td>...</td>\n",
       "      <td>2.824703</td>\n",
       "      <td>0.793430</td>\n",
       "      <td>0.945137</td>\n",
       "      <td>1.008457</td>\n",
       "      <td>0.526846</td>\n",
       "      <td>0.465949</td>\n",
       "      <td>0.701244</td>\n",
       "      <td>0.572771</td>\n",
       "      <td>0.780603</td>\n",
       "      <td>0.950639</td>\n",
       "    </tr>\n",
       "    <tr>\n",
       "      <th>Trans</th>\n",
       "      <td>0.737812</td>\n",
       "      <td>0.380673</td>\n",
       "      <td>0.201402</td>\n",
       "      <td>0.304294</td>\n",
       "      <td>0.232124</td>\n",
       "      <td>0.750297</td>\n",
       "      <td>0.926713</td>\n",
       "      <td>0.674649</td>\n",
       "      <td>0.705524</td>\n",
       "      <td>0.668971</td>\n",
       "      <td>...</td>\n",
       "      <td>0.793430</td>\n",
       "      <td>1.013300</td>\n",
       "      <td>0.837988</td>\n",
       "      <td>0.927272</td>\n",
       "      <td>0.508416</td>\n",
       "      <td>0.424859</td>\n",
       "      <td>0.577278</td>\n",
       "      <td>0.529677</td>\n",
       "      <td>0.710902</td>\n",
       "      <td>0.976550</td>\n",
       "    </tr>\n",
       "    <tr>\n",
       "      <th>Whlsl</th>\n",
       "      <td>1.155989</td>\n",
       "      <td>0.380310</td>\n",
       "      <td>0.190329</td>\n",
       "      <td>0.354692</td>\n",
       "      <td>0.216912</td>\n",
       "      <td>1.076796</td>\n",
       "      <td>1.389451</td>\n",
       "      <td>0.879537</td>\n",
       "      <td>0.788258</td>\n",
       "      <td>0.776369</td>\n",
       "      <td>...</td>\n",
       "      <td>0.945137</td>\n",
       "      <td>0.837988</td>\n",
       "      <td>1.423802</td>\n",
       "      <td>1.133046</td>\n",
       "      <td>0.731324</td>\n",
       "      <td>0.415677</td>\n",
       "      <td>0.590704</td>\n",
       "      <td>0.774965</td>\n",
       "      <td>0.888090</td>\n",
       "      <td>1.417076</td>\n",
       "    </tr>\n",
       "    <tr>\n",
       "      <th>Rtail</th>\n",
       "      <td>1.117565</td>\n",
       "      <td>0.488969</td>\n",
       "      <td>0.148208</td>\n",
       "      <td>0.392893</td>\n",
       "      <td>0.248806</td>\n",
       "      <td>1.068958</td>\n",
       "      <td>1.417733</td>\n",
       "      <td>0.975707</td>\n",
       "      <td>0.926162</td>\n",
       "      <td>0.872679</td>\n",
       "      <td>...</td>\n",
       "      <td>1.008457</td>\n",
       "      <td>0.927272</td>\n",
       "      <td>1.133046</td>\n",
       "      <td>1.530961</td>\n",
       "      <td>0.772496</td>\n",
       "      <td>0.541939</td>\n",
       "      <td>0.765370</td>\n",
       "      <td>0.764729</td>\n",
       "      <td>0.963891</td>\n",
       "      <td>1.309857</td>\n",
       "    </tr>\n",
       "    <tr>\n",
       "      <th>Meals</th>\n",
       "      <td>0.709097</td>\n",
       "      <td>0.293716</td>\n",
       "      <td>0.078515</td>\n",
       "      <td>0.239497</td>\n",
       "      <td>0.081767</td>\n",
       "      <td>0.621852</td>\n",
       "      <td>0.820577</td>\n",
       "      <td>0.542538</td>\n",
       "      <td>0.540149</td>\n",
       "      <td>0.473719</td>\n",
       "      <td>...</td>\n",
       "      <td>0.526846</td>\n",
       "      <td>0.508416</td>\n",
       "      <td>0.731324</td>\n",
       "      <td>0.772496</td>\n",
       "      <td>0.787990</td>\n",
       "      <td>0.307182</td>\n",
       "      <td>0.439330</td>\n",
       "      <td>0.468899</td>\n",
       "      <td>0.556659</td>\n",
       "      <td>0.812185</td>\n",
       "    </tr>\n",
       "    <tr>\n",
       "      <th>Banks</th>\n",
       "      <td>0.395677</td>\n",
       "      <td>0.272643</td>\n",
       "      <td>0.176281</td>\n",
       "      <td>0.176647</td>\n",
       "      <td>0.231222</td>\n",
       "      <td>0.375584</td>\n",
       "      <td>0.495367</td>\n",
       "      <td>0.435031</td>\n",
       "      <td>0.403955</td>\n",
       "      <td>0.338704</td>\n",
       "      <td>...</td>\n",
       "      <td>0.465949</td>\n",
       "      <td>0.424859</td>\n",
       "      <td>0.415677</td>\n",
       "      <td>0.541939</td>\n",
       "      <td>0.307182</td>\n",
       "      <td>0.388387</td>\n",
       "      <td>0.449062</td>\n",
       "      <td>0.300682</td>\n",
       "      <td>0.428117</td>\n",
       "      <td>0.470194</td>\n",
       "    </tr>\n",
       "    <tr>\n",
       "      <th>Insur</th>\n",
       "      <td>0.489981</td>\n",
       "      <td>0.416386</td>\n",
       "      <td>0.217148</td>\n",
       "      <td>0.270075</td>\n",
       "      <td>0.400145</td>\n",
       "      <td>0.503673</td>\n",
       "      <td>0.697034</td>\n",
       "      <td>0.570390</td>\n",
       "      <td>0.556701</td>\n",
       "      <td>0.457211</td>\n",
       "      <td>...</td>\n",
       "      <td>0.701244</td>\n",
       "      <td>0.577278</td>\n",
       "      <td>0.590704</td>\n",
       "      <td>0.765370</td>\n",
       "      <td>0.439330</td>\n",
       "      <td>0.449062</td>\n",
       "      <td>0.794461</td>\n",
       "      <td>0.465419</td>\n",
       "      <td>0.605038</td>\n",
       "      <td>0.754056</td>\n",
       "    </tr>\n",
       "    <tr>\n",
       "      <th>RlEst</th>\n",
       "      <td>0.761949</td>\n",
       "      <td>0.311370</td>\n",
       "      <td>0.255071</td>\n",
       "      <td>0.180724</td>\n",
       "      <td>0.125215</td>\n",
       "      <td>0.574845</td>\n",
       "      <td>0.893854</td>\n",
       "      <td>0.571407</td>\n",
       "      <td>0.478294</td>\n",
       "      <td>0.488749</td>\n",
       "      <td>...</td>\n",
       "      <td>0.572771</td>\n",
       "      <td>0.529677</td>\n",
       "      <td>0.774965</td>\n",
       "      <td>0.764729</td>\n",
       "      <td>0.468899</td>\n",
       "      <td>0.300682</td>\n",
       "      <td>0.465419</td>\n",
       "      <td>1.730216</td>\n",
       "      <td>0.609049</td>\n",
       "      <td>0.749698</td>\n",
       "    </tr>\n",
       "    <tr>\n",
       "      <th>Fin</th>\n",
       "      <td>0.757952</td>\n",
       "      <td>0.347333</td>\n",
       "      <td>0.099759</td>\n",
       "      <td>0.304823</td>\n",
       "      <td>0.254705</td>\n",
       "      <td>0.822814</td>\n",
       "      <td>1.081835</td>\n",
       "      <td>0.740154</td>\n",
       "      <td>0.696822</td>\n",
       "      <td>0.637130</td>\n",
       "      <td>...</td>\n",
       "      <td>0.780603</td>\n",
       "      <td>0.710902</td>\n",
       "      <td>0.888090</td>\n",
       "      <td>0.963891</td>\n",
       "      <td>0.556659</td>\n",
       "      <td>0.428117</td>\n",
       "      <td>0.605038</td>\n",
       "      <td>0.609049</td>\n",
       "      <td>0.981691</td>\n",
       "      <td>1.066152</td>\n",
       "    </tr>\n",
       "    <tr>\n",
       "      <th>Other</th>\n",
       "      <td>1.125099</td>\n",
       "      <td>0.500407</td>\n",
       "      <td>0.110434</td>\n",
       "      <td>0.377457</td>\n",
       "      <td>0.215980</td>\n",
       "      <td>1.311137</td>\n",
       "      <td>1.697419</td>\n",
       "      <td>1.051866</td>\n",
       "      <td>1.009922</td>\n",
       "      <td>0.921421</td>\n",
       "      <td>...</td>\n",
       "      <td>0.950639</td>\n",
       "      <td>0.976550</td>\n",
       "      <td>1.417076</td>\n",
       "      <td>1.309857</td>\n",
       "      <td>0.812185</td>\n",
       "      <td>0.470194</td>\n",
       "      <td>0.754056</td>\n",
       "      <td>0.749698</td>\n",
       "      <td>1.066152</td>\n",
       "      <td>2.497208</td>\n",
       "    </tr>\n",
       "  </tbody>\n",
       "</table>\n",
       "<p>48 rows × 48 columns</p>\n",
       "</div>"
      ],
      "text/plain": [
       "          Agric     Food      Soda      Beer      Smoke     Toys      Fun    \\\n",
       "Agric  4.476736  0.305888  0.334408  0.383505  0.462988  0.963494  1.344726   \n",
       "Food   0.305888  0.641337  0.097889  0.205586  0.232098  0.328701  0.433277   \n",
       "Soda   0.334408  0.097889  1.435297  0.197297  0.283600  0.284918  0.181260   \n",
       "Beer   0.383505  0.205586  0.197297  1.046189  0.320712  0.338244  0.273925   \n",
       "Smoke  0.462988  0.232098  0.283600  0.320712  4.667449  0.272841  0.416019   \n",
       "Toys   0.963494  0.328701  0.284918  0.338244  0.272841  1.831402  1.344573   \n",
       "Fun    1.344726  0.433277  0.181260  0.273925  0.416019  1.344573  2.485029   \n",
       "Books  0.812422  0.390674  0.237269  0.256746  0.348811  0.798667  1.041957   \n",
       "Hshld  0.713505  0.375327  0.104709  0.234177  0.151415  0.792360  0.965470   \n",
       "Clths  0.579485  0.335591  0.173042  0.299046  0.240603  0.795690  0.861981   \n",
       "Hlth   1.004968  0.343046  0.201789  0.282774  0.355120  0.873501  1.169622   \n",
       "MedEq  1.379036  0.443516  0.093951  0.363287  0.248713  1.312792  1.781350   \n",
       "Drugs  2.157616  0.821199  0.173575  0.523638  0.405129  2.054333  2.945161   \n",
       "Chems  0.602323  0.426386  0.118836  0.239437  0.599570  0.705428  0.882967   \n",
       "Rubbr  0.937126  0.370632  0.127516  0.264427  0.109593  0.820001  1.002581   \n",
       "Txtls  0.305072  0.172011  0.365710  0.134673  0.154582  0.486257  0.440021   \n",
       "BldMt  0.611774  0.307084  0.127417  0.215599  0.313560  0.688958  0.865793   \n",
       "Cnstr  0.711700  0.379886  0.079420  0.327335  0.131927  0.871218  1.061620   \n",
       "Steel  0.921479  0.440306  0.195126  0.302084  0.423768  0.914292  1.105891   \n",
       "FabPr  0.892756  0.380786 -0.109745  0.255893 -0.009131  0.920804  1.176980   \n",
       "Mach   1.070071  0.454497  0.139205  0.340817  0.234562  1.145225  1.426654   \n",
       "ElcEq  1.167794  0.507365  0.167332  0.353745  0.189404  1.230111  1.709991   \n",
       "Autos  0.720437  0.378863  0.216941  0.235813  0.420504  0.669347  0.793730   \n",
       "Aero   0.771559  0.258874  0.068082  0.165787  0.261223  0.609369  0.805203   \n",
       "Ships  0.401625  0.401388  0.041330  0.261842 -0.050633  0.605395  0.624589   \n",
       "Guns   0.479535  0.246875 -0.228674  0.026804 -0.578142  0.229134  0.290058   \n",
       "Gold   1.237993 -0.062051  0.053425 -0.057400 -0.379964  0.447263  0.665395   \n",
       "Mines  0.534097  0.088265  0.163597  0.166873  0.115871  0.360860  0.326292   \n",
       "Coal   0.608720  0.179915 -0.033719  0.126926 -0.180504  0.367946  0.417737   \n",
       "Oil    0.479583  0.267130  0.256983  0.201102  0.092244  0.702085  0.617253   \n",
       "Util   0.254286  0.242847  0.230461  0.232567  0.350811  0.141222  0.170256   \n",
       "Telcm  2.128055  0.830240  0.246770  0.561560  0.207064  2.098802  2.890100   \n",
       "PerSv  0.909307  0.363207  0.138588  0.389766  0.312520  0.894452  1.057768   \n",
       "BusSv  2.023240  0.707140  0.174565  0.522431  0.152483  2.071365  2.742636   \n",
       "Comps  2.236646  0.773977  0.162886  0.552778  0.040761  2.286024  3.047756   \n",
       "Chips  2.422140  0.831765  0.214360  0.685126 -0.074413  2.462889  3.225394   \n",
       "LabEq  1.779671  0.601288  0.150908  0.417055  0.022957  1.730007  2.430722   \n",
       "Paper  0.592225  0.352138  0.139214  0.241397  0.318357  0.529973  0.669817   \n",
       "Boxes  0.675857  0.401276  0.108468  0.176188  0.423039  0.739042  1.102148   \n",
       "Trans  0.737812  0.380673  0.201402  0.304294  0.232124  0.750297  0.926713   \n",
       "Whlsl  1.155989  0.380310  0.190329  0.354692  0.216912  1.076796  1.389451   \n",
       "Rtail  1.117565  0.488969  0.148208  0.392893  0.248806  1.068958  1.417733   \n",
       "Meals  0.709097  0.293716  0.078515  0.239497  0.081767  0.621852  0.820577   \n",
       "Banks  0.395677  0.272643  0.176281  0.176647  0.231222  0.375584  0.495367   \n",
       "Insur  0.489981  0.416386  0.217148  0.270075  0.400145  0.503673  0.697034   \n",
       "RlEst  0.761949  0.311370  0.255071  0.180724  0.125215  0.574845  0.893854   \n",
       "Fin    0.757952  0.347333  0.099759  0.304823  0.254705  0.822814  1.081835   \n",
       "Other  1.125099  0.500407  0.110434  0.377457  0.215980  1.311137  1.697419   \n",
       "\n",
       "          Books     Hshld     Clths    ...        Boxes     Trans     Whlsl  \\\n",
       "Agric  0.812422  0.713505  0.579485    ...     0.675857  0.737812  1.155989   \n",
       "Food   0.390674  0.375327  0.335591    ...     0.401276  0.380673  0.380310   \n",
       "Soda   0.237269  0.104709  0.173042    ...     0.108468  0.201402  0.190329   \n",
       "Beer   0.256746  0.234177  0.299046    ...     0.176188  0.304294  0.354692   \n",
       "Smoke  0.348811  0.151415  0.240603    ...     0.423039  0.232124  0.216912   \n",
       "Toys   0.798667  0.792360  0.795690    ...     0.739042  0.750297  1.076796   \n",
       "Fun    1.041957  0.965470  0.861981    ...     1.102148  0.926713  1.389451   \n",
       "Books  1.388765  0.713032  0.665323    ...     0.813174  0.674649  0.879537   \n",
       "Hshld  0.713032  1.060416  0.609836    ...     0.705646  0.705524  0.788258   \n",
       "Clths  0.665323  0.609836  0.976200    ...     0.649027  0.668971  0.776369   \n",
       "Hlth   0.865597  0.717510  0.598658    ...     0.574709  0.704319  0.989184   \n",
       "MedEq  1.042840  0.993592  0.807029    ...     0.889132  0.835357  1.456075   \n",
       "Drugs  1.868085  1.582093  1.490809    ...     1.619954  1.465783  2.471785   \n",
       "Chems  0.646218  0.631168  0.597907    ...     0.860319  0.672714  0.719906   \n",
       "Rubbr  0.737576  0.620445  0.609626    ...     0.774157  0.631185  0.833979   \n",
       "Txtls  0.387882  0.400432  0.415837    ...     0.393510  0.395956  0.432610   \n",
       "BldMt  0.604538  0.577061  0.582740    ...     0.693297  0.606316  0.738749   \n",
       "Cnstr  0.754041  0.715570  0.646965    ...     0.785824  0.714355  0.939227   \n",
       "Steel  0.812946  0.784100  0.767488    ...     0.883554  0.817663  0.988267   \n",
       "FabPr  0.674750  0.800928  0.617148    ...     0.798397  0.828968  1.062180   \n",
       "Mach   0.984673  0.912308  0.870151    ...     1.206850  0.931573  1.259535   \n",
       "ElcEq  1.097245  0.959763  0.907265    ...     1.063933  0.962961  1.396262   \n",
       "Autos  0.594337  0.618879  0.570806    ...     0.693289  0.636443  0.734396   \n",
       "Aero   0.517853  0.511429  0.519236    ...     0.574740  0.631772  0.611875   \n",
       "Ships  0.595335  0.526099  0.601042    ...     0.770439  0.582923  0.616622   \n",
       "Guns   0.325816  0.421072  0.357177    ...     0.491071  0.507372  0.320302   \n",
       "Gold   0.266354  0.194766  0.035493    ...     0.319808  0.295375  0.464712   \n",
       "Mines  0.061716  0.300483  0.300624    ...     0.578047  0.354416  0.339847   \n",
       "Coal   0.703905  0.357506  0.388940    ...     0.652969  0.396432  0.588388   \n",
       "Oil    0.553457  0.411484  0.396107    ...     0.590200  0.460443  0.677986   \n",
       "Util   0.260850  0.241999  0.219198    ...     0.418769  0.263320  0.150584   \n",
       "Telcm  1.882096  1.662794  1.536652    ...     1.925258  1.712353  2.406681   \n",
       "PerSv  0.834250  0.742298  0.667033    ...     0.679239  0.710405  0.952086   \n",
       "BusSv  1.795518  1.582872  1.439216    ...     1.744998  1.558825  2.370942   \n",
       "Comps  1.928620  1.675207  1.598438    ...     1.937258  1.702751  2.645004   \n",
       "Chips  2.162196  1.828945  1.786095    ...     2.354230  1.939418  2.902359   \n",
       "LabEq  1.549866  1.350032  1.270131    ...     1.574245  1.343439  2.077307   \n",
       "Paper  0.528725  0.574259  0.497804    ...     0.694243  0.555729  0.576718   \n",
       "Boxes  0.813174  0.705646  0.649027    ...     2.824703  0.793430  0.945137   \n",
       "Trans  0.674649  0.705524  0.668971    ...     0.793430  1.013300  0.837988   \n",
       "Whlsl  0.879537  0.788258  0.776369    ...     0.945137  0.837988  1.423802   \n",
       "Rtail  0.975707  0.926162  0.872679    ...     1.008457  0.927272  1.133046   \n",
       "Meals  0.542538  0.540149  0.473719    ...     0.526846  0.508416  0.731324   \n",
       "Banks  0.435031  0.403955  0.338704    ...     0.465949  0.424859  0.415677   \n",
       "Insur  0.570390  0.556701  0.457211    ...     0.701244  0.577278  0.590704   \n",
       "RlEst  0.571407  0.478294  0.488749    ...     0.572771  0.529677  0.774965   \n",
       "Fin    0.740154  0.696822  0.637130    ...     0.780603  0.710902  0.888090   \n",
       "Other  1.051866  1.009922  0.921421    ...     0.950639  0.976550  1.417076   \n",
       "\n",
       "          Rtail     Meals     Banks     Insur     RlEst     Fin       Other  \n",
       "Agric  1.117565  0.709097  0.395677  0.489981  0.761949  0.757952  1.125099  \n",
       "Food   0.488969  0.293716  0.272643  0.416386  0.311370  0.347333  0.500407  \n",
       "Soda   0.148208  0.078515  0.176281  0.217148  0.255071  0.099759  0.110434  \n",
       "Beer   0.392893  0.239497  0.176647  0.270075  0.180724  0.304823  0.377457  \n",
       "Smoke  0.248806  0.081767  0.231222  0.400145  0.125215  0.254705  0.215980  \n",
       "Toys   1.068958  0.621852  0.375584  0.503673  0.574845  0.822814  1.311137  \n",
       "Fun    1.417733  0.820577  0.495367  0.697034  0.893854  1.081835  1.697419  \n",
       "Books  0.975707  0.542538  0.435031  0.570390  0.571407  0.740154  1.051866  \n",
       "Hshld  0.926162  0.540149  0.403955  0.556701  0.478294  0.696822  1.009922  \n",
       "Clths  0.872679  0.473719  0.338704  0.457211  0.488749  0.637130  0.921421  \n",
       "Hlth   0.995086  0.616666  0.394082  0.587152  0.581410  0.773683  1.267157  \n",
       "MedEq  1.238102  0.765052  0.392452  0.590633  0.814208  0.987716  1.816012  \n",
       "Drugs  2.101075  1.239016  0.726685  1.074154  1.404141  1.712992  3.098507  \n",
       "Chems  0.841761  0.457641  0.372486  0.582758  0.393217  0.631739  0.855548  \n",
       "Rubbr  0.905913  0.551121  0.347880  0.474017  0.462046  0.618785  1.011699  \n",
       "Txtls  0.426981  0.289655  0.230263  0.259001  0.505054  0.328376  0.423803  \n",
       "BldMt  0.787904  0.444467  0.349993  0.477686  0.513592  0.623003  0.847190  \n",
       "Cnstr  0.979272  0.542745  0.363878  0.556692  0.573839  0.829015  1.177455  \n",
       "Steel  1.009266  0.618904  0.440485  0.613049  0.707395  0.793873  1.050518  \n",
       "FabPr  1.059255  0.607688  0.376488  0.517493  0.572337  0.779114  1.132814  \n",
       "Mach   1.220510  0.679955  0.470226  0.646018  0.780087  0.996492  1.468273  \n",
       "ElcEq  1.370841  0.777012  0.476920  0.690750  0.876930  1.081182  1.658546  \n",
       "Autos  0.866014  0.494439  0.383071  0.576696  0.609006  0.600322  0.868037  \n",
       "Aero   0.745198  0.486939  0.344904  0.419587  0.439724  0.561839  0.696102  \n",
       "Ships  0.751031  0.447451  0.330264  0.462935  0.413741  0.601203  0.824760  \n",
       "Guns   0.552905  0.224362  0.272653  0.383163  0.237914  0.282307  0.532892  \n",
       "Gold   0.410780  0.277587  0.125232  0.031556  0.294711  0.477928  0.398091  \n",
       "Mines  0.395597  0.112065  0.202007  0.372108  0.243269  0.319452  0.396986  \n",
       "Coal   0.645025  0.282213  0.254139  0.346115  0.566840  0.351090  0.729311  \n",
       "Oil    0.522026  0.244155  0.219564  0.324431  0.351395  0.455314  0.697870  \n",
       "Util   0.282523  0.135363  0.200719  0.320285  0.177243  0.176817  0.175843  \n",
       "Telcm  2.361525  1.410479  0.855240  1.197998  1.453646  1.969842  2.908624  \n",
       "PerSv  1.071355  0.584131  0.424032  0.600933  0.491284  0.787043  1.136603  \n",
       "BusSv  2.188858  1.283730  0.755798  1.067761  1.411422  1.794781  2.829914  \n",
       "Comps  2.382686  1.427268  0.788530  1.124386  1.484375  1.960791  3.088161  \n",
       "Chips  2.619050  1.493300  0.897879  1.235592  1.651095  2.242262  3.277094  \n",
       "LabEq  1.840947  1.074165  0.622923  0.858138  1.159531  1.524448  2.447950  \n",
       "Paper  0.733606  0.382333  0.345319  0.491369  0.304304  0.483621  0.683673  \n",
       "Boxes  1.008457  0.526846  0.465949  0.701244  0.572771  0.780603  0.950639  \n",
       "Trans  0.927272  0.508416  0.424859  0.577278  0.529677  0.710902  0.976550  \n",
       "Whlsl  1.133046  0.731324  0.415677  0.590704  0.774965  0.888090  1.417076  \n",
       "Rtail  1.530961  0.772496  0.541939  0.765370  0.764729  0.963891  1.309857  \n",
       "Meals  0.772496  0.787990  0.307182  0.439330  0.468899  0.556659  0.812185  \n",
       "Banks  0.541939  0.307182  0.388387  0.449062  0.300682  0.428117  0.470194  \n",
       "Insur  0.765370  0.439330  0.449062  0.794461  0.465419  0.605038  0.754056  \n",
       "RlEst  0.764729  0.468899  0.300682  0.465419  1.730216  0.609049  0.749698  \n",
       "Fin    0.963891  0.556659  0.428117  0.605038  0.609049  0.981691  1.066152  \n",
       "Other  1.309857  0.812185  0.470194  0.754056  0.749698  1.066152  2.497208  \n",
       "\n",
       "[48 rows x 48 columns]"
      ]
     },
     "execution_count": 15,
     "metadata": {},
     "output_type": "execute_result"
    }
   ],
   "source": [
    "cov=two_thousand.cov()\n",
    "cov"
   ]
  },
  {
   "cell_type": "markdown",
   "metadata": {
    "hideCode": false,
    "hidePrompt": false
   },
   "source": [
    "## Part B"
   ]
  },
  {
   "cell_type": "markdown",
   "metadata": {
    "hideCode": false,
    "hidePrompt": false
   },
   "source": [
    "### Naive Portfolio"
   ]
  },
  {
   "cell_type": "code",
   "execution_count": 16,
   "metadata": {
    "hideCode": false,
    "hidePrompt": false
   },
   "outputs": [
    {
     "data": {
      "text/plain": [
       "0.056224696356275305"
      ]
     },
     "execution_count": 16,
     "metadata": {},
     "output_type": "execute_result"
    }
   ],
   "source": [
    "mu_naive=mu.mean()\n",
    "mu_naive"
   ]
  },
  {
   "cell_type": "code",
   "execution_count": 17,
   "metadata": {
    "hideCode": false,
    "hidePrompt": false
   },
   "outputs": [
    {
     "data": {
      "text/plain": [
       "0.9381017139284195"
      ]
     },
     "execution_count": 17,
     "metadata": {},
     "output_type": "execute_result"
    }
   ],
   "source": [
    "sigma_naive=two_thousand.mean(axis=1).std()\n",
    "sigma_naive"
   ]
  },
  {
   "cell_type": "markdown",
   "metadata": {
    "hideCode": false,
    "hidePrompt": false
   },
   "source": [
    "### Market Portfolio"
   ]
  },
  {
   "cell_type": "code",
   "execution_count": 18,
   "metadata": {
    "hideCode": false,
    "hidePrompt": false
   },
   "outputs": [
    {
     "data": {
      "text/plain": [
       "-0.03745642130493899"
      ]
     },
     "execution_count": 18,
     "metadata": {},
     "output_type": "execute_result"
    }
   ],
   "source": [
    "mu_market=sp.mean()\n",
    "mu_market"
   ]
  },
  {
   "cell_type": "code",
   "execution_count": 19,
   "metadata": {
    "hideCode": false,
    "hidePrompt": false
   },
   "outputs": [
    {
     "data": {
      "text/plain": [
       "1.4096809658584084"
      ]
     },
     "execution_count": 19,
     "metadata": {},
     "output_type": "execute_result"
    }
   ],
   "source": [
    "sigma_market=sp.std()\n",
    "sigma_market"
   ]
  },
  {
   "cell_type": "markdown",
   "metadata": {
    "hideCode": false,
    "hidePrompt": false
   },
   "source": [
    "### MVP Portfolio"
   ]
  },
  {
   "cell_type": "code",
   "execution_count": 20,
   "metadata": {
    "hideCode": false,
    "hidePrompt": false
   },
   "outputs": [],
   "source": [
    "from numpy.linalg import inv"
   ]
  },
  {
   "cell_type": "code",
   "execution_count": 21,
   "metadata": {
    "hideCode": false,
    "hidePrompt": false
   },
   "outputs": [],
   "source": [
    "one_vector=np.ones((48,1))"
   ]
  },
  {
   "cell_type": "code",
   "execution_count": 22,
   "metadata": {
    "hideCode": false,
    "hidePrompt": false
   },
   "outputs": [],
   "source": [
    "sigma_mvp=1/np.sqrt(np.matmul(np.matmul(one_vector.T,inv(cov)),one_vector))"
   ]
  },
  {
   "cell_type": "code",
   "execution_count": 23,
   "metadata": {
    "hideCode": false,
    "hidePrompt": false
   },
   "outputs": [
    {
     "data": {
      "text/plain": [
       "0.38871862083544489"
      ]
     },
     "execution_count": 23,
     "metadata": {},
     "output_type": "execute_result"
    }
   ],
   "source": [
    "sigma_mvp=sigma_mvp[0][0]\n",
    "sigma_mvp"
   ]
  },
  {
   "cell_type": "code",
   "execution_count": 24,
   "metadata": {
    "hideCode": false,
    "hidePrompt": false
   },
   "outputs": [],
   "source": [
    "weights_mvp=sigma_mvp**2*np.matmul(inv(cov),one_vector)"
   ]
  },
  {
   "cell_type": "code",
   "execution_count": 25,
   "metadata": {
    "hideCode": false,
    "hidePrompt": false
   },
   "outputs": [],
   "source": [
    "weights_mvp=weights_mvp.flatten()"
   ]
  },
  {
   "cell_type": "code",
   "execution_count": 26,
   "metadata": {
    "hideCode": false,
    "hidePrompt": false
   },
   "outputs": [],
   "source": [
    "mu_mvp=(weights_mvp*two_thousand).mean(axis=1).mean()"
   ]
  },
  {
   "cell_type": "code",
   "execution_count": 27,
   "metadata": {
    "hideCode": false,
    "hidePrompt": false
   },
   "outputs": [
    {
     "data": {
      "text/plain": [
       "0.0035846118927963973"
      ]
     },
     "execution_count": 27,
     "metadata": {},
     "output_type": "execute_result"
    }
   ],
   "source": [
    "mu_mvp"
   ]
  },
  {
   "cell_type": "markdown",
   "metadata": {
    "hideCode": false,
    "hidePrompt": false
   },
   "source": [
    "### Random 2 Sector Efficient Frontiers"
   ]
  },
  {
   "cell_type": "code",
   "execution_count": 28,
   "metadata": {
    "hideCode": false,
    "hidePrompt": false
   },
   "outputs": [
    {
     "data": {
      "text/plain": [
       "Text(0,0.5,'\\\\mu')"
      ]
     },
     "execution_count": 28,
     "metadata": {},
     "output_type": "execute_result"
    },
    {
     "data": {
      "image/png": "[encoded data removed]",
      "text/plain": [
       "<Figure size 720x576 with 1 Axes>"
      ]
     },
     "metadata": {},
     "output_type": "display_data"
    }
   ],
   "source": [
    "mpl.rcParams['figure.figsize']=[10,8]\n",
    "legend=[]\n",
    "for j in range(5):\n",
    "    rand_sectors=np.random.choice(range(48),size=2)\n",
    "    mus={}\n",
    "    sigmas={}\n",
    "    for i in range(2):\n",
    "        mus[i]=two_thousand[two_thousand.columns[rand_sectors][i]].mean()\n",
    "        sigmas[i]=two_thousand[two_thousand.columns[rand_sectors][i]].std()\n",
    "    \n",
    "    cov12=two_thousand[two_thousand.columns[rand_sectors][0]].cov(two_thousand[two_thousand.columns[rand_sectors][1]])\n",
    "    mus_array=np.array(list(mus.values()))\n",
    "    sigmas_array=np.array(list(sigmas.values()))\n",
    "    cov=two_thousand[two_thousand.columns[rand_sectors]].cov()\n",
    "    one_vector=np.array([1,0])\n",
    "    \n",
    "    sigma_mvp=1/np.sqrt(one_vector.T@inv(cov)@one_vector)\n",
    "    #sigma_mvp=sigma_mvp[0][0]\n",
    "    weights_mvp=sigma_mvp**2*inv(cov)@one_vector\n",
    "    mu_mvp=(two_thousand[two_thousand.columns[rand_sectors]]@weights_mvp).mean()\n",
    "    mus_v=np.linspace(mus_array[0],mus_array[1],100)\n",
    "    w1=((mus_v-mus_array[1])/(mus_array[0]-mus_array[1])).reshape((100,1))\n",
    "    w2=((mus_array[0]-mus_v)/(mus_array[0]-mus_array[1])).reshape((100,1))\n",
    "    w=np.concatenate((w1,w2),axis=1)\n",
    "    sigma_v=np.diag(w@cov@w.T)\n",
    "    \n",
    "    plt.plot(sigma_v,mus_v)\n",
    "    s=\" \"\n",
    "    title=s.join(list(two_thousand.columns[rand_sectors]))\n",
    "    legend.append(title)\n",
    "plt.legend(legend)\n",
    "plt.title(\"5 Efficient Frontiers with 2 Random Sectors Each\")\n",
    "plt.xlabel(\"\\sigma\")\n",
    "plt.ylabel(\"\\mu\")"
   ]
  },
  {
   "cell_type": "markdown",
   "metadata": {
    "hideCode": false,
    "hidePrompt": false
   },
   "source": [
    "# Part C"
   ]
  },
  {
   "cell_type": "code",
   "execution_count": 29,
   "metadata": {
    "hideCode": false,
    "hidePrompt": false
   },
   "outputs": [],
   "source": [
    "mu_test=np.linspace(-1,1,500)"
   ]
  },
  {
   "cell_type": "code",
   "execution_count": 30,
   "metadata": {
    "hideCode": false,
    "hidePrompt": false
   },
   "outputs": [],
   "source": [
    "cov=two_thousand.cov()"
   ]
  },
  {
   "cell_type": "code",
   "execution_count": 31,
   "metadata": {
    "hideCode": false,
    "hidePrompt": false
   },
   "outputs": [],
   "source": [
    "sigma_vs=[]\n",
    "for i in mu_test:\n",
    "    mu_tilde=np.array([i,1])\n",
    "    m_tilde=np.concatenate((mu.values.reshape((48,1)),np.ones((48,1))),axis=1)\n",
    "    B=m_tilde.T@inv(cov)@m_tilde\n",
    "    sigma_v=np.sqrt(mu_tilde.T@inv(B)@m_tilde.T@inv(cov)@m_tilde@inv(B)@mu_tilde)\n",
    "    sigma_vs.append(sigma_v)"
   ]
  },
  {
   "cell_type": "code",
   "execution_count": 32,
   "metadata": {
    "hideCode": false,
    "hidePrompt": false
   },
   "outputs": [],
   "source": [
    "one_vector=np.ones((48,1))"
   ]
  },
  {
   "cell_type": "code",
   "execution_count": 33,
   "metadata": {
    "hideCode": false,
    "hidePrompt": false
   },
   "outputs": [],
   "source": [
    "sigma_mvp=1/np.sqrt(np.matmul(np.matmul(one_vector.T,inv(cov)),one_vector))\n",
    "sigma_mvp=sigma_mvp[0][0]\n",
    "weights_mvp=sigma_mvp**2*np.matmul(inv(cov),one_vector)\n",
    "mu_mvp=((two_thousand@weights_mvp).mean()).values[0]"
   ]
  },
  {
   "cell_type": "code",
   "execution_count": 34,
   "metadata": {
    "hideCode": false,
    "hidePrompt": false
   },
   "outputs": [
    {
     "data": {
      "text/plain": [
       "0.1720613708542271"
      ]
     },
     "execution_count": 34,
     "metadata": {},
     "output_type": "execute_result"
    }
   ],
   "source": [
    "mu_mvp"
   ]
  },
  {
   "cell_type": "code",
   "execution_count": 35,
   "metadata": {
    "hideCode": false,
    "hidePrompt": false
   },
   "outputs": [],
   "source": [
    "m_ex=mu.values-(libor.mean()*one_vector).flatten()"
   ]
  },
  {
   "cell_type": "code",
   "execution_count": 36,
   "metadata": {
    "hideCode": false,
    "hidePrompt": false
   },
   "outputs": [],
   "source": [
    "w_m=(1/(one_vector.T@inv(cov)@m_ex))*inv(cov)@m_ex"
   ]
  },
  {
   "cell_type": "code",
   "execution_count": 37,
   "metadata": {
    "hideCode": false,
    "hidePrompt": false
   },
   "outputs": [
    {
     "data": {
      "text/plain": [
       "0.7221060601781656"
      ]
     },
     "execution_count": 37,
     "metadata": {},
     "output_type": "execute_result"
    }
   ],
   "source": [
    "mu_m=(two_thousand@w_m).mean()\n",
    "mu_m"
   ]
  },
  {
   "cell_type": "code",
   "execution_count": 38,
   "metadata": {
    "hideCode": false,
    "hidePrompt": false
   },
   "outputs": [
    {
     "data": {
      "text/plain": [
       "0.8494475320983548"
      ]
     },
     "execution_count": 38,
     "metadata": {},
     "output_type": "execute_result"
    }
   ],
   "source": [
    "sigma_m=(two_thousand@w_m).std()\n",
    "sigma_m"
   ]
  },
  {
   "cell_type": "code",
   "execution_count": 39,
   "metadata": {
    "hideCode": false,
    "hidePrompt": false
   },
   "outputs": [
    {
     "data": {
      "text/plain": [
       "Text(0.5,1,'Markowitz Bullet and CML')"
      ]
     },
     "execution_count": 39,
     "metadata": {},
     "output_type": "execute_result"
    },
    {
     "data": {
      "image/png": "[encoded data removed]",
      "text/plain": [
       "<Figure size 720x576 with 1 Axes>"
      ]
     },
     "metadata": {},
     "output_type": "display_data"
    }
   ],
   "source": [
    "plt.plot(sigma_vs,mu_test,label=\"Efficient Frontier\")\n",
    "plt.scatter(0,libor.mean(),c=\"r\",label=\"Risk Free Rate\")\n",
    "plt.scatter(sigma_mvp,mu_mvp,c=\"g\",label=\"MVP\")\n",
    "plt.scatter(sigma_m,mu_m,c=\"y\",label=\"Market\")\n",
    "plt.plot([0,sigma_m],[libor.mean(),mu_m],label=\"CML\")\n",
    "plt.grid()\n",
    "plt.legend()\n",
    "plt.title(\"Markowitz Bullet and CML\")"
   ]
  },
  {
   "cell_type": "markdown",
   "metadata": {
    "hideCode": false,
    "hidePrompt": false
   },
   "source": [
    "# Part D"
   ]
  },
  {
   "cell_type": "code",
   "execution_count": 40,
   "metadata": {
    "hideCode": false,
    "hidePrompt": false
   },
   "outputs": [],
   "source": [
    "sigma_vs=np.array(sigma_vs)\n",
    "test_mus=mu_test[mu_test>0]\n",
    "test_sigs=sigma_vs[mu_test>0]\n",
    "three_ix=np.random.randint(low=0,high=len(test_mus),size=3)"
   ]
  },
  {
   "cell_type": "code",
   "execution_count": 41,
   "metadata": {
    "hideCode": false,
    "hidePrompt": false
   },
   "outputs": [],
   "source": [
    "three_ix.sort()"
   ]
  },
  {
   "cell_type": "code",
   "execution_count": 42,
   "metadata": {
    "hideCode": false,
    "hidePrompt": false
   },
   "outputs": [
    {
     "data": {
      "text/plain": [
       "array([ 0.20240481,  1.        ,  1.        ])"
      ]
     },
     "execution_count": 42,
     "metadata": {},
     "output_type": "execute_result"
    }
   ],
   "source": [
    "test_mus[three_ix]"
   ]
  },
  {
   "cell_type": "code",
   "execution_count": 43,
   "metadata": {
    "hideCode": false,
    "hidePrompt": false
   },
   "outputs": [
    {
     "data": {
      "text/plain": [
       "array([ 0.39094526,  1.20149276,  1.20149276])"
      ]
     },
     "execution_count": 43,
     "metadata": {},
     "output_type": "execute_result"
    }
   ],
   "source": [
    "test_sigs[three_ix]"
   ]
  },
  {
   "cell_type": "markdown",
   "metadata": {
    "hideCode": false,
    "hidePrompt": false
   },
   "source": [
    "Always Increasing"
   ]
  },
  {
   "cell_type": "code",
   "execution_count": 44,
   "metadata": {
    "hideCode": false,
    "hidePrompt": false
   },
   "outputs": [],
   "source": [
    "#compute the weight vectors for the test_mus\n",
    "three_mus=test_mus[three_ix]\n",
    "three_mus=np.concatenate((three_mus.reshape((1,3)),np.ones((1,3))))"
   ]
  },
  {
   "cell_type": "code",
   "execution_count": 45,
   "metadata": {
    "hideCode": false,
    "hidePrompt": false
   },
   "outputs": [
    {
     "data": {
      "text/plain": [
       "array([[ 0.20240481,  1.        ,  1.        ],\n",
       "       [ 1.        ,  1.        ,  1.        ]])"
      ]
     },
     "execution_count": 45,
     "metadata": {},
     "output_type": "execute_result"
    }
   ],
   "source": [
    "three_mus"
   ]
  },
  {
   "cell_type": "code",
   "execution_count": 46,
   "metadata": {
    "hideCode": false,
    "hidePrompt": false
   },
   "outputs": [],
   "source": [
    "three_weights=inv(cov)@m_tilde@inv(B)@three_mus"
   ]
  },
  {
   "cell_type": "code",
   "execution_count": 47,
   "metadata": {
    "hideCode": false,
    "hidePrompt": false
   },
   "outputs": [],
   "source": [
    "M=np.stack((three_weights[:,0],three_weights[:,2]),axis=1)"
   ]
  },
  {
   "cell_type": "code",
   "execution_count": 48,
   "metadata": {
    "hideCode": false,
    "hidePrompt": false
   },
   "outputs": [],
   "source": [
    "weights=(inv(M.T@M)@M.T)@three_weights[:,1]"
   ]
  },
  {
   "cell_type": "markdown",
   "metadata": {
    "hideCode": false,
    "hidePrompt": false
   },
   "source": [
    "Moore Penrose Psuedo Inverse"
   ]
  },
  {
   "cell_type": "code",
   "execution_count": 49,
   "metadata": {
    "hideCode": false,
    "hidePrompt": false
   },
   "outputs": [
    {
     "data": {
      "text/plain": [
       "array([  6.93889390e-18,  -1.24900090e-16,  -4.38017678e-17,\n",
       "        -4.51028104e-17,  -2.77555756e-17,  -6.93889390e-18,\n",
       "        -1.73472348e-17,   2.77555756e-17,  -5.55111512e-17,\n",
       "        -1.11022302e-16,  -1.11022302e-16,  -1.66533454e-16,\n",
       "         4.16333634e-17,   6.93889390e-18,  -8.32667268e-17,\n",
       "         2.77555756e-17,   0.00000000e+00,  -1.11022302e-16,\n",
       "         3.33066907e-16,   0.00000000e+00,   0.00000000e+00,\n",
       "        -3.81639165e-17,   5.55111512e-17,  -4.16333634e-17,\n",
       "        -1.38777878e-17,  -1.38777878e-17,  -1.38777878e-17,\n",
       "        -2.77555756e-17,  -5.55111512e-17,  -2.77555756e-17,\n",
       "        -1.11022302e-16,   8.32667268e-17,  -2.77555756e-17,\n",
       "         4.44089210e-16,  -2.77555756e-17,   0.00000000e+00,\n",
       "        -1.11022302e-16,   0.00000000e+00,   0.00000000e+00,\n",
       "        -5.55111512e-17,  -5.55111512e-17,   3.33066907e-16,\n",
       "        -2.22044605e-16,  -4.44089210e-16,   1.66533454e-16,\n",
       "        -1.11022302e-16,  -1.11022302e-16,   4.16333634e-17])"
      ]
     },
     "execution_count": 49,
     "metadata": {},
     "output_type": "execute_result"
    }
   ],
   "source": [
    "(weights[0]*M[:,0]+weights[1]*M[:,1])-three_weights[:,1]"
   ]
  },
  {
   "cell_type": "markdown",
   "metadata": {
    "hideCode": false,
    "hidePrompt": false
   },
   "source": [
    "Small delta difference"
   ]
  },
  {
   "cell_type": "markdown",
   "metadata": {
    "hideCode": false,
    "hidePrompt": false
   },
   "source": [
    "# Part E"
   ]
  },
  {
   "cell_type": "code",
   "execution_count": 50,
   "metadata": {
    "hideCode": false,
    "hidePrompt": false
   },
   "outputs": [
    {
     "data": {
      "text/plain": [
       "True"
      ]
     },
     "execution_count": 50,
     "metadata": {},
     "output_type": "execute_result"
    }
   ],
   "source": [
    "libor.mean()<mu_mvp"
   ]
  },
  {
   "cell_type": "markdown",
   "metadata": {
    "hideCode": false,
    "hidePrompt": false
   },
   "source": [
    "# Part F"
   ]
  },
  {
   "cell_type": "code",
   "execution_count": 51,
   "metadata": {
    "hideCode": false,
    "hidePrompt": false
   },
   "outputs": [
    {
     "data": {
      "text/plain": [
       "0.8190494848557474"
      ]
     },
     "execution_count": 51,
     "metadata": {},
     "output_type": "execute_result"
    }
   ],
   "source": [
    "slope=((mu_m-libor.mean())/sigma_m)\n",
    "slope"
   ]
  },
  {
   "cell_type": "code",
   "execution_count": 52,
   "metadata": {
    "hideCode": false,
    "hidePrompt": false
   },
   "outputs": [
    {
     "data": {
      "text/plain": [
       "0.026366496601022228"
      ]
     },
     "execution_count": 52,
     "metadata": {},
     "output_type": "execute_result"
    }
   ],
   "source": [
    "libor.mean()"
   ]
  },
  {
   "cell_type": "markdown",
   "metadata": {
    "hideCode": false,
    "hidePrompt": false
   },
   "source": [
    "Capital Market Line Equation:\n",
    "$$\\mu=0.005+0.71\\sigma$$"
   ]
  },
  {
   "cell_type": "markdown",
   "metadata": {
    "hideCode": false,
    "hidePrompt": false
   },
   "source": [
    "# Part G"
   ]
  },
  {
   "cell_type": "code",
   "execution_count": 53,
   "metadata": {
    "hideCode": false,
    "hidePrompt": false
   },
   "outputs": [],
   "source": [
    "k_mvp=(two_thousand@weights_mvp)[0]\n",
    "k_one=two_thousand@three_weights[:,0]\n",
    "k_two=two_thousand@three_weights[:,1]\n",
    "k_three=two_thousand@three_weights[:,2]\n",
    "k_naive=(two_thousand@(1/48.0*np.ones((48,1))))[0]\n",
    "k_market=two_thousand@w_m"
   ]
  },
  {
   "cell_type": "code",
   "execution_count": 54,
   "metadata": {
    "hideCode": false,
    "hidePrompt": false
   },
   "outputs": [
    {
     "data": {
      "text/plain": [
       "0.1511021661842101"
      ]
     },
     "execution_count": 54,
     "metadata": {},
     "output_type": "execute_result"
    }
   ],
   "source": [
    "k_market.cov(k_mvp)"
   ]
  },
  {
   "cell_type": "code",
   "execution_count": 55,
   "metadata": {
    "hideCode": false,
    "hidePrompt": false
   },
   "outputs": [],
   "source": [
    "beta_mvp=k_market.cov(k_mvp)/k_market.std()\n",
    "beta_one=k_market.cov(k_one)/k_market.std()\n",
    "beta_two=k_market.cov(k_two)/k_market.std()\n",
    "beta_three=k_market.cov(k_three)/k_market.std()\n",
    "beta_naive=k_market.cov(k_naive)/k_market.std()"
   ]
  },
  {
   "cell_type": "code",
   "execution_count": 56,
   "metadata": {
    "hideCode": false,
    "hidePrompt": false
   },
   "outputs": [
    {
     "data": {
      "text/plain": [
       "Text(0.5,1,'Security Market Line')"
      ]
     },
     "execution_count": 56,
     "metadata": {},
     "output_type": "execute_result"
    },
    {
     "data": {
      "image/png": "[encoded data removed]",
      "text/plain": [
       "<Figure size 720x576 with 1 Axes>"
      ]
     },
     "metadata": {},
     "output_type": "display_data"
    }
   ],
   "source": [
    "plt.scatter(mu_mvp,beta_mvp,label=\"MVP\")\n",
    "plt.scatter(test_mus[three_ix][0],beta_one,label=\"ONE\")\n",
    "plt.scatter(test_mus[three_ix][1],beta_two,label=\"TWO\")\n",
    "plt.scatter(test_mus[three_ix][2],beta_two,label='THREE')\n",
    "plt.scatter(mu_naive,beta_naive,label=\"NAIVE\")\n",
    "plt.plot([0,1],[libor.mean(),1],label=\"SML\")\n",
    "plt.legend()\n",
    "plt.title(\"Security Market Line\")"
   ]
  },
  {
   "cell_type": "markdown",
   "metadata": {
    "hideCode": false,
    "hidePrompt": false
   },
   "source": [
    "# Part H"
   ]
  },
  {
   "cell_type": "code",
   "execution_count": 57,
   "metadata": {
    "hideCode": false,
    "hidePrompt": false
   },
   "outputs": [],
   "source": [
    "def cum_rets(k):\n",
    "    prev=[100]\n",
    "    for i in k:\n",
    "        prev.append(prev[-1]*(1+0.01*i))\n",
    "    return prev"
   ]
  },
  {
   "cell_type": "code",
   "execution_count": 58,
   "metadata": {
    "hideCode": false,
    "hidePrompt": false
   },
   "outputs": [],
   "source": [
    "feed={\"mvp\":k_mvp,\"one\":k_one,\"two\":k_two,\"three\":k_three,\"naive\":k_naive}\n",
    "rets=pd.DataFrame(index=k_mvp.index,columns=list(feed.keys()))\n",
    "for i in feed.keys():\n",
    "    rets[i]=pd.Series(cum_rets(feed[i])[1:],index=feed[i].index)"
   ]
  },
  {
   "cell_type": "code",
   "execution_count": 59,
   "metadata": {
    "hideCode": false,
    "hidePrompt": false,
    "scrolled": false
   },
   "outputs": [
    {
     "data": {
      "text/plain": [
       "Text(0.5,1,'Cumulative Return by Various Portfolios')"
      ]
     },
     "execution_count": 59,
     "metadata": {},
     "output_type": "execute_result"
    },
    {
     "data": {
      "image/png": "[encoded data removed]",
      "text/plain": [
       "<Figure size 720x576 with 1 Axes>"
      ]
     },
     "metadata": {},
     "output_type": "display_data"
    }
   ],
   "source": [
    "rets.plot()\n",
    "plt.title(\"Cumulative Return by Various Portfolios\")"
   ]
  },
  {
   "cell_type": "markdown",
   "metadata": {
    "hideCode": false,
    "hidePrompt": false
   },
   "source": [
    "# 2003"
   ]
  },
  {
   "cell_type": "code",
   "execution_count": 60,
   "metadata": {
    "hideCode": false,
    "hidePrompt": false
   },
   "outputs": [
    {
     "name": "stdout",
     "output_type": "stream",
     "text": [
      "/home/meltingpot/fsp/reduced\n"
     ]
    }
   ],
   "source": [
    "%cd /home/meltingpot/fsp/reduced"
   ]
  },
  {
   "cell_type": "code",
   "execution_count": 61,
   "metadata": {
    "hideCode": false,
    "hidePrompt": false
   },
   "outputs": [],
   "source": [
    "two_thousand=pd.read_csv(\"industry_returns_2003.csv\")"
   ]
  },
  {
   "cell_type": "code",
   "execution_count": 62,
   "metadata": {
    "hideCode": false,
    "hidePrompt": false
   },
   "outputs": [],
   "source": [
    "two_thousand['date']=pd.to_datetime(two_thousand['date'])"
   ]
  },
  {
   "cell_type": "code",
   "execution_count": 63,
   "metadata": {
    "hideCode": false,
    "hidePrompt": false
   },
   "outputs": [],
   "source": [
    "two_thousand=two_thousand.set_index(\"date\")"
   ]
  },
  {
   "cell_type": "code",
   "execution_count": 64,
   "metadata": {
    "hideCode": false,
    "hidePrompt": false
   },
   "outputs": [],
   "source": [
    "sp=two_thousand['SP500']\n",
    "libor=two_thousand['libor']"
   ]
  },
  {
   "cell_type": "code",
   "execution_count": 65,
   "metadata": {
    "hideCode": false,
    "hidePrompt": false
   },
   "outputs": [],
   "source": [
    "del two_thousand['SP500']\n",
    "del two_thousand['libor']"
   ]
  },
  {
   "cell_type": "markdown",
   "metadata": {
    "hideCode": false,
    "hidePrompt": false
   },
   "source": [
    "## Part A"
   ]
  },
  {
   "cell_type": "code",
   "execution_count": 66,
   "metadata": {
    "hideCode": false,
    "hidePrompt": false,
    "scrolled": true
   },
   "outputs": [
    {
     "data": {
      "text/plain": [
       "Agric    0.233145\n",
       "Food     0.128629\n",
       "Soda     0.053790\n",
       "Beer     0.216774\n",
       "Smoke    0.210726\n",
       "Toys     0.143226\n",
       "Fun      0.205847\n",
       "Books    0.113750\n",
       "Hshld    0.163992\n",
       "Clths    0.190363\n",
       "Hlth     0.255605\n",
       "MedEq    0.316532\n",
       "Drugs    0.368508\n",
       "Chems    0.185887\n",
       "Rubbr    0.283911\n",
       "Txtls    0.067379\n",
       "BldMt    0.195524\n",
       "Cnstr    0.312500\n",
       "Steel    0.254516\n",
       "FabPr    0.162460\n",
       "Mach     0.217823\n",
       "ElcEq    0.270524\n",
       "Autos    0.180000\n",
       "Aero     0.193347\n",
       "Ships    0.188226\n",
       "Guns     0.273710\n",
       "Gold     0.283427\n",
       "Mines    0.372460\n",
       "Coal     0.207581\n",
       "Oil      0.248468\n",
       "Util     0.104032\n",
       "Telcm    0.266774\n",
       "PerSv    0.273589\n",
       "BusSv    0.311452\n",
       "Comps    0.330887\n",
       "Chips    0.359677\n",
       "LabEq    0.331008\n",
       "Paper    0.130081\n",
       "Boxes    0.060040\n",
       "Trans    0.233548\n",
       "Whlsl    0.244597\n",
       "Rtail    0.203952\n",
       "Meals    0.193347\n",
       "Banks    0.168387\n",
       "Insur    0.146976\n",
       "RlEst    0.165685\n",
       "Fin      0.238589\n",
       "Other    0.217944\n",
       "dtype: float64"
      ]
     },
     "execution_count": 66,
     "metadata": {},
     "output_type": "execute_result"
    }
   ],
   "source": [
    "mu=two_thousand.mean()\n",
    "mu"
   ]
  },
  {
   "cell_type": "code",
   "execution_count": 67,
   "metadata": {
    "hideCode": false,
    "hidePrompt": false,
    "scrolled": true
   },
   "outputs": [
    {
     "data": {
      "text/html": [
       "<div>\n",
       "<style scoped>\n",
       "    .dataframe tbody tr th:only-of-type {\n",
       "        vertical-align: middle;\n",
       "    }\n",
       "\n",
       "    .dataframe tbody tr th {\n",
       "        vertical-align: top;\n",
       "    }\n",
       "\n",
       "    .dataframe thead th {\n",
       "        text-align: right;\n",
       "    }\n",
       "</style>\n",
       "<table border=\"1\" class=\"dataframe\">\n",
       "  <thead>\n",
       "    <tr style=\"text-align: right;\">\n",
       "      <th></th>\n",
       "      <th>Agric</th>\n",
       "      <th>Food</th>\n",
       "      <th>Soda</th>\n",
       "      <th>Beer</th>\n",
       "      <th>Smoke</th>\n",
       "      <th>Toys</th>\n",
       "      <th>Fun</th>\n",
       "      <th>Books</th>\n",
       "      <th>Hshld</th>\n",
       "      <th>Clths</th>\n",
       "      <th>...</th>\n",
       "      <th>Boxes</th>\n",
       "      <th>Trans</th>\n",
       "      <th>Whlsl</th>\n",
       "      <th>Rtail</th>\n",
       "      <th>Meals</th>\n",
       "      <th>Banks</th>\n",
       "      <th>Insur</th>\n",
       "      <th>RlEst</th>\n",
       "      <th>Fin</th>\n",
       "      <th>Other</th>\n",
       "    </tr>\n",
       "  </thead>\n",
       "  <tbody>\n",
       "    <tr>\n",
       "      <th>Agric</th>\n",
       "      <td>1.198897</td>\n",
       "      <td>0.250099</td>\n",
       "      <td>0.302194</td>\n",
       "      <td>0.326901</td>\n",
       "      <td>0.529796</td>\n",
       "      <td>0.377292</td>\n",
       "      <td>0.429560</td>\n",
       "      <td>0.469897</td>\n",
       "      <td>0.361542</td>\n",
       "      <td>0.337711</td>\n",
       "      <td>...</td>\n",
       "      <td>0.484509</td>\n",
       "      <td>0.542398</td>\n",
       "      <td>0.371760</td>\n",
       "      <td>0.474992</td>\n",
       "      <td>0.366703</td>\n",
       "      <td>0.254131</td>\n",
       "      <td>0.451461</td>\n",
       "      <td>0.166342</td>\n",
       "      <td>0.435800</td>\n",
       "      <td>0.247397</td>\n",
       "    </tr>\n",
       "    <tr>\n",
       "      <th>Food</th>\n",
       "      <td>0.250099</td>\n",
       "      <td>0.391758</td>\n",
       "      <td>0.243047</td>\n",
       "      <td>0.161768</td>\n",
       "      <td>0.566953</td>\n",
       "      <td>0.295195</td>\n",
       "      <td>0.411494</td>\n",
       "      <td>0.402768</td>\n",
       "      <td>0.349684</td>\n",
       "      <td>0.320854</td>\n",
       "      <td>...</td>\n",
       "      <td>0.366501</td>\n",
       "      <td>0.476743</td>\n",
       "      <td>0.357742</td>\n",
       "      <td>0.471154</td>\n",
       "      <td>0.283821</td>\n",
       "      <td>0.233216</td>\n",
       "      <td>0.408062</td>\n",
       "      <td>0.131410</td>\n",
       "      <td>0.384062</td>\n",
       "      <td>0.276492</td>\n",
       "    </tr>\n",
       "    <tr>\n",
       "      <th>Soda</th>\n",
       "      <td>0.302194</td>\n",
       "      <td>0.243047</td>\n",
       "      <td>0.876516</td>\n",
       "      <td>0.269208</td>\n",
       "      <td>0.405314</td>\n",
       "      <td>0.243579</td>\n",
       "      <td>0.353071</td>\n",
       "      <td>0.335011</td>\n",
       "      <td>0.364332</td>\n",
       "      <td>0.280276</td>\n",
       "      <td>...</td>\n",
       "      <td>0.443941</td>\n",
       "      <td>0.398376</td>\n",
       "      <td>0.323737</td>\n",
       "      <td>0.433174</td>\n",
       "      <td>0.269040</td>\n",
       "      <td>0.193983</td>\n",
       "      <td>0.351585</td>\n",
       "      <td>0.164814</td>\n",
       "      <td>0.345230</td>\n",
       "      <td>0.315268</td>\n",
       "    </tr>\n",
       "    <tr>\n",
       "      <th>Beer</th>\n",
       "      <td>0.326901</td>\n",
       "      <td>0.161768</td>\n",
       "      <td>0.269208</td>\n",
       "      <td>1.212012</td>\n",
       "      <td>0.370421</td>\n",
       "      <td>0.194709</td>\n",
       "      <td>0.302926</td>\n",
       "      <td>0.274047</td>\n",
       "      <td>0.244407</td>\n",
       "      <td>0.255648</td>\n",
       "      <td>...</td>\n",
       "      <td>0.380954</td>\n",
       "      <td>0.395534</td>\n",
       "      <td>0.292846</td>\n",
       "      <td>0.404637</td>\n",
       "      <td>0.215485</td>\n",
       "      <td>0.170698</td>\n",
       "      <td>0.293320</td>\n",
       "      <td>0.174852</td>\n",
       "      <td>0.313734</td>\n",
       "      <td>0.216288</td>\n",
       "    </tr>\n",
       "    <tr>\n",
       "      <th>Smoke</th>\n",
       "      <td>0.529796</td>\n",
       "      <td>0.566953</td>\n",
       "      <td>0.405314</td>\n",
       "      <td>0.370421</td>\n",
       "      <td>3.525390</td>\n",
       "      <td>0.635837</td>\n",
       "      <td>0.774336</td>\n",
       "      <td>0.750523</td>\n",
       "      <td>0.620872</td>\n",
       "      <td>0.540213</td>\n",
       "      <td>...</td>\n",
       "      <td>0.734428</td>\n",
       "      <td>0.878218</td>\n",
       "      <td>0.644557</td>\n",
       "      <td>0.932068</td>\n",
       "      <td>0.588944</td>\n",
       "      <td>0.507599</td>\n",
       "      <td>0.789535</td>\n",
       "      <td>0.315619</td>\n",
       "      <td>0.786726</td>\n",
       "      <td>0.535787</td>\n",
       "    </tr>\n",
       "    <tr>\n",
       "      <th>Toys</th>\n",
       "      <td>0.377292</td>\n",
       "      <td>0.295195</td>\n",
       "      <td>0.243579</td>\n",
       "      <td>0.194709</td>\n",
       "      <td>0.635837</td>\n",
       "      <td>0.951324</td>\n",
       "      <td>0.551671</td>\n",
       "      <td>0.498263</td>\n",
       "      <td>0.430751</td>\n",
       "      <td>0.413864</td>\n",
       "      <td>...</td>\n",
       "      <td>0.637648</td>\n",
       "      <td>0.635205</td>\n",
       "      <td>0.456919</td>\n",
       "      <td>0.626546</td>\n",
       "      <td>0.353731</td>\n",
       "      <td>0.298447</td>\n",
       "      <td>0.500205</td>\n",
       "      <td>0.210637</td>\n",
       "      <td>0.522946</td>\n",
       "      <td>0.388700</td>\n",
       "    </tr>\n",
       "    <tr>\n",
       "      <th>Fun</th>\n",
       "      <td>0.429560</td>\n",
       "      <td>0.411494</td>\n",
       "      <td>0.353071</td>\n",
       "      <td>0.302926</td>\n",
       "      <td>0.774336</td>\n",
       "      <td>0.551671</td>\n",
       "      <td>0.981343</td>\n",
       "      <td>0.635983</td>\n",
       "      <td>0.554011</td>\n",
       "      <td>0.518428</td>\n",
       "      <td>...</td>\n",
       "      <td>0.613585</td>\n",
       "      <td>0.740071</td>\n",
       "      <td>0.571688</td>\n",
       "      <td>0.807080</td>\n",
       "      <td>0.486183</td>\n",
       "      <td>0.366801</td>\n",
       "      <td>0.658104</td>\n",
       "      <td>0.177430</td>\n",
       "      <td>0.645153</td>\n",
       "      <td>0.500630</td>\n",
       "    </tr>\n",
       "    <tr>\n",
       "      <th>Books</th>\n",
       "      <td>0.469897</td>\n",
       "      <td>0.402768</td>\n",
       "      <td>0.335011</td>\n",
       "      <td>0.274047</td>\n",
       "      <td>0.750523</td>\n",
       "      <td>0.498263</td>\n",
       "      <td>0.635983</td>\n",
       "      <td>0.908404</td>\n",
       "      <td>0.580378</td>\n",
       "      <td>0.468944</td>\n",
       "      <td>...</td>\n",
       "      <td>0.648203</td>\n",
       "      <td>0.764614</td>\n",
       "      <td>0.524426</td>\n",
       "      <td>0.763983</td>\n",
       "      <td>0.469537</td>\n",
       "      <td>0.335784</td>\n",
       "      <td>0.645674</td>\n",
       "      <td>0.192660</td>\n",
       "      <td>0.617309</td>\n",
       "      <td>0.453636</td>\n",
       "    </tr>\n",
       "    <tr>\n",
       "      <th>Hshld</th>\n",
       "      <td>0.361542</td>\n",
       "      <td>0.349684</td>\n",
       "      <td>0.364332</td>\n",
       "      <td>0.244407</td>\n",
       "      <td>0.620872</td>\n",
       "      <td>0.430751</td>\n",
       "      <td>0.554011</td>\n",
       "      <td>0.580378</td>\n",
       "      <td>0.719593</td>\n",
       "      <td>0.485197</td>\n",
       "      <td>...</td>\n",
       "      <td>0.595280</td>\n",
       "      <td>0.658957</td>\n",
       "      <td>0.490890</td>\n",
       "      <td>0.719646</td>\n",
       "      <td>0.400961</td>\n",
       "      <td>0.322958</td>\n",
       "      <td>0.573176</td>\n",
       "      <td>0.222056</td>\n",
       "      <td>0.577382</td>\n",
       "      <td>0.411867</td>\n",
       "    </tr>\n",
       "    <tr>\n",
       "      <th>Clths</th>\n",
       "      <td>0.337711</td>\n",
       "      <td>0.320854</td>\n",
       "      <td>0.280276</td>\n",
       "      <td>0.255648</td>\n",
       "      <td>0.540213</td>\n",
       "      <td>0.413864</td>\n",
       "      <td>0.518428</td>\n",
       "      <td>0.468944</td>\n",
       "      <td>0.485197</td>\n",
       "      <td>0.632651</td>\n",
       "      <td>...</td>\n",
       "      <td>0.559366</td>\n",
       "      <td>0.622289</td>\n",
       "      <td>0.460286</td>\n",
       "      <td>0.686800</td>\n",
       "      <td>0.335046</td>\n",
       "      <td>0.298601</td>\n",
       "      <td>0.506076</td>\n",
       "      <td>0.166654</td>\n",
       "      <td>0.493958</td>\n",
       "      <td>0.417510</td>\n",
       "    </tr>\n",
       "    <tr>\n",
       "      <th>Hlth</th>\n",
       "      <td>0.448535</td>\n",
       "      <td>0.366189</td>\n",
       "      <td>0.328138</td>\n",
       "      <td>0.316900</td>\n",
       "      <td>0.644080</td>\n",
       "      <td>0.471740</td>\n",
       "      <td>0.576198</td>\n",
       "      <td>0.590910</td>\n",
       "      <td>0.540399</td>\n",
       "      <td>0.440728</td>\n",
       "      <td>...</td>\n",
       "      <td>0.561756</td>\n",
       "      <td>0.653227</td>\n",
       "      <td>0.551445</td>\n",
       "      <td>0.721486</td>\n",
       "      <td>0.423628</td>\n",
       "      <td>0.342551</td>\n",
       "      <td>0.617234</td>\n",
       "      <td>0.184083</td>\n",
       "      <td>0.605812</td>\n",
       "      <td>0.389189</td>\n",
       "    </tr>\n",
       "    <tr>\n",
       "      <th>MedEq</th>\n",
       "      <td>0.372167</td>\n",
       "      <td>0.325720</td>\n",
       "      <td>0.240781</td>\n",
       "      <td>0.279171</td>\n",
       "      <td>0.645358</td>\n",
       "      <td>0.447076</td>\n",
       "      <td>0.529573</td>\n",
       "      <td>0.503632</td>\n",
       "      <td>0.469862</td>\n",
       "      <td>0.425365</td>\n",
       "      <td>...</td>\n",
       "      <td>0.520151</td>\n",
       "      <td>0.623879</td>\n",
       "      <td>0.502629</td>\n",
       "      <td>0.639309</td>\n",
       "      <td>0.347157</td>\n",
       "      <td>0.318092</td>\n",
       "      <td>0.515477</td>\n",
       "      <td>0.225762</td>\n",
       "      <td>0.566195</td>\n",
       "      <td>0.410948</td>\n",
       "    </tr>\n",
       "    <tr>\n",
       "      <th>Drugs</th>\n",
       "      <td>0.514571</td>\n",
       "      <td>0.475390</td>\n",
       "      <td>0.424179</td>\n",
       "      <td>0.480932</td>\n",
       "      <td>0.899096</td>\n",
       "      <td>0.654137</td>\n",
       "      <td>0.787478</td>\n",
       "      <td>0.754783</td>\n",
       "      <td>0.679349</td>\n",
       "      <td>0.663389</td>\n",
       "      <td>...</td>\n",
       "      <td>0.833678</td>\n",
       "      <td>0.924667</td>\n",
       "      <td>0.724553</td>\n",
       "      <td>0.985535</td>\n",
       "      <td>0.533871</td>\n",
       "      <td>0.454378</td>\n",
       "      <td>0.773704</td>\n",
       "      <td>0.289447</td>\n",
       "      <td>0.862227</td>\n",
       "      <td>0.609245</td>\n",
       "    </tr>\n",
       "    <tr>\n",
       "      <th>Chems</th>\n",
       "      <td>0.494366</td>\n",
       "      <td>0.432275</td>\n",
       "      <td>0.413054</td>\n",
       "      <td>0.351419</td>\n",
       "      <td>0.863377</td>\n",
       "      <td>0.590613</td>\n",
       "      <td>0.683227</td>\n",
       "      <td>0.702628</td>\n",
       "      <td>0.633143</td>\n",
       "      <td>0.559295</td>\n",
       "      <td>...</td>\n",
       "      <td>0.835578</td>\n",
       "      <td>0.799208</td>\n",
       "      <td>0.603583</td>\n",
       "      <td>0.829738</td>\n",
       "      <td>0.461979</td>\n",
       "      <td>0.401665</td>\n",
       "      <td>0.687171</td>\n",
       "      <td>0.202309</td>\n",
       "      <td>0.671819</td>\n",
       "      <td>0.610786</td>\n",
       "    </tr>\n",
       "    <tr>\n",
       "      <th>Rubbr</th>\n",
       "      <td>0.342653</td>\n",
       "      <td>0.276140</td>\n",
       "      <td>0.196075</td>\n",
       "      <td>0.253676</td>\n",
       "      <td>0.786694</td>\n",
       "      <td>0.321625</td>\n",
       "      <td>0.457382</td>\n",
       "      <td>0.428105</td>\n",
       "      <td>0.342704</td>\n",
       "      <td>0.345211</td>\n",
       "      <td>...</td>\n",
       "      <td>0.410841</td>\n",
       "      <td>0.572929</td>\n",
       "      <td>0.415512</td>\n",
       "      <td>0.513862</td>\n",
       "      <td>0.284926</td>\n",
       "      <td>0.290843</td>\n",
       "      <td>0.457179</td>\n",
       "      <td>0.171895</td>\n",
       "      <td>0.476021</td>\n",
       "      <td>0.452516</td>\n",
       "    </tr>\n",
       "    <tr>\n",
       "      <th>Txtls</th>\n",
       "      <td>0.328464</td>\n",
       "      <td>0.297061</td>\n",
       "      <td>0.293574</td>\n",
       "      <td>0.210477</td>\n",
       "      <td>0.481377</td>\n",
       "      <td>0.442935</td>\n",
       "      <td>0.540867</td>\n",
       "      <td>0.503858</td>\n",
       "      <td>0.480939</td>\n",
       "      <td>0.498488</td>\n",
       "      <td>...</td>\n",
       "      <td>0.585759</td>\n",
       "      <td>0.715672</td>\n",
       "      <td>0.477771</td>\n",
       "      <td>0.655765</td>\n",
       "      <td>0.377294</td>\n",
       "      <td>0.328528</td>\n",
       "      <td>0.544847</td>\n",
       "      <td>0.144253</td>\n",
       "      <td>0.576241</td>\n",
       "      <td>0.532643</td>\n",
       "    </tr>\n",
       "    <tr>\n",
       "      <th>BldMt</th>\n",
       "      <td>0.408204</td>\n",
       "      <td>0.349532</td>\n",
       "      <td>0.319325</td>\n",
       "      <td>0.307122</td>\n",
       "      <td>0.631324</td>\n",
       "      <td>0.473845</td>\n",
       "      <td>0.567187</td>\n",
       "      <td>0.570400</td>\n",
       "      <td>0.493462</td>\n",
       "      <td>0.473438</td>\n",
       "      <td>...</td>\n",
       "      <td>0.611714</td>\n",
       "      <td>0.686573</td>\n",
       "      <td>0.505224</td>\n",
       "      <td>0.699759</td>\n",
       "      <td>0.433412</td>\n",
       "      <td>0.332732</td>\n",
       "      <td>0.549792</td>\n",
       "      <td>0.206988</td>\n",
       "      <td>0.531860</td>\n",
       "      <td>0.424832</td>\n",
       "    </tr>\n",
       "    <tr>\n",
       "      <th>Cnstr</th>\n",
       "      <td>0.419671</td>\n",
       "      <td>0.456136</td>\n",
       "      <td>0.391505</td>\n",
       "      <td>0.359672</td>\n",
       "      <td>0.923148</td>\n",
       "      <td>0.580935</td>\n",
       "      <td>0.735654</td>\n",
       "      <td>0.641521</td>\n",
       "      <td>0.657545</td>\n",
       "      <td>0.606621</td>\n",
       "      <td>...</td>\n",
       "      <td>0.718799</td>\n",
       "      <td>0.836752</td>\n",
       "      <td>0.647322</td>\n",
       "      <td>0.926994</td>\n",
       "      <td>0.490302</td>\n",
       "      <td>0.446885</td>\n",
       "      <td>0.722489</td>\n",
       "      <td>0.313764</td>\n",
       "      <td>0.732661</td>\n",
       "      <td>0.565516</td>\n",
       "    </tr>\n",
       "    <tr>\n",
       "      <th>Steel</th>\n",
       "      <td>0.590572</td>\n",
       "      <td>0.476526</td>\n",
       "      <td>0.430289</td>\n",
       "      <td>0.383536</td>\n",
       "      <td>1.038274</td>\n",
       "      <td>0.624989</td>\n",
       "      <td>0.761167</td>\n",
       "      <td>0.774506</td>\n",
       "      <td>0.683287</td>\n",
       "      <td>0.600993</td>\n",
       "      <td>...</td>\n",
       "      <td>0.861931</td>\n",
       "      <td>0.970444</td>\n",
       "      <td>0.726885</td>\n",
       "      <td>0.951463</td>\n",
       "      <td>0.551910</td>\n",
       "      <td>0.495226</td>\n",
       "      <td>0.800590</td>\n",
       "      <td>0.249048</td>\n",
       "      <td>0.846144</td>\n",
       "      <td>0.588523</td>\n",
       "    </tr>\n",
       "    <tr>\n",
       "      <th>FabPr</th>\n",
       "      <td>0.172365</td>\n",
       "      <td>0.215483</td>\n",
       "      <td>0.307889</td>\n",
       "      <td>0.221914</td>\n",
       "      <td>0.488901</td>\n",
       "      <td>0.367386</td>\n",
       "      <td>0.321478</td>\n",
       "      <td>0.272057</td>\n",
       "      <td>0.294408</td>\n",
       "      <td>0.347792</td>\n",
       "      <td>...</td>\n",
       "      <td>0.510892</td>\n",
       "      <td>0.579170</td>\n",
       "      <td>0.364223</td>\n",
       "      <td>0.445592</td>\n",
       "      <td>0.364080</td>\n",
       "      <td>0.244516</td>\n",
       "      <td>0.359425</td>\n",
       "      <td>0.084050</td>\n",
       "      <td>0.390408</td>\n",
       "      <td>0.353656</td>\n",
       "    </tr>\n",
       "    <tr>\n",
       "      <th>Mach</th>\n",
       "      <td>0.488462</td>\n",
       "      <td>0.435038</td>\n",
       "      <td>0.354898</td>\n",
       "      <td>0.361438</td>\n",
       "      <td>0.860399</td>\n",
       "      <td>0.608184</td>\n",
       "      <td>0.708116</td>\n",
       "      <td>0.689371</td>\n",
       "      <td>0.642284</td>\n",
       "      <td>0.571814</td>\n",
       "      <td>...</td>\n",
       "      <td>0.713229</td>\n",
       "      <td>0.874909</td>\n",
       "      <td>0.657208</td>\n",
       "      <td>0.887123</td>\n",
       "      <td>0.513833</td>\n",
       "      <td>0.424162</td>\n",
       "      <td>0.688819</td>\n",
       "      <td>0.272265</td>\n",
       "      <td>0.726388</td>\n",
       "      <td>0.542528</td>\n",
       "    </tr>\n",
       "    <tr>\n",
       "      <th>ElcEq</th>\n",
       "      <td>0.443241</td>\n",
       "      <td>0.401192</td>\n",
       "      <td>0.269061</td>\n",
       "      <td>0.331827</td>\n",
       "      <td>0.714214</td>\n",
       "      <td>0.508463</td>\n",
       "      <td>0.581432</td>\n",
       "      <td>0.614728</td>\n",
       "      <td>0.584730</td>\n",
       "      <td>0.512129</td>\n",
       "      <td>...</td>\n",
       "      <td>0.607272</td>\n",
       "      <td>0.801553</td>\n",
       "      <td>0.589013</td>\n",
       "      <td>0.775757</td>\n",
       "      <td>0.445261</td>\n",
       "      <td>0.372019</td>\n",
       "      <td>0.591251</td>\n",
       "      <td>0.237997</td>\n",
       "      <td>0.648450</td>\n",
       "      <td>0.494193</td>\n",
       "    </tr>\n",
       "    <tr>\n",
       "      <th>Autos</th>\n",
       "      <td>0.631771</td>\n",
       "      <td>0.490649</td>\n",
       "      <td>0.480986</td>\n",
       "      <td>0.430088</td>\n",
       "      <td>0.964976</td>\n",
       "      <td>0.665589</td>\n",
       "      <td>0.842116</td>\n",
       "      <td>0.842318</td>\n",
       "      <td>0.748811</td>\n",
       "      <td>0.666114</td>\n",
       "      <td>...</td>\n",
       "      <td>0.868524</td>\n",
       "      <td>1.009357</td>\n",
       "      <td>0.724654</td>\n",
       "      <td>1.026377</td>\n",
       "      <td>0.567776</td>\n",
       "      <td>0.456792</td>\n",
       "      <td>0.812997</td>\n",
       "      <td>0.258005</td>\n",
       "      <td>0.815172</td>\n",
       "      <td>0.635799</td>\n",
       "    </tr>\n",
       "    <tr>\n",
       "      <th>Aero</th>\n",
       "      <td>0.476280</td>\n",
       "      <td>0.418019</td>\n",
       "      <td>0.440029</td>\n",
       "      <td>0.364570</td>\n",
       "      <td>0.923752</td>\n",
       "      <td>0.516146</td>\n",
       "      <td>0.663139</td>\n",
       "      <td>0.633053</td>\n",
       "      <td>0.569789</td>\n",
       "      <td>0.545004</td>\n",
       "      <td>...</td>\n",
       "      <td>0.678086</td>\n",
       "      <td>0.876842</td>\n",
       "      <td>0.581860</td>\n",
       "      <td>0.783512</td>\n",
       "      <td>0.415175</td>\n",
       "      <td>0.377451</td>\n",
       "      <td>0.653227</td>\n",
       "      <td>0.204817</td>\n",
       "      <td>0.647069</td>\n",
       "      <td>0.443764</td>\n",
       "    </tr>\n",
       "    <tr>\n",
       "      <th>Ships</th>\n",
       "      <td>0.361378</td>\n",
       "      <td>0.256471</td>\n",
       "      <td>0.277605</td>\n",
       "      <td>0.068886</td>\n",
       "      <td>0.474883</td>\n",
       "      <td>0.420005</td>\n",
       "      <td>0.432895</td>\n",
       "      <td>0.428387</td>\n",
       "      <td>0.386867</td>\n",
       "      <td>0.360105</td>\n",
       "      <td>...</td>\n",
       "      <td>0.542037</td>\n",
       "      <td>0.593897</td>\n",
       "      <td>0.378449</td>\n",
       "      <td>0.504973</td>\n",
       "      <td>0.236444</td>\n",
       "      <td>0.266283</td>\n",
       "      <td>0.466833</td>\n",
       "      <td>0.175438</td>\n",
       "      <td>0.494993</td>\n",
       "      <td>0.438467</td>\n",
       "    </tr>\n",
       "    <tr>\n",
       "      <th>Guns</th>\n",
       "      <td>0.250619</td>\n",
       "      <td>0.243053</td>\n",
       "      <td>0.171113</td>\n",
       "      <td>0.114834</td>\n",
       "      <td>0.256714</td>\n",
       "      <td>0.194864</td>\n",
       "      <td>0.260083</td>\n",
       "      <td>0.255084</td>\n",
       "      <td>0.159367</td>\n",
       "      <td>0.223669</td>\n",
       "      <td>...</td>\n",
       "      <td>0.398185</td>\n",
       "      <td>0.343977</td>\n",
       "      <td>0.336623</td>\n",
       "      <td>0.301299</td>\n",
       "      <td>0.271094</td>\n",
       "      <td>0.219302</td>\n",
       "      <td>0.333742</td>\n",
       "      <td>0.170776</td>\n",
       "      <td>0.322915</td>\n",
       "      <td>0.152740</td>\n",
       "    </tr>\n",
       "    <tr>\n",
       "      <th>Gold</th>\n",
       "      <td>0.480030</td>\n",
       "      <td>0.147354</td>\n",
       "      <td>0.250805</td>\n",
       "      <td>0.118722</td>\n",
       "      <td>0.070386</td>\n",
       "      <td>0.326029</td>\n",
       "      <td>0.151414</td>\n",
       "      <td>0.095605</td>\n",
       "      <td>0.216993</td>\n",
       "      <td>0.256596</td>\n",
       "      <td>...</td>\n",
       "      <td>0.165100</td>\n",
       "      <td>0.232925</td>\n",
       "      <td>0.296390</td>\n",
       "      <td>0.212961</td>\n",
       "      <td>0.151670</td>\n",
       "      <td>0.155161</td>\n",
       "      <td>0.287823</td>\n",
       "      <td>0.197137</td>\n",
       "      <td>0.344938</td>\n",
       "      <td>0.110601</td>\n",
       "    </tr>\n",
       "    <tr>\n",
       "      <th>Mines</th>\n",
       "      <td>0.469961</td>\n",
       "      <td>0.310686</td>\n",
       "      <td>0.313479</td>\n",
       "      <td>0.218940</td>\n",
       "      <td>0.497978</td>\n",
       "      <td>0.383687</td>\n",
       "      <td>0.378111</td>\n",
       "      <td>0.466701</td>\n",
       "      <td>0.505516</td>\n",
       "      <td>0.402166</td>\n",
       "      <td>...</td>\n",
       "      <td>0.596289</td>\n",
       "      <td>0.702101</td>\n",
       "      <td>0.531213</td>\n",
       "      <td>0.556441</td>\n",
       "      <td>0.349479</td>\n",
       "      <td>0.355999</td>\n",
       "      <td>0.492232</td>\n",
       "      <td>0.209397</td>\n",
       "      <td>0.496717</td>\n",
       "      <td>0.419761</td>\n",
       "    </tr>\n",
       "    <tr>\n",
       "      <th>Coal</th>\n",
       "      <td>0.467476</td>\n",
       "      <td>0.256834</td>\n",
       "      <td>0.233078</td>\n",
       "      <td>0.262602</td>\n",
       "      <td>0.606672</td>\n",
       "      <td>0.333961</td>\n",
       "      <td>0.423312</td>\n",
       "      <td>0.490482</td>\n",
       "      <td>0.331786</td>\n",
       "      <td>0.368056</td>\n",
       "      <td>...</td>\n",
       "      <td>0.540727</td>\n",
       "      <td>0.508941</td>\n",
       "      <td>0.396898</td>\n",
       "      <td>0.557174</td>\n",
       "      <td>0.320113</td>\n",
       "      <td>0.282708</td>\n",
       "      <td>0.475364</td>\n",
       "      <td>0.240680</td>\n",
       "      <td>0.410657</td>\n",
       "      <td>0.322384</td>\n",
       "    </tr>\n",
       "    <tr>\n",
       "      <th>Oil</th>\n",
       "      <td>0.242763</td>\n",
       "      <td>0.211302</td>\n",
       "      <td>0.193447</td>\n",
       "      <td>0.152844</td>\n",
       "      <td>0.356839</td>\n",
       "      <td>0.257493</td>\n",
       "      <td>0.329862</td>\n",
       "      <td>0.348186</td>\n",
       "      <td>0.289040</td>\n",
       "      <td>0.261083</td>\n",
       "      <td>...</td>\n",
       "      <td>0.281744</td>\n",
       "      <td>0.379243</td>\n",
       "      <td>0.324420</td>\n",
       "      <td>0.373546</td>\n",
       "      <td>0.194393</td>\n",
       "      <td>0.208383</td>\n",
       "      <td>0.341782</td>\n",
       "      <td>0.150386</td>\n",
       "      <td>0.346660</td>\n",
       "      <td>0.298144</td>\n",
       "    </tr>\n",
       "    <tr>\n",
       "      <th>Util</th>\n",
       "      <td>0.360350</td>\n",
       "      <td>0.322263</td>\n",
       "      <td>0.252462</td>\n",
       "      <td>0.217090</td>\n",
       "      <td>0.627550</td>\n",
       "      <td>0.409798</td>\n",
       "      <td>0.485865</td>\n",
       "      <td>0.509975</td>\n",
       "      <td>0.424916</td>\n",
       "      <td>0.383819</td>\n",
       "      <td>...</td>\n",
       "      <td>0.489775</td>\n",
       "      <td>0.596059</td>\n",
       "      <td>0.411936</td>\n",
       "      <td>0.574884</td>\n",
       "      <td>0.321947</td>\n",
       "      <td>0.303814</td>\n",
       "      <td>0.523431</td>\n",
       "      <td>0.169151</td>\n",
       "      <td>0.486268</td>\n",
       "      <td>0.417337</td>\n",
       "    </tr>\n",
       "    <tr>\n",
       "      <th>Telcm</th>\n",
       "      <td>0.593950</td>\n",
       "      <td>0.570560</td>\n",
       "      <td>0.526850</td>\n",
       "      <td>0.545020</td>\n",
       "      <td>1.195977</td>\n",
       "      <td>0.736308</td>\n",
       "      <td>0.943709</td>\n",
       "      <td>0.894916</td>\n",
       "      <td>0.762750</td>\n",
       "      <td>0.687957</td>\n",
       "      <td>...</td>\n",
       "      <td>0.887208</td>\n",
       "      <td>1.081152</td>\n",
       "      <td>0.825915</td>\n",
       "      <td>1.104976</td>\n",
       "      <td>0.658149</td>\n",
       "      <td>0.523449</td>\n",
       "      <td>0.895302</td>\n",
       "      <td>0.291345</td>\n",
       "      <td>0.955522</td>\n",
       "      <td>0.644034</td>\n",
       "    </tr>\n",
       "    <tr>\n",
       "      <th>PerSv</th>\n",
       "      <td>0.316708</td>\n",
       "      <td>0.301603</td>\n",
       "      <td>0.298739</td>\n",
       "      <td>0.222288</td>\n",
       "      <td>0.658118</td>\n",
       "      <td>0.435671</td>\n",
       "      <td>0.515585</td>\n",
       "      <td>0.468999</td>\n",
       "      <td>0.446119</td>\n",
       "      <td>0.413079</td>\n",
       "      <td>...</td>\n",
       "      <td>0.522063</td>\n",
       "      <td>0.648646</td>\n",
       "      <td>0.444655</td>\n",
       "      <td>0.643197</td>\n",
       "      <td>0.366239</td>\n",
       "      <td>0.310837</td>\n",
       "      <td>0.499486</td>\n",
       "      <td>0.209986</td>\n",
       "      <td>0.502712</td>\n",
       "      <td>0.365842</td>\n",
       "    </tr>\n",
       "    <tr>\n",
       "      <th>BusSv</th>\n",
       "      <td>0.509302</td>\n",
       "      <td>0.490043</td>\n",
       "      <td>0.388384</td>\n",
       "      <td>0.416294</td>\n",
       "      <td>0.989097</td>\n",
       "      <td>0.661345</td>\n",
       "      <td>0.794735</td>\n",
       "      <td>0.745871</td>\n",
       "      <td>0.690308</td>\n",
       "      <td>0.652117</td>\n",
       "      <td>...</td>\n",
       "      <td>0.789485</td>\n",
       "      <td>0.953505</td>\n",
       "      <td>0.734412</td>\n",
       "      <td>0.986276</td>\n",
       "      <td>0.558687</td>\n",
       "      <td>0.471282</td>\n",
       "      <td>0.772004</td>\n",
       "      <td>0.290643</td>\n",
       "      <td>0.859927</td>\n",
       "      <td>0.612682</td>\n",
       "    </tr>\n",
       "    <tr>\n",
       "      <th>Comps</th>\n",
       "      <td>0.567638</td>\n",
       "      <td>0.515958</td>\n",
       "      <td>0.436130</td>\n",
       "      <td>0.514985</td>\n",
       "      <td>1.035120</td>\n",
       "      <td>0.797204</td>\n",
       "      <td>0.838704</td>\n",
       "      <td>0.800778</td>\n",
       "      <td>0.769634</td>\n",
       "      <td>0.742901</td>\n",
       "      <td>...</td>\n",
       "      <td>0.898387</td>\n",
       "      <td>1.045308</td>\n",
       "      <td>0.825135</td>\n",
       "      <td>1.079226</td>\n",
       "      <td>0.630974</td>\n",
       "      <td>0.513372</td>\n",
       "      <td>0.829167</td>\n",
       "      <td>0.345822</td>\n",
       "      <td>0.937111</td>\n",
       "      <td>0.662956</td>\n",
       "    </tr>\n",
       "    <tr>\n",
       "      <th>Chips</th>\n",
       "      <td>0.684712</td>\n",
       "      <td>0.631048</td>\n",
       "      <td>0.526521</td>\n",
       "      <td>0.532318</td>\n",
       "      <td>1.299976</td>\n",
       "      <td>0.921660</td>\n",
       "      <td>1.045942</td>\n",
       "      <td>0.993885</td>\n",
       "      <td>0.934821</td>\n",
       "      <td>0.854273</td>\n",
       "      <td>...</td>\n",
       "      <td>1.020356</td>\n",
       "      <td>1.280414</td>\n",
       "      <td>0.997891</td>\n",
       "      <td>1.316347</td>\n",
       "      <td>0.738897</td>\n",
       "      <td>0.620695</td>\n",
       "      <td>0.984200</td>\n",
       "      <td>0.366552</td>\n",
       "      <td>1.129344</td>\n",
       "      <td>0.839358</td>\n",
       "    </tr>\n",
       "    <tr>\n",
       "      <th>LabEq</th>\n",
       "      <td>0.520941</td>\n",
       "      <td>0.460247</td>\n",
       "      <td>0.409016</td>\n",
       "      <td>0.419752</td>\n",
       "      <td>0.899879</td>\n",
       "      <td>0.648379</td>\n",
       "      <td>0.735356</td>\n",
       "      <td>0.739803</td>\n",
       "      <td>0.674198</td>\n",
       "      <td>0.644175</td>\n",
       "      <td>...</td>\n",
       "      <td>0.785387</td>\n",
       "      <td>0.939643</td>\n",
       "      <td>0.703405</td>\n",
       "      <td>0.959101</td>\n",
       "      <td>0.537374</td>\n",
       "      <td>0.453058</td>\n",
       "      <td>0.735551</td>\n",
       "      <td>0.267849</td>\n",
       "      <td>0.848756</td>\n",
       "      <td>0.560622</td>\n",
       "    </tr>\n",
       "    <tr>\n",
       "      <th>Paper</th>\n",
       "      <td>0.381940</td>\n",
       "      <td>0.326630</td>\n",
       "      <td>0.321756</td>\n",
       "      <td>0.249457</td>\n",
       "      <td>0.732110</td>\n",
       "      <td>0.458509</td>\n",
       "      <td>0.562504</td>\n",
       "      <td>0.593742</td>\n",
       "      <td>0.491851</td>\n",
       "      <td>0.441193</td>\n",
       "      <td>...</td>\n",
       "      <td>0.609941</td>\n",
       "      <td>0.673505</td>\n",
       "      <td>0.464028</td>\n",
       "      <td>0.677921</td>\n",
       "      <td>0.396716</td>\n",
       "      <td>0.318570</td>\n",
       "      <td>0.565567</td>\n",
       "      <td>0.165133</td>\n",
       "      <td>0.525535</td>\n",
       "      <td>0.433192</td>\n",
       "    </tr>\n",
       "    <tr>\n",
       "      <th>Boxes</th>\n",
       "      <td>0.484509</td>\n",
       "      <td>0.366501</td>\n",
       "      <td>0.443941</td>\n",
       "      <td>0.380954</td>\n",
       "      <td>0.734428</td>\n",
       "      <td>0.637648</td>\n",
       "      <td>0.613585</td>\n",
       "      <td>0.648203</td>\n",
       "      <td>0.595280</td>\n",
       "      <td>0.559366</td>\n",
       "      <td>...</td>\n",
       "      <td>1.550249</td>\n",
       "      <td>0.858233</td>\n",
       "      <td>0.549752</td>\n",
       "      <td>0.799077</td>\n",
       "      <td>0.405939</td>\n",
       "      <td>0.384403</td>\n",
       "      <td>0.649079</td>\n",
       "      <td>0.285851</td>\n",
       "      <td>0.605400</td>\n",
       "      <td>0.501294</td>\n",
       "    </tr>\n",
       "    <tr>\n",
       "      <th>Trans</th>\n",
       "      <td>0.542398</td>\n",
       "      <td>0.476743</td>\n",
       "      <td>0.398376</td>\n",
       "      <td>0.395534</td>\n",
       "      <td>0.878218</td>\n",
       "      <td>0.635205</td>\n",
       "      <td>0.740071</td>\n",
       "      <td>0.764614</td>\n",
       "      <td>0.658957</td>\n",
       "      <td>0.622289</td>\n",
       "      <td>...</td>\n",
       "      <td>0.858233</td>\n",
       "      <td>1.294694</td>\n",
       "      <td>0.658035</td>\n",
       "      <td>0.972128</td>\n",
       "      <td>0.535416</td>\n",
       "      <td>0.447081</td>\n",
       "      <td>0.755396</td>\n",
       "      <td>0.298625</td>\n",
       "      <td>0.746018</td>\n",
       "      <td>0.565478</td>\n",
       "    </tr>\n",
       "    <tr>\n",
       "      <th>Whlsl</th>\n",
       "      <td>0.371760</td>\n",
       "      <td>0.357742</td>\n",
       "      <td>0.323737</td>\n",
       "      <td>0.292846</td>\n",
       "      <td>0.644557</td>\n",
       "      <td>0.456919</td>\n",
       "      <td>0.571688</td>\n",
       "      <td>0.524426</td>\n",
       "      <td>0.490890</td>\n",
       "      <td>0.460286</td>\n",
       "      <td>...</td>\n",
       "      <td>0.549752</td>\n",
       "      <td>0.658035</td>\n",
       "      <td>0.658068</td>\n",
       "      <td>0.680128</td>\n",
       "      <td>0.389692</td>\n",
       "      <td>0.331226</td>\n",
       "      <td>0.538801</td>\n",
       "      <td>0.204739</td>\n",
       "      <td>0.573074</td>\n",
       "      <td>0.394592</td>\n",
       "    </tr>\n",
       "    <tr>\n",
       "      <th>Rtail</th>\n",
       "      <td>0.474992</td>\n",
       "      <td>0.471154</td>\n",
       "      <td>0.433174</td>\n",
       "      <td>0.404637</td>\n",
       "      <td>0.932068</td>\n",
       "      <td>0.626546</td>\n",
       "      <td>0.807080</td>\n",
       "      <td>0.763983</td>\n",
       "      <td>0.719646</td>\n",
       "      <td>0.686800</td>\n",
       "      <td>...</td>\n",
       "      <td>0.799077</td>\n",
       "      <td>0.972128</td>\n",
       "      <td>0.680128</td>\n",
       "      <td>1.117503</td>\n",
       "      <td>0.547945</td>\n",
       "      <td>0.451395</td>\n",
       "      <td>0.763449</td>\n",
       "      <td>0.274574</td>\n",
       "      <td>0.768249</td>\n",
       "      <td>0.598162</td>\n",
       "    </tr>\n",
       "    <tr>\n",
       "      <th>Meals</th>\n",
       "      <td>0.366703</td>\n",
       "      <td>0.283821</td>\n",
       "      <td>0.269040</td>\n",
       "      <td>0.215485</td>\n",
       "      <td>0.588944</td>\n",
       "      <td>0.353731</td>\n",
       "      <td>0.486183</td>\n",
       "      <td>0.469537</td>\n",
       "      <td>0.400961</td>\n",
       "      <td>0.335046</td>\n",
       "      <td>...</td>\n",
       "      <td>0.405939</td>\n",
       "      <td>0.535416</td>\n",
       "      <td>0.389692</td>\n",
       "      <td>0.547945</td>\n",
       "      <td>0.700704</td>\n",
       "      <td>0.245959</td>\n",
       "      <td>0.441639</td>\n",
       "      <td>0.198366</td>\n",
       "      <td>0.460782</td>\n",
       "      <td>0.306458</td>\n",
       "    </tr>\n",
       "    <tr>\n",
       "      <th>Banks</th>\n",
       "      <td>0.254131</td>\n",
       "      <td>0.233216</td>\n",
       "      <td>0.193983</td>\n",
       "      <td>0.170698</td>\n",
       "      <td>0.507599</td>\n",
       "      <td>0.298447</td>\n",
       "      <td>0.366801</td>\n",
       "      <td>0.335784</td>\n",
       "      <td>0.322958</td>\n",
       "      <td>0.298601</td>\n",
       "      <td>...</td>\n",
       "      <td>0.384403</td>\n",
       "      <td>0.447081</td>\n",
       "      <td>0.331226</td>\n",
       "      <td>0.451395</td>\n",
       "      <td>0.245959</td>\n",
       "      <td>0.271004</td>\n",
       "      <td>0.390240</td>\n",
       "      <td>0.113587</td>\n",
       "      <td>0.392785</td>\n",
       "      <td>0.276781</td>\n",
       "    </tr>\n",
       "    <tr>\n",
       "      <th>Insur</th>\n",
       "      <td>0.451461</td>\n",
       "      <td>0.408062</td>\n",
       "      <td>0.351585</td>\n",
       "      <td>0.293320</td>\n",
       "      <td>0.789535</td>\n",
       "      <td>0.500205</td>\n",
       "      <td>0.658104</td>\n",
       "      <td>0.645674</td>\n",
       "      <td>0.573176</td>\n",
       "      <td>0.506076</td>\n",
       "      <td>...</td>\n",
       "      <td>0.649079</td>\n",
       "      <td>0.755396</td>\n",
       "      <td>0.538801</td>\n",
       "      <td>0.763449</td>\n",
       "      <td>0.441639</td>\n",
       "      <td>0.390240</td>\n",
       "      <td>0.763961</td>\n",
       "      <td>0.207382</td>\n",
       "      <td>0.646313</td>\n",
       "      <td>0.466295</td>\n",
       "    </tr>\n",
       "    <tr>\n",
       "      <th>RlEst</th>\n",
       "      <td>0.166342</td>\n",
       "      <td>0.131410</td>\n",
       "      <td>0.164814</td>\n",
       "      <td>0.174852</td>\n",
       "      <td>0.315619</td>\n",
       "      <td>0.210637</td>\n",
       "      <td>0.177430</td>\n",
       "      <td>0.192660</td>\n",
       "      <td>0.222056</td>\n",
       "      <td>0.166654</td>\n",
       "      <td>...</td>\n",
       "      <td>0.285851</td>\n",
       "      <td>0.298625</td>\n",
       "      <td>0.204739</td>\n",
       "      <td>0.274574</td>\n",
       "      <td>0.198366</td>\n",
       "      <td>0.113587</td>\n",
       "      <td>0.207382</td>\n",
       "      <td>0.660389</td>\n",
       "      <td>0.218227</td>\n",
       "      <td>0.133952</td>\n",
       "    </tr>\n",
       "    <tr>\n",
       "      <th>Fin</th>\n",
       "      <td>0.435800</td>\n",
       "      <td>0.384062</td>\n",
       "      <td>0.345230</td>\n",
       "      <td>0.313734</td>\n",
       "      <td>0.786726</td>\n",
       "      <td>0.522946</td>\n",
       "      <td>0.645153</td>\n",
       "      <td>0.617309</td>\n",
       "      <td>0.577382</td>\n",
       "      <td>0.493958</td>\n",
       "      <td>...</td>\n",
       "      <td>0.605400</td>\n",
       "      <td>0.746018</td>\n",
       "      <td>0.573074</td>\n",
       "      <td>0.768249</td>\n",
       "      <td>0.460782</td>\n",
       "      <td>0.392785</td>\n",
       "      <td>0.646313</td>\n",
       "      <td>0.218227</td>\n",
       "      <td>0.840523</td>\n",
       "      <td>0.482166</td>\n",
       "    </tr>\n",
       "    <tr>\n",
       "      <th>Other</th>\n",
       "      <td>0.247397</td>\n",
       "      <td>0.276492</td>\n",
       "      <td>0.315268</td>\n",
       "      <td>0.216288</td>\n",
       "      <td>0.535787</td>\n",
       "      <td>0.388700</td>\n",
       "      <td>0.500630</td>\n",
       "      <td>0.453636</td>\n",
       "      <td>0.411867</td>\n",
       "      <td>0.417510</td>\n",
       "      <td>...</td>\n",
       "      <td>0.501294</td>\n",
       "      <td>0.565478</td>\n",
       "      <td>0.394592</td>\n",
       "      <td>0.598162</td>\n",
       "      <td>0.306458</td>\n",
       "      <td>0.276781</td>\n",
       "      <td>0.466295</td>\n",
       "      <td>0.133952</td>\n",
       "      <td>0.482166</td>\n",
       "      <td>0.960349</td>\n",
       "    </tr>\n",
       "  </tbody>\n",
       "</table>\n",
       "<p>48 rows × 48 columns</p>\n",
       "</div>"
      ],
      "text/plain": [
       "          Agric     Food      Soda      Beer      Smoke     Toys      Fun    \\\n",
       "Agric  1.198897  0.250099  0.302194  0.326901  0.529796  0.377292  0.429560   \n",
       "Food   0.250099  0.391758  0.243047  0.161768  0.566953  0.295195  0.411494   \n",
       "Soda   0.302194  0.243047  0.876516  0.269208  0.405314  0.243579  0.353071   \n",
       "Beer   0.326901  0.161768  0.269208  1.212012  0.370421  0.194709  0.302926   \n",
       "Smoke  0.529796  0.566953  0.405314  0.370421  3.525390  0.635837  0.774336   \n",
       "Toys   0.377292  0.295195  0.243579  0.194709  0.635837  0.951324  0.551671   \n",
       "Fun    0.429560  0.411494  0.353071  0.302926  0.774336  0.551671  0.981343   \n",
       "Books  0.469897  0.402768  0.335011  0.274047  0.750523  0.498263  0.635983   \n",
       "Hshld  0.361542  0.349684  0.364332  0.244407  0.620872  0.430751  0.554011   \n",
       "Clths  0.337711  0.320854  0.280276  0.255648  0.540213  0.413864  0.518428   \n",
       "Hlth   0.448535  0.366189  0.328138  0.316900  0.644080  0.471740  0.576198   \n",
       "MedEq  0.372167  0.325720  0.240781  0.279171  0.645358  0.447076  0.529573   \n",
       "Drugs  0.514571  0.475390  0.424179  0.480932  0.899096  0.654137  0.787478   \n",
       "Chems  0.494366  0.432275  0.413054  0.351419  0.863377  0.590613  0.683227   \n",
       "Rubbr  0.342653  0.276140  0.196075  0.253676  0.786694  0.321625  0.457382   \n",
       "Txtls  0.328464  0.297061  0.293574  0.210477  0.481377  0.442935  0.540867   \n",
       "BldMt  0.408204  0.349532  0.319325  0.307122  0.631324  0.473845  0.567187   \n",
       "Cnstr  0.419671  0.456136  0.391505  0.359672  0.923148  0.580935  0.735654   \n",
       "Steel  0.590572  0.476526  0.430289  0.383536  1.038274  0.624989  0.761167   \n",
       "FabPr  0.172365  0.215483  0.307889  0.221914  0.488901  0.367386  0.321478   \n",
       "Mach   0.488462  0.435038  0.354898  0.361438  0.860399  0.608184  0.708116   \n",
       "ElcEq  0.443241  0.401192  0.269061  0.331827  0.714214  0.508463  0.581432   \n",
       "Autos  0.631771  0.490649  0.480986  0.430088  0.964976  0.665589  0.842116   \n",
       "Aero   0.476280  0.418019  0.440029  0.364570  0.923752  0.516146  0.663139   \n",
       "Ships  0.361378  0.256471  0.277605  0.068886  0.474883  0.420005  0.432895   \n",
       "Guns   0.250619  0.243053  0.171113  0.114834  0.256714  0.194864  0.260083   \n",
       "Gold   0.480030  0.147354  0.250805  0.118722  0.070386  0.326029  0.151414   \n",
       "Mines  0.469961  0.310686  0.313479  0.218940  0.497978  0.383687  0.378111   \n",
       "Coal   0.467476  0.256834  0.233078  0.262602  0.606672  0.333961  0.423312   \n",
       "Oil    0.242763  0.211302  0.193447  0.152844  0.356839  0.257493  0.329862   \n",
       "Util   0.360350  0.322263  0.252462  0.217090  0.627550  0.409798  0.485865   \n",
       "Telcm  0.593950  0.570560  0.526850  0.545020  1.195977  0.736308  0.943709   \n",
       "PerSv  0.316708  0.301603  0.298739  0.222288  0.658118  0.435671  0.515585   \n",
       "BusSv  0.509302  0.490043  0.388384  0.416294  0.989097  0.661345  0.794735   \n",
       "Comps  0.567638  0.515958  0.436130  0.514985  1.035120  0.797204  0.838704   \n",
       "Chips  0.684712  0.631048  0.526521  0.532318  1.299976  0.921660  1.045942   \n",
       "LabEq  0.520941  0.460247  0.409016  0.419752  0.899879  0.648379  0.735356   \n",
       "Paper  0.381940  0.326630  0.321756  0.249457  0.732110  0.458509  0.562504   \n",
       "Boxes  0.484509  0.366501  0.443941  0.380954  0.734428  0.637648  0.613585   \n",
       "Trans  0.542398  0.476743  0.398376  0.395534  0.878218  0.635205  0.740071   \n",
       "Whlsl  0.371760  0.357742  0.323737  0.292846  0.644557  0.456919  0.571688   \n",
       "Rtail  0.474992  0.471154  0.433174  0.404637  0.932068  0.626546  0.807080   \n",
       "Meals  0.366703  0.283821  0.269040  0.215485  0.588944  0.353731  0.486183   \n",
       "Banks  0.254131  0.233216  0.193983  0.170698  0.507599  0.298447  0.366801   \n",
       "Insur  0.451461  0.408062  0.351585  0.293320  0.789535  0.500205  0.658104   \n",
       "RlEst  0.166342  0.131410  0.164814  0.174852  0.315619  0.210637  0.177430   \n",
       "Fin    0.435800  0.384062  0.345230  0.313734  0.786726  0.522946  0.645153   \n",
       "Other  0.247397  0.276492  0.315268  0.216288  0.535787  0.388700  0.500630   \n",
       "\n",
       "          Books     Hshld     Clths    ...        Boxes     Trans     Whlsl  \\\n",
       "Agric  0.469897  0.361542  0.337711    ...     0.484509  0.542398  0.371760   \n",
       "Food   0.402768  0.349684  0.320854    ...     0.366501  0.476743  0.357742   \n",
       "Soda   0.335011  0.364332  0.280276    ...     0.443941  0.398376  0.323737   \n",
       "Beer   0.274047  0.244407  0.255648    ...     0.380954  0.395534  0.292846   \n",
       "Smoke  0.750523  0.620872  0.540213    ...     0.734428  0.878218  0.644557   \n",
       "Toys   0.498263  0.430751  0.413864    ...     0.637648  0.635205  0.456919   \n",
       "Fun    0.635983  0.554011  0.518428    ...     0.613585  0.740071  0.571688   \n",
       "Books  0.908404  0.580378  0.468944    ...     0.648203  0.764614  0.524426   \n",
       "Hshld  0.580378  0.719593  0.485197    ...     0.595280  0.658957  0.490890   \n",
       "Clths  0.468944  0.485197  0.632651    ...     0.559366  0.622289  0.460286   \n",
       "Hlth   0.590910  0.540399  0.440728    ...     0.561756  0.653227  0.551445   \n",
       "MedEq  0.503632  0.469862  0.425365    ...     0.520151  0.623879  0.502629   \n",
       "Drugs  0.754783  0.679349  0.663389    ...     0.833678  0.924667  0.724553   \n",
       "Chems  0.702628  0.633143  0.559295    ...     0.835578  0.799208  0.603583   \n",
       "Rubbr  0.428105  0.342704  0.345211    ...     0.410841  0.572929  0.415512   \n",
       "Txtls  0.503858  0.480939  0.498488    ...     0.585759  0.715672  0.477771   \n",
       "BldMt  0.570400  0.493462  0.473438    ...     0.611714  0.686573  0.505224   \n",
       "Cnstr  0.641521  0.657545  0.606621    ...     0.718799  0.836752  0.647322   \n",
       "Steel  0.774506  0.683287  0.600993    ...     0.861931  0.970444  0.726885   \n",
       "FabPr  0.272057  0.294408  0.347792    ...     0.510892  0.579170  0.364223   \n",
       "Mach   0.689371  0.642284  0.571814    ...     0.713229  0.874909  0.657208   \n",
       "ElcEq  0.614728  0.584730  0.512129    ...     0.607272  0.801553  0.589013   \n",
       "Autos  0.842318  0.748811  0.666114    ...     0.868524  1.009357  0.724654   \n",
       "Aero   0.633053  0.569789  0.545004    ...     0.678086  0.876842  0.581860   \n",
       "Ships  0.428387  0.386867  0.360105    ...     0.542037  0.593897  0.378449   \n",
       "Guns   0.255084  0.159367  0.223669    ...     0.398185  0.343977  0.336623   \n",
       "Gold   0.095605  0.216993  0.256596    ...     0.165100  0.232925  0.296390   \n",
       "Mines  0.466701  0.505516  0.402166    ...     0.596289  0.702101  0.531213   \n",
       "Coal   0.490482  0.331786  0.368056    ...     0.540727  0.508941  0.396898   \n",
       "Oil    0.348186  0.289040  0.261083    ...     0.281744  0.379243  0.324420   \n",
       "Util   0.509975  0.424916  0.383819    ...     0.489775  0.596059  0.411936   \n",
       "Telcm  0.894916  0.762750  0.687957    ...     0.887208  1.081152  0.825915   \n",
       "PerSv  0.468999  0.446119  0.413079    ...     0.522063  0.648646  0.444655   \n",
       "BusSv  0.745871  0.690308  0.652117    ...     0.789485  0.953505  0.734412   \n",
       "Comps  0.800778  0.769634  0.742901    ...     0.898387  1.045308  0.825135   \n",
       "Chips  0.993885  0.934821  0.854273    ...     1.020356  1.280414  0.997891   \n",
       "LabEq  0.739803  0.674198  0.644175    ...     0.785387  0.939643  0.703405   \n",
       "Paper  0.593742  0.491851  0.441193    ...     0.609941  0.673505  0.464028   \n",
       "Boxes  0.648203  0.595280  0.559366    ...     1.550249  0.858233  0.549752   \n",
       "Trans  0.764614  0.658957  0.622289    ...     0.858233  1.294694  0.658035   \n",
       "Whlsl  0.524426  0.490890  0.460286    ...     0.549752  0.658035  0.658068   \n",
       "Rtail  0.763983  0.719646  0.686800    ...     0.799077  0.972128  0.680128   \n",
       "Meals  0.469537  0.400961  0.335046    ...     0.405939  0.535416  0.389692   \n",
       "Banks  0.335784  0.322958  0.298601    ...     0.384403  0.447081  0.331226   \n",
       "Insur  0.645674  0.573176  0.506076    ...     0.649079  0.755396  0.538801   \n",
       "RlEst  0.192660  0.222056  0.166654    ...     0.285851  0.298625  0.204739   \n",
       "Fin    0.617309  0.577382  0.493958    ...     0.605400  0.746018  0.573074   \n",
       "Other  0.453636  0.411867  0.417510    ...     0.501294  0.565478  0.394592   \n",
       "\n",
       "          Rtail     Meals     Banks     Insur     RlEst     Fin       Other  \n",
       "Agric  0.474992  0.366703  0.254131  0.451461  0.166342  0.435800  0.247397  \n",
       "Food   0.471154  0.283821  0.233216  0.408062  0.131410  0.384062  0.276492  \n",
       "Soda   0.433174  0.269040  0.193983  0.351585  0.164814  0.345230  0.315268  \n",
       "Beer   0.404637  0.215485  0.170698  0.293320  0.174852  0.313734  0.216288  \n",
       "Smoke  0.932068  0.588944  0.507599  0.789535  0.315619  0.786726  0.535787  \n",
       "Toys   0.626546  0.353731  0.298447  0.500205  0.210637  0.522946  0.388700  \n",
       "Fun    0.807080  0.486183  0.366801  0.658104  0.177430  0.645153  0.500630  \n",
       "Books  0.763983  0.469537  0.335784  0.645674  0.192660  0.617309  0.453636  \n",
       "Hshld  0.719646  0.400961  0.322958  0.573176  0.222056  0.577382  0.411867  \n",
       "Clths  0.686800  0.335046  0.298601  0.506076  0.166654  0.493958  0.417510  \n",
       "Hlth   0.721486  0.423628  0.342551  0.617234  0.184083  0.605812  0.389189  \n",
       "MedEq  0.639309  0.347157  0.318092  0.515477  0.225762  0.566195  0.410948  \n",
       "Drugs  0.985535  0.533871  0.454378  0.773704  0.289447  0.862227  0.609245  \n",
       "Chems  0.829738  0.461979  0.401665  0.687171  0.202309  0.671819  0.610786  \n",
       "Rubbr  0.513862  0.284926  0.290843  0.457179  0.171895  0.476021  0.452516  \n",
       "Txtls  0.655765  0.377294  0.328528  0.544847  0.144253  0.576241  0.532643  \n",
       "BldMt  0.699759  0.433412  0.332732  0.549792  0.206988  0.531860  0.424832  \n",
       "Cnstr  0.926994  0.490302  0.446885  0.722489  0.313764  0.732661  0.565516  \n",
       "Steel  0.951463  0.551910  0.495226  0.800590  0.249048  0.846144  0.588523  \n",
       "FabPr  0.445592  0.364080  0.244516  0.359425  0.084050  0.390408  0.353656  \n",
       "Mach   0.887123  0.513833  0.424162  0.688819  0.272265  0.726388  0.542528  \n",
       "ElcEq  0.775757  0.445261  0.372019  0.591251  0.237997  0.648450  0.494193  \n",
       "Autos  1.026377  0.567776  0.456792  0.812997  0.258005  0.815172  0.635799  \n",
       "Aero   0.783512  0.415175  0.377451  0.653227  0.204817  0.647069  0.443764  \n",
       "Ships  0.504973  0.236444  0.266283  0.466833  0.175438  0.494993  0.438467  \n",
       "Guns   0.301299  0.271094  0.219302  0.333742  0.170776  0.322915  0.152740  \n",
       "Gold   0.212961  0.151670  0.155161  0.287823  0.197137  0.344938  0.110601  \n",
       "Mines  0.556441  0.349479  0.355999  0.492232  0.209397  0.496717  0.419761  \n",
       "Coal   0.557174  0.320113  0.282708  0.475364  0.240680  0.410657  0.322384  \n",
       "Oil    0.373546  0.194393  0.208383  0.341782  0.150386  0.346660  0.298144  \n",
       "Util   0.574884  0.321947  0.303814  0.523431  0.169151  0.486268  0.417337  \n",
       "Telcm  1.104976  0.658149  0.523449  0.895302  0.291345  0.955522  0.644034  \n",
       "PerSv  0.643197  0.366239  0.310837  0.499486  0.209986  0.502712  0.365842  \n",
       "BusSv  0.986276  0.558687  0.471282  0.772004  0.290643  0.859927  0.612682  \n",
       "Comps  1.079226  0.630974  0.513372  0.829167  0.345822  0.937111  0.662956  \n",
       "Chips  1.316347  0.738897  0.620695  0.984200  0.366552  1.129344  0.839358  \n",
       "LabEq  0.959101  0.537374  0.453058  0.735551  0.267849  0.848756  0.560622  \n",
       "Paper  0.677921  0.396716  0.318570  0.565567  0.165133  0.525535  0.433192  \n",
       "Boxes  0.799077  0.405939  0.384403  0.649079  0.285851  0.605400  0.501294  \n",
       "Trans  0.972128  0.535416  0.447081  0.755396  0.298625  0.746018  0.565478  \n",
       "Whlsl  0.680128  0.389692  0.331226  0.538801  0.204739  0.573074  0.394592  \n",
       "Rtail  1.117503  0.547945  0.451395  0.763449  0.274574  0.768249  0.598162  \n",
       "Meals  0.547945  0.700704  0.245959  0.441639  0.198366  0.460782  0.306458  \n",
       "Banks  0.451395  0.245959  0.271004  0.390240  0.113587  0.392785  0.276781  \n",
       "Insur  0.763449  0.441639  0.390240  0.763961  0.207382  0.646313  0.466295  \n",
       "RlEst  0.274574  0.198366  0.113587  0.207382  0.660389  0.218227  0.133952  \n",
       "Fin    0.768249  0.460782  0.392785  0.646313  0.218227  0.840523  0.482166  \n",
       "Other  0.598162  0.306458  0.276781  0.466295  0.133952  0.482166  0.960349  \n",
       "\n",
       "[48 rows x 48 columns]"
      ]
     },
     "execution_count": 67,
     "metadata": {},
     "output_type": "execute_result"
    }
   ],
   "source": [
    "cov=two_thousand.cov()\n",
    "cov"
   ]
  },
  {
   "cell_type": "markdown",
   "metadata": {
    "hideCode": false,
    "hidePrompt": false
   },
   "source": [
    "## Part B"
   ]
  },
  {
   "cell_type": "markdown",
   "metadata": {
    "hideCode": false,
    "hidePrompt": false
   },
   "source": [
    "### Naive Portfolio"
   ]
  },
  {
   "cell_type": "code",
   "execution_count": 68,
   "metadata": {
    "hideCode": false,
    "hidePrompt": false
   },
   "outputs": [
    {
     "data": {
      "text/plain": [
       "0.21831653225806455"
      ]
     },
     "execution_count": 68,
     "metadata": {},
     "output_type": "execute_result"
    }
   ],
   "source": [
    "mu_naive=mu.mean()\n",
    "mu_naive"
   ]
  },
  {
   "cell_type": "code",
   "execution_count": 69,
   "metadata": {
    "hideCode": false,
    "hidePrompt": false
   },
   "outputs": [
    {
     "data": {
      "text/plain": [
       "0.7487773313306331"
      ]
     },
     "execution_count": 69,
     "metadata": {},
     "output_type": "execute_result"
    }
   ],
   "source": [
    "sigma_naive=two_thousand.mean(axis=1).std()\n",
    "sigma_naive"
   ]
  },
  {
   "cell_type": "markdown",
   "metadata": {
    "hideCode": false,
    "hidePrompt": false
   },
   "source": [
    "### Market Portfolio"
   ]
  },
  {
   "cell_type": "code",
   "execution_count": 70,
   "metadata": {
    "hideCode": false,
    "hidePrompt": false
   },
   "outputs": [
    {
     "data": {
      "text/plain": [
       "0.10158370060612568"
      ]
     },
     "execution_count": 70,
     "metadata": {},
     "output_type": "execute_result"
    }
   ],
   "source": [
    "mu_market=sp.mean()\n",
    "mu_market"
   ]
  },
  {
   "cell_type": "code",
   "execution_count": 71,
   "metadata": {
    "hideCode": false,
    "hidePrompt": false
   },
   "outputs": [
    {
     "data": {
      "text/plain": [
       "1.0832468552038579"
      ]
     },
     "execution_count": 71,
     "metadata": {},
     "output_type": "execute_result"
    }
   ],
   "source": [
    "sigma_market=sp.std()\n",
    "sigma_market"
   ]
  },
  {
   "cell_type": "markdown",
   "metadata": {
    "hideCode": false,
    "hidePrompt": false
   },
   "source": [
    "### MVP Portfolio"
   ]
  },
  {
   "cell_type": "code",
   "execution_count": 72,
   "metadata": {
    "hideCode": false,
    "hidePrompt": false
   },
   "outputs": [],
   "source": [
    "from numpy.linalg import inv"
   ]
  },
  {
   "cell_type": "code",
   "execution_count": 73,
   "metadata": {
    "hideCode": false,
    "hidePrompt": false
   },
   "outputs": [],
   "source": [
    "one_vector=np.ones((48,1))"
   ]
  },
  {
   "cell_type": "code",
   "execution_count": 74,
   "metadata": {
    "hideCode": false,
    "hidePrompt": false
   },
   "outputs": [],
   "source": [
    "sigma_mvp=1/np.sqrt(np.matmul(np.matmul(one_vector.T,inv(cov)),one_vector))"
   ]
  },
  {
   "cell_type": "code",
   "execution_count": 75,
   "metadata": {
    "hideCode": false,
    "hidePrompt": false
   },
   "outputs": [
    {
     "data": {
      "text/plain": [
       "0.27058941439662798"
      ]
     },
     "execution_count": 75,
     "metadata": {},
     "output_type": "execute_result"
    }
   ],
   "source": [
    "sigma_mvp=sigma_mvp[0][0]\n",
    "sigma_mvp"
   ]
  },
  {
   "cell_type": "code",
   "execution_count": 76,
   "metadata": {
    "hideCode": false,
    "hidePrompt": false
   },
   "outputs": [],
   "source": [
    "weights_mvp=sigma_mvp**2*np.matmul(inv(cov),one_vector)"
   ]
  },
  {
   "cell_type": "code",
   "execution_count": 77,
   "metadata": {
    "hideCode": false,
    "hidePrompt": false
   },
   "outputs": [],
   "source": [
    "weights_mvp=weights_mvp.flatten()"
   ]
  },
  {
   "cell_type": "code",
   "execution_count": 78,
   "metadata": {
    "hideCode": false,
    "hidePrompt": false
   },
   "outputs": [],
   "source": [
    "mu_mvp=(weights_mvp*two_thousand).mean(axis=1).mean()"
   ]
  },
  {
   "cell_type": "code",
   "execution_count": 79,
   "metadata": {
    "hideCode": false,
    "hidePrompt": false
   },
   "outputs": [
    {
     "data": {
      "text/plain": [
       "0.002530936183956457"
      ]
     },
     "execution_count": 79,
     "metadata": {},
     "output_type": "execute_result"
    }
   ],
   "source": [
    "mu_mvp"
   ]
  },
  {
   "cell_type": "markdown",
   "metadata": {
    "hideCode": false,
    "hidePrompt": false
   },
   "source": [
    "### Random 2 Sector Efficient Frontiers"
   ]
  },
  {
   "cell_type": "code",
   "execution_count": 80,
   "metadata": {
    "hideCode": false,
    "hidePrompt": false
   },
   "outputs": [
    {
     "data": {
      "text/plain": [
       "Text(0,0.5,'\\\\mu')"
      ]
     },
     "execution_count": 80,
     "metadata": {},
     "output_type": "execute_result"
    },
    {
     "data": {
      "image/png": "[encoded data removed]",
      "text/plain": [
       "<Figure size 720x576 with 1 Axes>"
      ]
     },
     "metadata": {},
     "output_type": "display_data"
    }
   ],
   "source": [
    "mpl.rcParams['figure.figsize']=[10,8]\n",
    "legend=[]\n",
    "for j in range(5):\n",
    "    rand_sectors=np.random.choice(range(48),size=2)\n",
    "    mus={}\n",
    "    sigmas={}\n",
    "    for i in range(2):\n",
    "        mus[i]=two_thousand[two_thousand.columns[rand_sectors][i]].mean()\n",
    "        sigmas[i]=two_thousand[two_thousand.columns[rand_sectors][i]].std()\n",
    "    \n",
    "    cov12=two_thousand[two_thousand.columns[rand_sectors][0]].cov(two_thousand[two_thousand.columns[rand_sectors][1]])\n",
    "    mus_array=np.array(list(mus.values()))\n",
    "    sigmas_array=np.array(list(sigmas.values()))\n",
    "    cov=two_thousand[two_thousand.columns[rand_sectors]].cov()\n",
    "    one_vector=np.array([1,0])\n",
    "    \n",
    "    sigma_mvp=1/np.sqrt(one_vector.T@inv(cov)@one_vector)\n",
    "    #sigma_mvp=sigma_mvp[0][0]\n",
    "    weights_mvp=sigma_mvp**2*inv(cov)@one_vector\n",
    "    mu_mvp=(two_thousand[two_thousand.columns[rand_sectors]]@weights_mvp).mean()\n",
    "    mus_v=np.linspace(mus_array[0],mus_array[1],100)\n",
    "    w1=((mus_v-mus_array[1])/(mus_array[0]-mus_array[1])).reshape((100,1))\n",
    "    w2=((mus_array[0]-mus_v)/(mus_array[0]-mus_array[1])).reshape((100,1))\n",
    "    w=np.concatenate((w1,w2),axis=1)\n",
    "    sigma_v=np.diag(w@cov@w.T)\n",
    "    \n",
    "    plt.plot(sigma_v,mus_v)\n",
    "    s=\" \"\n",
    "    title=s.join(list(two_thousand.columns[rand_sectors]))\n",
    "    legend.append(title)\n",
    "plt.legend(legend)\n",
    "plt.title(\"5 Efficient Frontiers with 2 Random Sectors Each\")\n",
    "plt.xlabel(\"\\sigma\")\n",
    "plt.ylabel(\"\\mu\")"
   ]
  },
  {
   "cell_type": "markdown",
   "metadata": {
    "hideCode": false,
    "hidePrompt": false
   },
   "source": [
    "# Part C"
   ]
  },
  {
   "cell_type": "code",
   "execution_count": 81,
   "metadata": {
    "hideCode": false,
    "hidePrompt": false
   },
   "outputs": [],
   "source": [
    "mu_test=np.linspace(-1,1,500)"
   ]
  },
  {
   "cell_type": "code",
   "execution_count": 82,
   "metadata": {
    "hideCode": false,
    "hidePrompt": false
   },
   "outputs": [],
   "source": [
    "cov=two_thousand.cov()"
   ]
  },
  {
   "cell_type": "code",
   "execution_count": 83,
   "metadata": {
    "hideCode": false,
    "hidePrompt": false
   },
   "outputs": [],
   "source": [
    "sigma_vs=[]\n",
    "for i in mu_test:\n",
    "    mu_tilde=np.array([i,1])\n",
    "    m_tilde=np.concatenate((mu.values.reshape((48,1)),np.ones((48,1))),axis=1)\n",
    "    B=m_tilde.T@inv(cov)@m_tilde\n",
    "    sigma_v=np.sqrt(mu_tilde.T@inv(B)@m_tilde.T@inv(cov)@m_tilde@inv(B)@mu_tilde)\n",
    "    sigma_vs.append(sigma_v)"
   ]
  },
  {
   "cell_type": "code",
   "execution_count": 84,
   "metadata": {
    "hideCode": false,
    "hidePrompt": false
   },
   "outputs": [],
   "source": [
    "one_vector=np.ones((48,1))"
   ]
  },
  {
   "cell_type": "code",
   "execution_count": 85,
   "metadata": {
    "hideCode": false,
    "hidePrompt": false
   },
   "outputs": [],
   "source": [
    "sigma_mvp=1/np.sqrt(np.matmul(np.matmul(one_vector.T,inv(cov)),one_vector))\n",
    "sigma_mvp=sigma_mvp[0][0]\n",
    "weights_mvp=sigma_mvp**2*np.matmul(inv(cov),one_vector)\n",
    "mu_mvp=((two_thousand@weights_mvp).mean()).values[0]"
   ]
  },
  {
   "cell_type": "code",
   "execution_count": 86,
   "metadata": {
    "hideCode": false,
    "hidePrompt": false
   },
   "outputs": [
    {
     "data": {
      "text/plain": [
       "0.12148493682991003"
      ]
     },
     "execution_count": 86,
     "metadata": {},
     "output_type": "execute_result"
    }
   ],
   "source": [
    "mu_mvp"
   ]
  },
  {
   "cell_type": "code",
   "execution_count": 87,
   "metadata": {
    "hideCode": false,
    "hidePrompt": false
   },
   "outputs": [],
   "source": [
    "m_ex=mu.values-(libor.mean()*one_vector).flatten()"
   ]
  },
  {
   "cell_type": "code",
   "execution_count": 88,
   "metadata": {
    "hideCode": false,
    "hidePrompt": false
   },
   "outputs": [],
   "source": [
    "w_m=(1/(one_vector.T@inv(cov)@m_ex))*inv(cov)@m_ex"
   ]
  },
  {
   "cell_type": "code",
   "execution_count": 89,
   "metadata": {
    "hideCode": false,
    "hidePrompt": false
   },
   "outputs": [
    {
     "data": {
      "text/plain": [
       "0.3197855558124429"
      ]
     },
     "execution_count": 89,
     "metadata": {},
     "output_type": "execute_result"
    }
   ],
   "source": [
    "mu_m=(two_thousand@w_m).mean()\n",
    "mu_m"
   ]
  },
  {
   "cell_type": "code",
   "execution_count": 90,
   "metadata": {
    "hideCode": false,
    "hidePrompt": false
   },
   "outputs": [
    {
     "data": {
      "text/plain": [
       "0.44523323017917654"
      ]
     },
     "execution_count": 90,
     "metadata": {},
     "output_type": "execute_result"
    }
   ],
   "source": [
    "sigma_m=(two_thousand@w_m).std()\n",
    "sigma_m"
   ]
  },
  {
   "cell_type": "code",
   "execution_count": 91,
   "metadata": {
    "hideCode": false,
    "hidePrompt": false
   },
   "outputs": [
    {
     "data": {
      "text/plain": [
       "Text(0.5,1,'Markowitz Bullet and CML')"
      ]
     },
     "execution_count": 91,
     "metadata": {},
     "output_type": "execute_result"
    },
    {
     "data": {
      "image/png": "[encoded data removed]",
      "text/plain": [
       "<Figure size 720x576 with 1 Axes>"
      ]
     },
     "metadata": {},
     "output_type": "display_data"
    }
   ],
   "source": [
    "plt.plot(sigma_vs,mu_test,label=\"Efficient Frontier\")\n",
    "plt.scatter(0,libor.mean(),c=\"r\",label=\"Risk Free Rate\")\n",
    "plt.scatter(sigma_mvp,mu_mvp,c=\"g\",label=\"MVP\")\n",
    "plt.scatter(sigma_m,mu_m,c=\"y\",label=\"Market\")\n",
    "plt.plot([0,sigma_m],[libor.mean(),mu_m],label=\"CML\")\n",
    "plt.grid()\n",
    "plt.legend()\n",
    "plt.title(\"Markowitz Bullet and CML\")"
   ]
  },
  {
   "cell_type": "markdown",
   "metadata": {
    "hideCode": false,
    "hidePrompt": false
   },
   "source": [
    "# Part D"
   ]
  },
  {
   "cell_type": "code",
   "execution_count": 92,
   "metadata": {
    "hideCode": false,
    "hidePrompt": false
   },
   "outputs": [],
   "source": [
    "sigma_vs=np.array(sigma_vs)\n",
    "test_mus=mu_test[mu_test>0]\n",
    "test_sigs=sigma_vs[mu_test>0]\n",
    "three_ix=np.random.randint(low=0,high=len(test_mus),size=3)"
   ]
  },
  {
   "cell_type": "code",
   "execution_count": 93,
   "metadata": {
    "hideCode": false,
    "hidePrompt": false
   },
   "outputs": [],
   "source": [
    "three_ix.sort()"
   ]
  },
  {
   "cell_type": "code",
   "execution_count": 94,
   "metadata": {
    "hideCode": false,
    "hidePrompt": false
   },
   "outputs": [
    {
     "data": {
      "text/plain": [
       "array([ 0.1743487 ,  0.32665331,  0.85170341])"
      ]
     },
     "execution_count": 94,
     "metadata": {},
     "output_type": "execute_result"
    }
   ],
   "source": [
    "test_mus[three_ix]"
   ]
  },
  {
   "cell_type": "code",
   "execution_count": 95,
   "metadata": {
    "hideCode": false,
    "hidePrompt": false
   },
   "outputs": [
    {
     "data": {
      "text/plain": [
       "array([ 0.28653621,  0.45501846,  1.32981196])"
      ]
     },
     "execution_count": 95,
     "metadata": {},
     "output_type": "execute_result"
    }
   ],
   "source": [
    "test_sigs[three_ix]"
   ]
  },
  {
   "cell_type": "markdown",
   "metadata": {
    "hideCode": false,
    "hidePrompt": false
   },
   "source": [
    "Always Increasing"
   ]
  },
  {
   "cell_type": "code",
   "execution_count": 96,
   "metadata": {
    "hideCode": false,
    "hidePrompt": false
   },
   "outputs": [],
   "source": [
    "#compute the weight vectors for the test_mus\n",
    "three_mus=test_mus[three_ix]\n",
    "three_mus=np.concatenate((three_mus.reshape((1,3)),np.ones((1,3))))"
   ]
  },
  {
   "cell_type": "code",
   "execution_count": 97,
   "metadata": {
    "hideCode": false,
    "hidePrompt": false
   },
   "outputs": [
    {
     "data": {
      "text/plain": [
       "array([[ 0.1743487 ,  0.32665331,  0.85170341],\n",
       "       [ 1.        ,  1.        ,  1.        ]])"
      ]
     },
     "execution_count": 97,
     "metadata": {},
     "output_type": "execute_result"
    }
   ],
   "source": [
    "three_mus"
   ]
  },
  {
   "cell_type": "code",
   "execution_count": 98,
   "metadata": {
    "hideCode": false,
    "hidePrompt": false
   },
   "outputs": [],
   "source": [
    "three_weights=inv(cov)@m_tilde@inv(B)@three_mus"
   ]
  },
  {
   "cell_type": "code",
   "execution_count": 99,
   "metadata": {
    "hideCode": false,
    "hidePrompt": false
   },
   "outputs": [],
   "source": [
    "M=np.stack((three_weights[:,0],three_weights[:,2]),axis=1)"
   ]
  },
  {
   "cell_type": "code",
   "execution_count": 100,
   "metadata": {
    "hideCode": false,
    "hidePrompt": false
   },
   "outputs": [],
   "source": [
    "weights=(inv(M.T@M)@M.T)@three_weights[:,1]"
   ]
  },
  {
   "cell_type": "markdown",
   "metadata": {
    "hideCode": false,
    "hidePrompt": false
   },
   "source": [
    "Moore Penrose Psuedo Inverse"
   ]
  },
  {
   "cell_type": "code",
   "execution_count": 101,
   "metadata": {
    "hideCode": false,
    "hidePrompt": false
   },
   "outputs": [
    {
     "data": {
      "text/plain": [
       "array([  1.38777878e-17,   4.16333634e-17,   0.00000000e+00,\n",
       "         1.38777878e-17,  -5.20417043e-18,   3.46944695e-18,\n",
       "         1.38777878e-17,   6.93889390e-18,   1.38777878e-17,\n",
       "         0.00000000e+00,   2.77555756e-17,   1.11022302e-16,\n",
       "        -3.46944695e-18,   0.00000000e+00,   0.00000000e+00,\n",
       "         0.00000000e+00,  -1.38777878e-17,   0.00000000e+00,\n",
       "        -3.46944695e-18,   1.30104261e-18,   0.00000000e+00,\n",
       "         3.46944695e-18,  -5.55111512e-17,   0.00000000e+00,\n",
       "         1.38777878e-17,   6.93889390e-18,  -8.67361738e-19,\n",
       "        -1.73472348e-18,  -1.73472348e-18,   2.77555756e-17,\n",
       "         2.77555756e-17,  -1.38777878e-17,   2.77555756e-17,\n",
       "        -2.08166817e-17,  -1.38777878e-17,   0.00000000e+00,\n",
       "         5.55111512e-17,   0.00000000e+00,  -2.77555756e-17,\n",
       "        -2.77555756e-17,   0.00000000e+00,  -2.77555756e-17,\n",
       "         2.77555756e-17,   0.00000000e+00,  -1.11022302e-16,\n",
       "         1.38777878e-17,  -6.93889390e-18,   0.00000000e+00])"
      ]
     },
     "execution_count": 101,
     "metadata": {},
     "output_type": "execute_result"
    }
   ],
   "source": [
    "(weights[0]*M[:,0]+weights[1]*M[:,1])-three_weights[:,1]"
   ]
  },
  {
   "cell_type": "markdown",
   "metadata": {
    "hideCode": false,
    "hidePrompt": false
   },
   "source": [
    "Small delta difference"
   ]
  },
  {
   "cell_type": "markdown",
   "metadata": {
    "hideCode": false,
    "hidePrompt": false
   },
   "source": [
    "# Part E"
   ]
  },
  {
   "cell_type": "code",
   "execution_count": 102,
   "metadata": {
    "hideCode": false,
    "hidePrompt": false
   },
   "outputs": [
    {
     "data": {
      "text/plain": [
       "True"
      ]
     },
     "execution_count": 102,
     "metadata": {},
     "output_type": "execute_result"
    }
   ],
   "source": [
    "libor.mean()<mu_mvp"
   ]
  },
  {
   "cell_type": "markdown",
   "metadata": {
    "hideCode": false,
    "hidePrompt": false
   },
   "source": [
    "# Part F"
   ]
  },
  {
   "cell_type": "code",
   "execution_count": 103,
   "metadata": {
    "hideCode": false,
    "hidePrompt": false
   },
   "outputs": [
    {
     "data": {
      "text/plain": [
       "0.7062411129758475"
      ]
     },
     "execution_count": 103,
     "metadata": {},
     "output_type": "execute_result"
    }
   ],
   "source": [
    "slope=((mu_m-libor.mean())/sigma_m)\n",
    "slope"
   ]
  },
  {
   "cell_type": "code",
   "execution_count": 104,
   "metadata": {
    "hideCode": false,
    "hidePrompt": false
   },
   "outputs": [
    {
     "data": {
      "text/plain": [
       "0.005343543796869578"
      ]
     },
     "execution_count": 104,
     "metadata": {},
     "output_type": "execute_result"
    }
   ],
   "source": [
    "libor.mean()"
   ]
  },
  {
   "cell_type": "markdown",
   "metadata": {
    "hideCode": false,
    "hidePrompt": false
   },
   "source": [
    "Capital Market Line Equation:\n",
    "$$\\mu=0.005+0.71\\sigma$$"
   ]
  },
  {
   "cell_type": "markdown",
   "metadata": {
    "hideCode": false,
    "hidePrompt": false
   },
   "source": [
    "# Part G"
   ]
  },
  {
   "cell_type": "code",
   "execution_count": 105,
   "metadata": {
    "hideCode": false,
    "hidePrompt": false
   },
   "outputs": [],
   "source": [
    "k_mvp=(two_thousand@weights_mvp)[0]\n",
    "k_one=two_thousand@three_weights[:,0]\n",
    "k_two=two_thousand@three_weights[:,1]\n",
    "k_three=two_thousand@three_weights[:,2]\n",
    "k_naive=(two_thousand@(1/48.0*np.ones((48,1))))[0]\n",
    "k_market=two_thousand@w_m"
   ]
  },
  {
   "cell_type": "code",
   "execution_count": 106,
   "metadata": {
    "hideCode": false,
    "hidePrompt": false
   },
   "outputs": [
    {
     "data": {
      "text/plain": [
       "0.073218631183509783"
      ]
     },
     "execution_count": 106,
     "metadata": {},
     "output_type": "execute_result"
    }
   ],
   "source": [
    "k_market.cov(k_mvp)"
   ]
  },
  {
   "cell_type": "code",
   "execution_count": 107,
   "metadata": {
    "hideCode": false,
    "hidePrompt": false
   },
   "outputs": [],
   "source": [
    "beta_mvp=k_market.cov(k_mvp)/k_market.std()\n",
    "beta_one=k_market.cov(k_one)/k_market.std()\n",
    "beta_two=k_market.cov(k_two)/k_market.std()\n",
    "beta_three=k_market.cov(k_three)/k_market.std()\n",
    "beta_naive=k_market.cov(k_naive)/k_market.std()"
   ]
  },
  {
   "cell_type": "code",
   "execution_count": 108,
   "metadata": {
    "hideCode": false,
    "hidePrompt": false
   },
   "outputs": [
    {
     "data": {
      "text/plain": [
       "Text(0.5,1,'Security Market Line')"
      ]
     },
     "execution_count": 108,
     "metadata": {},
     "output_type": "execute_result"
    },
    {
     "data": {
      "image/png": "[encoded data removed]",
      "text/plain": [
       "<Figure size 720x576 with 1 Axes>"
      ]
     },
     "metadata": {},
     "output_type": "display_data"
    }
   ],
   "source": [
    "plt.scatter(mu_mvp,beta_mvp,label=\"MVP\")\n",
    "plt.scatter(test_mus[three_ix][0],beta_one,label=\"ONE\")\n",
    "plt.scatter(test_mus[three_ix][1],beta_two,label=\"TWO\")\n",
    "plt.scatter(test_mus[three_ix][2],beta_two,label='THREE')\n",
    "plt.scatter(mu_naive,beta_naive,label=\"NAIVE\")\n",
    "plt.plot([0,1],[libor.mean(),1],label=\"SML\")\n",
    "plt.legend()\n",
    "plt.title(\"Security Market Line\")"
   ]
  },
  {
   "cell_type": "markdown",
   "metadata": {
    "hideCode": false,
    "hidePrompt": false
   },
   "source": [
    "# Part H"
   ]
  },
  {
   "cell_type": "code",
   "execution_count": 109,
   "metadata": {
    "hideCode": false,
    "hidePrompt": false
   },
   "outputs": [],
   "source": [
    "def cum_rets(k):\n",
    "    prev=[100]\n",
    "    for i in k:\n",
    "        prev.append(prev[-1]*(1+0.01*i))\n",
    "    return prev"
   ]
  },
  {
   "cell_type": "code",
   "execution_count": 110,
   "metadata": {
    "hideCode": false,
    "hidePrompt": false
   },
   "outputs": [],
   "source": [
    "feed={\"mvp\":k_mvp,\"one\":k_one,\"two\":k_two,\"three\":k_three,\"naive\":k_naive}\n",
    "rets=pd.DataFrame(index=k_mvp.index,columns=list(feed.keys()))\n",
    "for i in feed.keys():\n",
    "    rets[i]=pd.Series(cum_rets(feed[i])[1:],index=feed[i].index)"
   ]
  },
  {
   "cell_type": "code",
   "execution_count": 111,
   "metadata": {
    "hideCode": false,
    "hidePrompt": false,
    "scrolled": false
   },
   "outputs": [
    {
     "data": {
      "text/plain": [
       "Text(0.5,1,'Cumulative Return by Various Portfolios')"
      ]
     },
     "execution_count": 111,
     "metadata": {},
     "output_type": "execute_result"
    },
    {
     "data": {
      "image/png": "[encoded data removed]",
      "text/plain": [
       "<Figure size 720x576 with 1 Axes>"
      ]
     },
     "metadata": {},
     "output_type": "display_data"
    }
   ],
   "source": [
    "rets.plot()\n",
    "plt.title(\"Cumulative Return by Various Portfolios\")"
   ]
  },
  {
   "cell_type": "markdown",
   "metadata": {
    "hideCode": false,
    "hidePrompt": false
   },
   "source": [
    "# 2017"
   ]
  },
  {
   "cell_type": "code",
   "execution_count": 112,
   "metadata": {
    "hideCode": false,
    "hidePrompt": false
   },
   "outputs": [
    {
     "name": "stdout",
     "output_type": "stream",
     "text": [
      "/home/meltingpot/fsp/reduced\n"
     ]
    }
   ],
   "source": [
    "%cd /home/meltingpot/fsp/reduced"
   ]
  },
  {
   "cell_type": "code",
   "execution_count": 113,
   "metadata": {
    "hideCode": false,
    "hidePrompt": false
   },
   "outputs": [],
   "source": [
    "two_thousand=pd.read_csv(\"industry_returns_2017.csv\")"
   ]
  },
  {
   "cell_type": "code",
   "execution_count": 114,
   "metadata": {
    "hideCode": false,
    "hidePrompt": false
   },
   "outputs": [],
   "source": [
    "two_thousand['date']=pd.to_datetime(two_thousand['date'])"
   ]
  },
  {
   "cell_type": "code",
   "execution_count": 115,
   "metadata": {
    "hideCode": false,
    "hidePrompt": false
   },
   "outputs": [],
   "source": [
    "two_thousand=two_thousand.set_index(\"date\")"
   ]
  },
  {
   "cell_type": "code",
   "execution_count": 116,
   "metadata": {
    "hideCode": false,
    "hidePrompt": false
   },
   "outputs": [],
   "source": [
    "sp=two_thousand['SP500']\n",
    "libor=two_thousand['libor']"
   ]
  },
  {
   "cell_type": "code",
   "execution_count": 117,
   "metadata": {
    "hideCode": false,
    "hidePrompt": false
   },
   "outputs": [],
   "source": [
    "del two_thousand['SP500']\n",
    "del two_thousand['libor']"
   ]
  },
  {
   "cell_type": "markdown",
   "metadata": {
    "hideCode": false,
    "hidePrompt": false
   },
   "source": [
    "## Part A"
   ]
  },
  {
   "cell_type": "code",
   "execution_count": 118,
   "metadata": {
    "hideCode": false,
    "hidePrompt": false,
    "scrolled": true
   },
   "outputs": [
    {
     "data": {
      "text/plain": [
       "Agric    0.025122\n",
       "Food     0.030488\n",
       "Soda     0.062439\n",
       "Beer     0.110650\n",
       "Smoke    0.113943\n",
       "Toys     0.008740\n",
       "Fun      0.130650\n",
       "Books    0.021423\n",
       "Hshld    0.011138\n",
       "Clths    0.128211\n",
       "Hlth     0.005894\n",
       "MedEq    0.050447\n",
       "Drugs    0.118699\n",
       "Chems    0.057236\n",
       "Rubbr    0.075366\n",
       "Txtls    0.079187\n",
       "BldMt    0.092602\n",
       "Cnstr    0.114797\n",
       "Steel    0.073049\n",
       "FabPr    0.078293\n",
       "Mach     0.080610\n",
       "ElcEq    0.090244\n",
       "Autos    0.086016\n",
       "Aero     0.114715\n",
       "Ships    0.097561\n",
       "Guns    -0.008740\n",
       "Gold    -0.087642\n",
       "Mines    0.087439\n",
       "Coal    -0.144919\n",
       "Oil     -0.042764\n",
       "Util     0.048171\n",
       "Telcm    0.020935\n",
       "PerSv    0.069390\n",
       "BusSv    0.100610\n",
       "Comps    0.075813\n",
       "Chips    0.103415\n",
       "LabEq    0.106707\n",
       "Paper    0.060528\n",
       "Boxes    0.034390\n",
       "Trans    0.049187\n",
       "Whlsl    0.031504\n",
       "Rtail   -0.014146\n",
       "Meals    0.019268\n",
       "Banks    0.054390\n",
       "Insur    0.047886\n",
       "RlEst    0.082846\n",
       "Fin      0.092764\n",
       "Other    0.048333\n",
       "dtype: float64"
      ]
     },
     "execution_count": 118,
     "metadata": {},
     "output_type": "execute_result"
    }
   ],
   "source": [
    "mu=two_thousand.mean()\n",
    "mu"
   ]
  },
  {
   "cell_type": "code",
   "execution_count": 119,
   "metadata": {
    "hideCode": false,
    "hidePrompt": false,
    "scrolled": true
   },
   "outputs": [
    {
     "data": {
      "text/html": [
       "<div>\n",
       "<style scoped>\n",
       "    .dataframe tbody tr th:only-of-type {\n",
       "        vertical-align: middle;\n",
       "    }\n",
       "\n",
       "    .dataframe tbody tr th {\n",
       "        vertical-align: top;\n",
       "    }\n",
       "\n",
       "    .dataframe thead th {\n",
       "        text-align: right;\n",
       "    }\n",
       "</style>\n",
       "<table border=\"1\" class=\"dataframe\">\n",
       "  <thead>\n",
       "    <tr style=\"text-align: right;\">\n",
       "      <th></th>\n",
       "      <th>Agric</th>\n",
       "      <th>Food</th>\n",
       "      <th>Soda</th>\n",
       "      <th>Beer</th>\n",
       "      <th>Smoke</th>\n",
       "      <th>Toys</th>\n",
       "      <th>Fun</th>\n",
       "      <th>Books</th>\n",
       "      <th>Hshld</th>\n",
       "      <th>Clths</th>\n",
       "      <th>...</th>\n",
       "      <th>Boxes</th>\n",
       "      <th>Trans</th>\n",
       "      <th>Whlsl</th>\n",
       "      <th>Rtail</th>\n",
       "      <th>Meals</th>\n",
       "      <th>Banks</th>\n",
       "      <th>Insur</th>\n",
       "      <th>RlEst</th>\n",
       "      <th>Fin</th>\n",
       "      <th>Other</th>\n",
       "    </tr>\n",
       "  </thead>\n",
       "  <tbody>\n",
       "    <tr>\n",
       "      <th>Agric</th>\n",
       "      <td>0.759912</td>\n",
       "      <td>0.245160</td>\n",
       "      <td>0.131418</td>\n",
       "      <td>0.171299</td>\n",
       "      <td>0.097673</td>\n",
       "      <td>0.211667</td>\n",
       "      <td>0.217118</td>\n",
       "      <td>0.346233</td>\n",
       "      <td>0.273630</td>\n",
       "      <td>0.283559</td>\n",
       "      <td>...</td>\n",
       "      <td>0.221080</td>\n",
       "      <td>0.319162</td>\n",
       "      <td>0.304638</td>\n",
       "      <td>0.382462</td>\n",
       "      <td>0.196740</td>\n",
       "      <td>0.323162</td>\n",
       "      <td>0.211645</td>\n",
       "      <td>0.247687</td>\n",
       "      <td>0.280403</td>\n",
       "      <td>0.177660</td>\n",
       "    </tr>\n",
       "    <tr>\n",
       "      <th>Food</th>\n",
       "      <td>0.245160</td>\n",
       "      <td>0.441578</td>\n",
       "      <td>0.231378</td>\n",
       "      <td>0.243561</td>\n",
       "      <td>0.164817</td>\n",
       "      <td>0.234746</td>\n",
       "      <td>0.155929</td>\n",
       "      <td>0.277468</td>\n",
       "      <td>0.284013</td>\n",
       "      <td>0.281123</td>\n",
       "      <td>...</td>\n",
       "      <td>0.234214</td>\n",
       "      <td>0.276322</td>\n",
       "      <td>0.305557</td>\n",
       "      <td>0.385956</td>\n",
       "      <td>0.235517</td>\n",
       "      <td>0.259850</td>\n",
       "      <td>0.206223</td>\n",
       "      <td>0.219280</td>\n",
       "      <td>0.210465</td>\n",
       "      <td>0.118487</td>\n",
       "    </tr>\n",
       "    <tr>\n",
       "      <th>Soda</th>\n",
       "      <td>0.131418</td>\n",
       "      <td>0.231378</td>\n",
       "      <td>2.322221</td>\n",
       "      <td>0.148511</td>\n",
       "      <td>-0.000820</td>\n",
       "      <td>0.256499</td>\n",
       "      <td>0.180605</td>\n",
       "      <td>0.228264</td>\n",
       "      <td>0.222491</td>\n",
       "      <td>0.214563</td>\n",
       "      <td>...</td>\n",
       "      <td>0.112517</td>\n",
       "      <td>0.286015</td>\n",
       "      <td>0.228524</td>\n",
       "      <td>0.203483</td>\n",
       "      <td>0.217869</td>\n",
       "      <td>0.131022</td>\n",
       "      <td>0.076961</td>\n",
       "      <td>0.104489</td>\n",
       "      <td>0.188843</td>\n",
       "      <td>0.086453</td>\n",
       "    </tr>\n",
       "    <tr>\n",
       "      <th>Beer</th>\n",
       "      <td>0.171299</td>\n",
       "      <td>0.243561</td>\n",
       "      <td>0.148511</td>\n",
       "      <td>0.774862</td>\n",
       "      <td>0.177845</td>\n",
       "      <td>0.167352</td>\n",
       "      <td>0.174766</td>\n",
       "      <td>0.181643</td>\n",
       "      <td>0.200300</td>\n",
       "      <td>0.172858</td>\n",
       "      <td>...</td>\n",
       "      <td>0.158256</td>\n",
       "      <td>0.248959</td>\n",
       "      <td>0.247988</td>\n",
       "      <td>0.244799</td>\n",
       "      <td>0.138269</td>\n",
       "      <td>0.225447</td>\n",
       "      <td>0.203351</td>\n",
       "      <td>0.183527</td>\n",
       "      <td>0.159901</td>\n",
       "      <td>0.093569</td>\n",
       "    </tr>\n",
       "    <tr>\n",
       "      <th>Smoke</th>\n",
       "      <td>0.097673</td>\n",
       "      <td>0.164817</td>\n",
       "      <td>-0.000820</td>\n",
       "      <td>0.177845</td>\n",
       "      <td>0.738196</td>\n",
       "      <td>0.102445</td>\n",
       "      <td>0.041181</td>\n",
       "      <td>0.131305</td>\n",
       "      <td>0.104143</td>\n",
       "      <td>0.075143</td>\n",
       "      <td>...</td>\n",
       "      <td>0.147456</td>\n",
       "      <td>0.064914</td>\n",
       "      <td>0.123901</td>\n",
       "      <td>0.065693</td>\n",
       "      <td>0.070458</td>\n",
       "      <td>0.038994</td>\n",
       "      <td>0.045131</td>\n",
       "      <td>0.074579</td>\n",
       "      <td>0.053772</td>\n",
       "      <td>0.023901</td>\n",
       "    </tr>\n",
       "    <tr>\n",
       "      <th>Toys</th>\n",
       "      <td>0.211667</td>\n",
       "      <td>0.234746</td>\n",
       "      <td>0.256499</td>\n",
       "      <td>0.167352</td>\n",
       "      <td>0.102445</td>\n",
       "      <td>1.270864</td>\n",
       "      <td>0.278190</td>\n",
       "      <td>0.328360</td>\n",
       "      <td>0.361806</td>\n",
       "      <td>0.434088</td>\n",
       "      <td>...</td>\n",
       "      <td>0.301759</td>\n",
       "      <td>0.346403</td>\n",
       "      <td>0.360664</td>\n",
       "      <td>0.445287</td>\n",
       "      <td>0.359597</td>\n",
       "      <td>0.328764</td>\n",
       "      <td>0.245832</td>\n",
       "      <td>0.283094</td>\n",
       "      <td>0.339414</td>\n",
       "      <td>0.222985</td>\n",
       "    </tr>\n",
       "    <tr>\n",
       "      <th>Fun</th>\n",
       "      <td>0.217118</td>\n",
       "      <td>0.155929</td>\n",
       "      <td>0.180605</td>\n",
       "      <td>0.174766</td>\n",
       "      <td>0.041181</td>\n",
       "      <td>0.278190</td>\n",
       "      <td>0.449204</td>\n",
       "      <td>0.338569</td>\n",
       "      <td>0.257025</td>\n",
       "      <td>0.250245</td>\n",
       "      <td>...</td>\n",
       "      <td>0.241367</td>\n",
       "      <td>0.314277</td>\n",
       "      <td>0.290523</td>\n",
       "      <td>0.317316</td>\n",
       "      <td>0.260011</td>\n",
       "      <td>0.294718</td>\n",
       "      <td>0.225084</td>\n",
       "      <td>0.250000</td>\n",
       "      <td>0.286521</td>\n",
       "      <td>0.192892</td>\n",
       "    </tr>\n",
       "    <tr>\n",
       "      <th>Books</th>\n",
       "      <td>0.346233</td>\n",
       "      <td>0.277468</td>\n",
       "      <td>0.228264</td>\n",
       "      <td>0.181643</td>\n",
       "      <td>0.131305</td>\n",
       "      <td>0.328360</td>\n",
       "      <td>0.338569</td>\n",
       "      <td>0.814828</td>\n",
       "      <td>0.414727</td>\n",
       "      <td>0.442945</td>\n",
       "      <td>...</td>\n",
       "      <td>0.312996</td>\n",
       "      <td>0.471481</td>\n",
       "      <td>0.459653</td>\n",
       "      <td>0.577421</td>\n",
       "      <td>0.323230</td>\n",
       "      <td>0.463570</td>\n",
       "      <td>0.312541</td>\n",
       "      <td>0.339140</td>\n",
       "      <td>0.385826</td>\n",
       "      <td>0.244166</td>\n",
       "    </tr>\n",
       "    <tr>\n",
       "      <th>Hshld</th>\n",
       "      <td>0.273630</td>\n",
       "      <td>0.284013</td>\n",
       "      <td>0.222491</td>\n",
       "      <td>0.200300</td>\n",
       "      <td>0.104143</td>\n",
       "      <td>0.361806</td>\n",
       "      <td>0.257025</td>\n",
       "      <td>0.414727</td>\n",
       "      <td>0.597912</td>\n",
       "      <td>0.441359</td>\n",
       "      <td>...</td>\n",
       "      <td>0.305454</td>\n",
       "      <td>0.372892</td>\n",
       "      <td>0.405773</td>\n",
       "      <td>0.552059</td>\n",
       "      <td>0.313145</td>\n",
       "      <td>0.367628</td>\n",
       "      <td>0.257521</td>\n",
       "      <td>0.295604</td>\n",
       "      <td>0.328465</td>\n",
       "      <td>0.219324</td>\n",
       "    </tr>\n",
       "    <tr>\n",
       "      <th>Clths</th>\n",
       "      <td>0.283559</td>\n",
       "      <td>0.281123</td>\n",
       "      <td>0.214563</td>\n",
       "      <td>0.172858</td>\n",
       "      <td>0.075143</td>\n",
       "      <td>0.434088</td>\n",
       "      <td>0.250245</td>\n",
       "      <td>0.442945</td>\n",
       "      <td>0.441359</td>\n",
       "      <td>1.064592</td>\n",
       "      <td>...</td>\n",
       "      <td>0.310001</td>\n",
       "      <td>0.410705</td>\n",
       "      <td>0.383570</td>\n",
       "      <td>0.801643</td>\n",
       "      <td>0.377689</td>\n",
       "      <td>0.406541</td>\n",
       "      <td>0.264842</td>\n",
       "      <td>0.307383</td>\n",
       "      <td>0.357008</td>\n",
       "      <td>0.236692</td>\n",
       "    </tr>\n",
       "    <tr>\n",
       "      <th>Hlth</th>\n",
       "      <td>0.301412</td>\n",
       "      <td>0.211035</td>\n",
       "      <td>0.074673</td>\n",
       "      <td>0.152726</td>\n",
       "      <td>0.045086</td>\n",
       "      <td>0.344280</td>\n",
       "      <td>0.269952</td>\n",
       "      <td>0.343325</td>\n",
       "      <td>0.351013</td>\n",
       "      <td>0.379774</td>\n",
       "      <td>...</td>\n",
       "      <td>0.369528</td>\n",
       "      <td>0.446976</td>\n",
       "      <td>0.405125</td>\n",
       "      <td>0.449905</td>\n",
       "      <td>0.310925</td>\n",
       "      <td>0.371130</td>\n",
       "      <td>0.271624</td>\n",
       "      <td>0.306467</td>\n",
       "      <td>0.383918</td>\n",
       "      <td>0.419437</td>\n",
       "    </tr>\n",
       "    <tr>\n",
       "      <th>MedEq</th>\n",
       "      <td>0.303259</td>\n",
       "      <td>0.166336</td>\n",
       "      <td>0.073692</td>\n",
       "      <td>0.152464</td>\n",
       "      <td>0.040192</td>\n",
       "      <td>0.310685</td>\n",
       "      <td>0.262412</td>\n",
       "      <td>0.371914</td>\n",
       "      <td>0.327022</td>\n",
       "      <td>0.323695</td>\n",
       "      <td>...</td>\n",
       "      <td>0.272074</td>\n",
       "      <td>0.378803</td>\n",
       "      <td>0.333687</td>\n",
       "      <td>0.361139</td>\n",
       "      <td>0.213373</td>\n",
       "      <td>0.338883</td>\n",
       "      <td>0.237866</td>\n",
       "      <td>0.306803</td>\n",
       "      <td>0.359337</td>\n",
       "      <td>0.261302</td>\n",
       "    </tr>\n",
       "    <tr>\n",
       "      <th>Drugs</th>\n",
       "      <td>0.366252</td>\n",
       "      <td>0.200822</td>\n",
       "      <td>0.135805</td>\n",
       "      <td>0.198707</td>\n",
       "      <td>0.075074</td>\n",
       "      <td>0.432839</td>\n",
       "      <td>0.354373</td>\n",
       "      <td>0.418999</td>\n",
       "      <td>0.356533</td>\n",
       "      <td>0.339401</td>\n",
       "      <td>...</td>\n",
       "      <td>0.376618</td>\n",
       "      <td>0.486797</td>\n",
       "      <td>0.442004</td>\n",
       "      <td>0.415703</td>\n",
       "      <td>0.302651</td>\n",
       "      <td>0.375377</td>\n",
       "      <td>0.265252</td>\n",
       "      <td>0.363179</td>\n",
       "      <td>0.473451</td>\n",
       "      <td>0.358434</td>\n",
       "    </tr>\n",
       "    <tr>\n",
       "      <th>Chems</th>\n",
       "      <td>0.301285</td>\n",
       "      <td>0.291836</td>\n",
       "      <td>0.128577</td>\n",
       "      <td>0.245597</td>\n",
       "      <td>0.100218</td>\n",
       "      <td>0.358337</td>\n",
       "      <td>0.335961</td>\n",
       "      <td>0.445344</td>\n",
       "      <td>0.412148</td>\n",
       "      <td>0.329392</td>\n",
       "      <td>...</td>\n",
       "      <td>0.435566</td>\n",
       "      <td>0.546974</td>\n",
       "      <td>0.497346</td>\n",
       "      <td>0.465008</td>\n",
       "      <td>0.336172</td>\n",
       "      <td>0.460758</td>\n",
       "      <td>0.345637</td>\n",
       "      <td>0.385068</td>\n",
       "      <td>0.444995</td>\n",
       "      <td>0.258757</td>\n",
       "    </tr>\n",
       "    <tr>\n",
       "      <th>Rubbr</th>\n",
       "      <td>0.288085</td>\n",
       "      <td>0.282706</td>\n",
       "      <td>0.198307</td>\n",
       "      <td>0.264141</td>\n",
       "      <td>0.056679</td>\n",
       "      <td>0.316213</td>\n",
       "      <td>0.269953</td>\n",
       "      <td>0.415482</td>\n",
       "      <td>0.396322</td>\n",
       "      <td>0.388026</td>\n",
       "      <td>...</td>\n",
       "      <td>0.345311</td>\n",
       "      <td>0.434955</td>\n",
       "      <td>0.432980</td>\n",
       "      <td>0.466809</td>\n",
       "      <td>0.288239</td>\n",
       "      <td>0.442946</td>\n",
       "      <td>0.310002</td>\n",
       "      <td>0.336739</td>\n",
       "      <td>0.376249</td>\n",
       "      <td>0.227447</td>\n",
       "    </tr>\n",
       "    <tr>\n",
       "      <th>Txtls</th>\n",
       "      <td>0.337675</td>\n",
       "      <td>0.295853</td>\n",
       "      <td>0.258663</td>\n",
       "      <td>0.234634</td>\n",
       "      <td>0.071884</td>\n",
       "      <td>0.418876</td>\n",
       "      <td>0.315229</td>\n",
       "      <td>0.428502</td>\n",
       "      <td>0.420844</td>\n",
       "      <td>0.534129</td>\n",
       "      <td>...</td>\n",
       "      <td>0.361076</td>\n",
       "      <td>0.411741</td>\n",
       "      <td>0.435760</td>\n",
       "      <td>0.554766</td>\n",
       "      <td>0.356414</td>\n",
       "      <td>0.436300</td>\n",
       "      <td>0.323159</td>\n",
       "      <td>0.334060</td>\n",
       "      <td>0.348817</td>\n",
       "      <td>0.228484</td>\n",
       "    </tr>\n",
       "    <tr>\n",
       "      <th>BldMt</th>\n",
       "      <td>0.335891</td>\n",
       "      <td>0.310296</td>\n",
       "      <td>0.271236</td>\n",
       "      <td>0.258820</td>\n",
       "      <td>0.110787</td>\n",
       "      <td>0.438213</td>\n",
       "      <td>0.356207</td>\n",
       "      <td>0.551693</td>\n",
       "      <td>0.445048</td>\n",
       "      <td>0.417987</td>\n",
       "      <td>...</td>\n",
       "      <td>0.426001</td>\n",
       "      <td>0.547682</td>\n",
       "      <td>0.539140</td>\n",
       "      <td>0.598350</td>\n",
       "      <td>0.362168</td>\n",
       "      <td>0.529365</td>\n",
       "      <td>0.356140</td>\n",
       "      <td>0.387630</td>\n",
       "      <td>0.454727</td>\n",
       "      <td>0.305557</td>\n",
       "    </tr>\n",
       "    <tr>\n",
       "      <th>Cnstr</th>\n",
       "      <td>0.337360</td>\n",
       "      <td>0.322001</td>\n",
       "      <td>0.193021</td>\n",
       "      <td>0.217008</td>\n",
       "      <td>0.103091</td>\n",
       "      <td>0.480229</td>\n",
       "      <td>0.374521</td>\n",
       "      <td>0.521801</td>\n",
       "      <td>0.484268</td>\n",
       "      <td>0.506986</td>\n",
       "      <td>...</td>\n",
       "      <td>0.466219</td>\n",
       "      <td>0.632097</td>\n",
       "      <td>0.543822</td>\n",
       "      <td>0.638483</td>\n",
       "      <td>0.416530</td>\n",
       "      <td>0.555584</td>\n",
       "      <td>0.395821</td>\n",
       "      <td>0.445678</td>\n",
       "      <td>0.514612</td>\n",
       "      <td>0.317820</td>\n",
       "    </tr>\n",
       "    <tr>\n",
       "      <th>Steel</th>\n",
       "      <td>0.353199</td>\n",
       "      <td>0.395544</td>\n",
       "      <td>0.360857</td>\n",
       "      <td>0.296978</td>\n",
       "      <td>0.096910</td>\n",
       "      <td>0.465322</td>\n",
       "      <td>0.412820</td>\n",
       "      <td>0.633757</td>\n",
       "      <td>0.564042</td>\n",
       "      <td>0.545452</td>\n",
       "      <td>...</td>\n",
       "      <td>0.615342</td>\n",
       "      <td>0.778492</td>\n",
       "      <td>0.753199</td>\n",
       "      <td>0.741626</td>\n",
       "      <td>0.475999</td>\n",
       "      <td>0.694815</td>\n",
       "      <td>0.489273</td>\n",
       "      <td>0.457060</td>\n",
       "      <td>0.648351</td>\n",
       "      <td>0.365825</td>\n",
       "    </tr>\n",
       "    <tr>\n",
       "      <th>FabPr</th>\n",
       "      <td>0.373708</td>\n",
       "      <td>0.429100</td>\n",
       "      <td>0.264535</td>\n",
       "      <td>0.376973</td>\n",
       "      <td>0.180258</td>\n",
       "      <td>0.569807</td>\n",
       "      <td>0.363589</td>\n",
       "      <td>0.588355</td>\n",
       "      <td>0.570224</td>\n",
       "      <td>0.569235</td>\n",
       "      <td>...</td>\n",
       "      <td>0.594330</td>\n",
       "      <td>0.672725</td>\n",
       "      <td>0.702154</td>\n",
       "      <td>0.646890</td>\n",
       "      <td>0.465395</td>\n",
       "      <td>0.715032</td>\n",
       "      <td>0.520055</td>\n",
       "      <td>0.470140</td>\n",
       "      <td>0.607202</td>\n",
       "      <td>0.384576</td>\n",
       "    </tr>\n",
       "    <tr>\n",
       "      <th>Mach</th>\n",
       "      <td>0.316010</td>\n",
       "      <td>0.289846</td>\n",
       "      <td>0.244124</td>\n",
       "      <td>0.270491</td>\n",
       "      <td>0.120756</td>\n",
       "      <td>0.437540</td>\n",
       "      <td>0.340490</td>\n",
       "      <td>0.483898</td>\n",
       "      <td>0.432924</td>\n",
       "      <td>0.407539</td>\n",
       "      <td>...</td>\n",
       "      <td>0.437772</td>\n",
       "      <td>0.588283</td>\n",
       "      <td>0.550444</td>\n",
       "      <td>0.524124</td>\n",
       "      <td>0.370736</td>\n",
       "      <td>0.513342</td>\n",
       "      <td>0.356366</td>\n",
       "      <td>0.398569</td>\n",
       "      <td>0.466382</td>\n",
       "      <td>0.286236</td>\n",
       "    </tr>\n",
       "    <tr>\n",
       "      <th>ElcEq</th>\n",
       "      <td>0.310232</td>\n",
       "      <td>0.227764</td>\n",
       "      <td>0.183209</td>\n",
       "      <td>0.243315</td>\n",
       "      <td>0.090560</td>\n",
       "      <td>0.336639</td>\n",
       "      <td>0.317490</td>\n",
       "      <td>0.458332</td>\n",
       "      <td>0.347385</td>\n",
       "      <td>0.362005</td>\n",
       "      <td>...</td>\n",
       "      <td>0.314846</td>\n",
       "      <td>0.475078</td>\n",
       "      <td>0.448571</td>\n",
       "      <td>0.448128</td>\n",
       "      <td>0.297740</td>\n",
       "      <td>0.406734</td>\n",
       "      <td>0.304569</td>\n",
       "      <td>0.337434</td>\n",
       "      <td>0.382778</td>\n",
       "      <td>0.317974</td>\n",
       "    </tr>\n",
       "    <tr>\n",
       "      <th>Autos</th>\n",
       "      <td>0.344501</td>\n",
       "      <td>0.336203</td>\n",
       "      <td>0.233425</td>\n",
       "      <td>0.270186</td>\n",
       "      <td>0.159800</td>\n",
       "      <td>0.442379</td>\n",
       "      <td>0.344644</td>\n",
       "      <td>0.536621</td>\n",
       "      <td>0.464953</td>\n",
       "      <td>0.489041</td>\n",
       "      <td>...</td>\n",
       "      <td>0.450168</td>\n",
       "      <td>0.603131</td>\n",
       "      <td>0.567886</td>\n",
       "      <td>0.598180</td>\n",
       "      <td>0.408463</td>\n",
       "      <td>0.536674</td>\n",
       "      <td>0.396569</td>\n",
       "      <td>0.411897</td>\n",
       "      <td>0.501924</td>\n",
       "      <td>0.309161</td>\n",
       "    </tr>\n",
       "    <tr>\n",
       "      <th>Aero</th>\n",
       "      <td>0.185322</td>\n",
       "      <td>0.217734</td>\n",
       "      <td>0.229188</td>\n",
       "      <td>0.218525</td>\n",
       "      <td>0.117973</td>\n",
       "      <td>0.341024</td>\n",
       "      <td>0.238994</td>\n",
       "      <td>0.348006</td>\n",
       "      <td>0.295255</td>\n",
       "      <td>0.331955</td>\n",
       "      <td>...</td>\n",
       "      <td>0.322503</td>\n",
       "      <td>0.464381</td>\n",
       "      <td>0.384879</td>\n",
       "      <td>0.336983</td>\n",
       "      <td>0.214843</td>\n",
       "      <td>0.412500</td>\n",
       "      <td>0.285157</td>\n",
       "      <td>0.316461</td>\n",
       "      <td>0.353089</td>\n",
       "      <td>0.188798</td>\n",
       "    </tr>\n",
       "    <tr>\n",
       "      <th>Ships</th>\n",
       "      <td>0.364424</td>\n",
       "      <td>0.323289</td>\n",
       "      <td>0.215800</td>\n",
       "      <td>0.276819</td>\n",
       "      <td>0.041531</td>\n",
       "      <td>0.353081</td>\n",
       "      <td>0.403107</td>\n",
       "      <td>0.502726</td>\n",
       "      <td>0.499190</td>\n",
       "      <td>0.505712</td>\n",
       "      <td>...</td>\n",
       "      <td>0.492384</td>\n",
       "      <td>0.550056</td>\n",
       "      <td>0.564825</td>\n",
       "      <td>0.622372</td>\n",
       "      <td>0.414440</td>\n",
       "      <td>0.592796</td>\n",
       "      <td>0.413674</td>\n",
       "      <td>0.429748</td>\n",
       "      <td>0.496012</td>\n",
       "      <td>0.272134</td>\n",
       "    </tr>\n",
       "    <tr>\n",
       "      <th>Guns</th>\n",
       "      <td>0.161760</td>\n",
       "      <td>0.154681</td>\n",
       "      <td>0.042729</td>\n",
       "      <td>0.034564</td>\n",
       "      <td>0.120935</td>\n",
       "      <td>0.212001</td>\n",
       "      <td>0.167260</td>\n",
       "      <td>0.309590</td>\n",
       "      <td>0.278532</td>\n",
       "      <td>0.322327</td>\n",
       "      <td>...</td>\n",
       "      <td>0.281637</td>\n",
       "      <td>0.316903</td>\n",
       "      <td>0.326579</td>\n",
       "      <td>0.324394</td>\n",
       "      <td>0.182332</td>\n",
       "      <td>0.330451</td>\n",
       "      <td>0.168518</td>\n",
       "      <td>0.215529</td>\n",
       "      <td>0.292140</td>\n",
       "      <td>0.136240</td>\n",
       "    </tr>\n",
       "    <tr>\n",
       "      <th>Gold</th>\n",
       "      <td>0.192673</td>\n",
       "      <td>0.081685</td>\n",
       "      <td>0.104949</td>\n",
       "      <td>0.100354</td>\n",
       "      <td>0.141229</td>\n",
       "      <td>0.265639</td>\n",
       "      <td>0.192203</td>\n",
       "      <td>0.050786</td>\n",
       "      <td>0.077660</td>\n",
       "      <td>-0.032493</td>\n",
       "      <td>...</td>\n",
       "      <td>0.108549</td>\n",
       "      <td>0.003064</td>\n",
       "      <td>0.131027</td>\n",
       "      <td>-0.010573</td>\n",
       "      <td>-0.014772</td>\n",
       "      <td>-0.214969</td>\n",
       "      <td>-0.162677</td>\n",
       "      <td>0.038535</td>\n",
       "      <td>0.009643</td>\n",
       "      <td>0.257764</td>\n",
       "    </tr>\n",
       "    <tr>\n",
       "      <th>Mines</th>\n",
       "      <td>0.338658</td>\n",
       "      <td>0.237504</td>\n",
       "      <td>0.138283</td>\n",
       "      <td>0.138251</td>\n",
       "      <td>0.028860</td>\n",
       "      <td>0.490811</td>\n",
       "      <td>0.394120</td>\n",
       "      <td>0.504263</td>\n",
       "      <td>0.412278</td>\n",
       "      <td>0.423413</td>\n",
       "      <td>...</td>\n",
       "      <td>0.458050</td>\n",
       "      <td>0.752186</td>\n",
       "      <td>0.637851</td>\n",
       "      <td>0.649523</td>\n",
       "      <td>0.401238</td>\n",
       "      <td>0.456155</td>\n",
       "      <td>0.292700</td>\n",
       "      <td>0.386747</td>\n",
       "      <td>0.522582</td>\n",
       "      <td>0.468588</td>\n",
       "    </tr>\n",
       "    <tr>\n",
       "      <th>Coal</th>\n",
       "      <td>0.276212</td>\n",
       "      <td>0.258805</td>\n",
       "      <td>0.324263</td>\n",
       "      <td>0.082557</td>\n",
       "      <td>0.153318</td>\n",
       "      <td>0.313079</td>\n",
       "      <td>0.309329</td>\n",
       "      <td>0.515151</td>\n",
       "      <td>0.386640</td>\n",
       "      <td>0.438193</td>\n",
       "      <td>...</td>\n",
       "      <td>0.514332</td>\n",
       "      <td>0.601345</td>\n",
       "      <td>0.639641</td>\n",
       "      <td>0.625737</td>\n",
       "      <td>0.429254</td>\n",
       "      <td>0.494556</td>\n",
       "      <td>0.308425</td>\n",
       "      <td>0.368328</td>\n",
       "      <td>0.532268</td>\n",
       "      <td>0.295077</td>\n",
       "    </tr>\n",
       "    <tr>\n",
       "      <th>Oil</th>\n",
       "      <td>0.341615</td>\n",
       "      <td>0.283730</td>\n",
       "      <td>0.292481</td>\n",
       "      <td>0.197638</td>\n",
       "      <td>0.043500</td>\n",
       "      <td>0.336801</td>\n",
       "      <td>0.394828</td>\n",
       "      <td>0.527789</td>\n",
       "      <td>0.407422</td>\n",
       "      <td>0.435683</td>\n",
       "      <td>...</td>\n",
       "      <td>0.417671</td>\n",
       "      <td>0.724035</td>\n",
       "      <td>0.649893</td>\n",
       "      <td>0.637302</td>\n",
       "      <td>0.411862</td>\n",
       "      <td>0.424161</td>\n",
       "      <td>0.327394</td>\n",
       "      <td>0.361290</td>\n",
       "      <td>0.501739</td>\n",
       "      <td>0.301095</td>\n",
       "    </tr>\n",
       "    <tr>\n",
       "      <th>Util</th>\n",
       "      <td>0.133883</td>\n",
       "      <td>0.157620</td>\n",
       "      <td>0.026832</td>\n",
       "      <td>0.143180</td>\n",
       "      <td>0.124655</td>\n",
       "      <td>0.062734</td>\n",
       "      <td>0.113093</td>\n",
       "      <td>0.129761</td>\n",
       "      <td>0.116936</td>\n",
       "      <td>0.111900</td>\n",
       "      <td>...</td>\n",
       "      <td>0.135622</td>\n",
       "      <td>0.169192</td>\n",
       "      <td>0.161915</td>\n",
       "      <td>0.132399</td>\n",
       "      <td>0.130985</td>\n",
       "      <td>0.108002</td>\n",
       "      <td>0.131187</td>\n",
       "      <td>0.134260</td>\n",
       "      <td>0.078397</td>\n",
       "      <td>0.072110</td>\n",
       "    </tr>\n",
       "    <tr>\n",
       "      <th>Telcm</th>\n",
       "      <td>0.308699</td>\n",
       "      <td>0.259244</td>\n",
       "      <td>0.249656</td>\n",
       "      <td>0.188969</td>\n",
       "      <td>0.127235</td>\n",
       "      <td>0.320151</td>\n",
       "      <td>0.295466</td>\n",
       "      <td>0.453193</td>\n",
       "      <td>0.367594</td>\n",
       "      <td>0.372431</td>\n",
       "      <td>...</td>\n",
       "      <td>0.304882</td>\n",
       "      <td>0.426085</td>\n",
       "      <td>0.449231</td>\n",
       "      <td>0.499862</td>\n",
       "      <td>0.280973</td>\n",
       "      <td>0.381424</td>\n",
       "      <td>0.270838</td>\n",
       "      <td>0.319967</td>\n",
       "      <td>0.376090</td>\n",
       "      <td>0.248537</td>\n",
       "    </tr>\n",
       "    <tr>\n",
       "      <th>PerSv</th>\n",
       "      <td>0.314906</td>\n",
       "      <td>0.279481</td>\n",
       "      <td>0.176079</td>\n",
       "      <td>0.204062</td>\n",
       "      <td>0.083818</td>\n",
       "      <td>0.371798</td>\n",
       "      <td>0.323629</td>\n",
       "      <td>0.448403</td>\n",
       "      <td>0.375867</td>\n",
       "      <td>0.401391</td>\n",
       "      <td>...</td>\n",
       "      <td>0.373209</td>\n",
       "      <td>0.460554</td>\n",
       "      <td>0.433848</td>\n",
       "      <td>0.520650</td>\n",
       "      <td>0.342907</td>\n",
       "      <td>0.468150</td>\n",
       "      <td>0.342229</td>\n",
       "      <td>0.320200</td>\n",
       "      <td>0.399145</td>\n",
       "      <td>0.247724</td>\n",
       "    </tr>\n",
       "    <tr>\n",
       "      <th>BusSv</th>\n",
       "      <td>0.273856</td>\n",
       "      <td>0.221468</td>\n",
       "      <td>0.191605</td>\n",
       "      <td>0.190448</td>\n",
       "      <td>0.110318</td>\n",
       "      <td>0.352439</td>\n",
       "      <td>0.310198</td>\n",
       "      <td>0.388646</td>\n",
       "      <td>0.319943</td>\n",
       "      <td>0.316975</td>\n",
       "      <td>...</td>\n",
       "      <td>0.297883</td>\n",
       "      <td>0.392563</td>\n",
       "      <td>0.389833</td>\n",
       "      <td>0.380192</td>\n",
       "      <td>0.260556</td>\n",
       "      <td>0.352817</td>\n",
       "      <td>0.250293</td>\n",
       "      <td>0.327258</td>\n",
       "      <td>0.364751</td>\n",
       "      <td>0.244268</td>\n",
       "    </tr>\n",
       "    <tr>\n",
       "      <th>Comps</th>\n",
       "      <td>0.338086</td>\n",
       "      <td>0.277613</td>\n",
       "      <td>0.301626</td>\n",
       "      <td>0.262430</td>\n",
       "      <td>0.133299</td>\n",
       "      <td>0.401255</td>\n",
       "      <td>0.334680</td>\n",
       "      <td>0.444522</td>\n",
       "      <td>0.409226</td>\n",
       "      <td>0.406752</td>\n",
       "      <td>...</td>\n",
       "      <td>0.349080</td>\n",
       "      <td>0.464327</td>\n",
       "      <td>0.445848</td>\n",
       "      <td>0.459520</td>\n",
       "      <td>0.311125</td>\n",
       "      <td>0.404072</td>\n",
       "      <td>0.278833</td>\n",
       "      <td>0.386797</td>\n",
       "      <td>0.419070</td>\n",
       "      <td>0.298255</td>\n",
       "    </tr>\n",
       "    <tr>\n",
       "      <th>Chips</th>\n",
       "      <td>0.279416</td>\n",
       "      <td>0.230524</td>\n",
       "      <td>0.215925</td>\n",
       "      <td>0.214518</td>\n",
       "      <td>0.162803</td>\n",
       "      <td>0.397064</td>\n",
       "      <td>0.344679</td>\n",
       "      <td>0.432811</td>\n",
       "      <td>0.358211</td>\n",
       "      <td>0.364334</td>\n",
       "      <td>...</td>\n",
       "      <td>0.346997</td>\n",
       "      <td>0.448428</td>\n",
       "      <td>0.420353</td>\n",
       "      <td>0.379305</td>\n",
       "      <td>0.291152</td>\n",
       "      <td>0.381402</td>\n",
       "      <td>0.255665</td>\n",
       "      <td>0.358487</td>\n",
       "      <td>0.415558</td>\n",
       "      <td>0.303600</td>\n",
       "    </tr>\n",
       "    <tr>\n",
       "      <th>LabEq</th>\n",
       "      <td>0.236239</td>\n",
       "      <td>0.218122</td>\n",
       "      <td>0.138818</td>\n",
       "      <td>0.221097</td>\n",
       "      <td>0.145883</td>\n",
       "      <td>0.374257</td>\n",
       "      <td>0.288415</td>\n",
       "      <td>0.355847</td>\n",
       "      <td>0.334089</td>\n",
       "      <td>0.316668</td>\n",
       "      <td>...</td>\n",
       "      <td>0.337114</td>\n",
       "      <td>0.433466</td>\n",
       "      <td>0.380209</td>\n",
       "      <td>0.321845</td>\n",
       "      <td>0.245231</td>\n",
       "      <td>0.332181</td>\n",
       "      <td>0.239928</td>\n",
       "      <td>0.288186</td>\n",
       "      <td>0.353587</td>\n",
       "      <td>0.245178</td>\n",
       "    </tr>\n",
       "    <tr>\n",
       "      <th>Paper</th>\n",
       "      <td>0.302194</td>\n",
       "      <td>0.307426</td>\n",
       "      <td>0.249400</td>\n",
       "      <td>0.230486</td>\n",
       "      <td>0.140097</td>\n",
       "      <td>0.395722</td>\n",
       "      <td>0.306935</td>\n",
       "      <td>0.460662</td>\n",
       "      <td>0.415699</td>\n",
       "      <td>0.407840</td>\n",
       "      <td>...</td>\n",
       "      <td>0.431267</td>\n",
       "      <td>0.456304</td>\n",
       "      <td>0.474524</td>\n",
       "      <td>0.541838</td>\n",
       "      <td>0.357879</td>\n",
       "      <td>0.461562</td>\n",
       "      <td>0.334972</td>\n",
       "      <td>0.334116</td>\n",
       "      <td>0.379220</td>\n",
       "      <td>0.245120</td>\n",
       "    </tr>\n",
       "    <tr>\n",
       "      <th>Boxes</th>\n",
       "      <td>0.221080</td>\n",
       "      <td>0.234214</td>\n",
       "      <td>0.112517</td>\n",
       "      <td>0.158256</td>\n",
       "      <td>0.147456</td>\n",
       "      <td>0.301759</td>\n",
       "      <td>0.241367</td>\n",
       "      <td>0.312996</td>\n",
       "      <td>0.305454</td>\n",
       "      <td>0.310001</td>\n",
       "      <td>...</td>\n",
       "      <td>0.688182</td>\n",
       "      <td>0.401004</td>\n",
       "      <td>0.395656</td>\n",
       "      <td>0.402123</td>\n",
       "      <td>0.306986</td>\n",
       "      <td>0.389098</td>\n",
       "      <td>0.291596</td>\n",
       "      <td>0.257047</td>\n",
       "      <td>0.356125</td>\n",
       "      <td>0.173638</td>\n",
       "    </tr>\n",
       "    <tr>\n",
       "      <th>Trans</th>\n",
       "      <td>0.319162</td>\n",
       "      <td>0.276322</td>\n",
       "      <td>0.286015</td>\n",
       "      <td>0.248959</td>\n",
       "      <td>0.064914</td>\n",
       "      <td>0.346403</td>\n",
       "      <td>0.314277</td>\n",
       "      <td>0.471481</td>\n",
       "      <td>0.372892</td>\n",
       "      <td>0.410705</td>\n",
       "      <td>...</td>\n",
       "      <td>0.401004</td>\n",
       "      <td>0.976045</td>\n",
       "      <td>0.473271</td>\n",
       "      <td>0.501116</td>\n",
       "      <td>0.331034</td>\n",
       "      <td>0.462036</td>\n",
       "      <td>0.358539</td>\n",
       "      <td>0.357338</td>\n",
       "      <td>0.461661</td>\n",
       "      <td>0.278688</td>\n",
       "    </tr>\n",
       "    <tr>\n",
       "      <th>Whlsl</th>\n",
       "      <td>0.304638</td>\n",
       "      <td>0.305557</td>\n",
       "      <td>0.228524</td>\n",
       "      <td>0.247988</td>\n",
       "      <td>0.123901</td>\n",
       "      <td>0.360664</td>\n",
       "      <td>0.290523</td>\n",
       "      <td>0.459653</td>\n",
       "      <td>0.405773</td>\n",
       "      <td>0.383570</td>\n",
       "      <td>...</td>\n",
       "      <td>0.395656</td>\n",
       "      <td>0.473271</td>\n",
       "      <td>0.569165</td>\n",
       "      <td>0.544990</td>\n",
       "      <td>0.355483</td>\n",
       "      <td>0.449843</td>\n",
       "      <td>0.320080</td>\n",
       "      <td>0.330486</td>\n",
       "      <td>0.402468</td>\n",
       "      <td>0.233307</td>\n",
       "    </tr>\n",
       "    <tr>\n",
       "      <th>Rtail</th>\n",
       "      <td>0.382462</td>\n",
       "      <td>0.385956</td>\n",
       "      <td>0.203483</td>\n",
       "      <td>0.244799</td>\n",
       "      <td>0.065693</td>\n",
       "      <td>0.445287</td>\n",
       "      <td>0.317316</td>\n",
       "      <td>0.577421</td>\n",
       "      <td>0.552059</td>\n",
       "      <td>0.801643</td>\n",
       "      <td>...</td>\n",
       "      <td>0.402123</td>\n",
       "      <td>0.501116</td>\n",
       "      <td>0.544990</td>\n",
       "      <td>1.202576</td>\n",
       "      <td>0.535962</td>\n",
       "      <td>0.485775</td>\n",
       "      <td>0.324238</td>\n",
       "      <td>0.355213</td>\n",
       "      <td>0.444391</td>\n",
       "      <td>0.241118</td>\n",
       "    </tr>\n",
       "    <tr>\n",
       "      <th>Meals</th>\n",
       "      <td>0.196740</td>\n",
       "      <td>0.235517</td>\n",
       "      <td>0.217869</td>\n",
       "      <td>0.138269</td>\n",
       "      <td>0.070458</td>\n",
       "      <td>0.359597</td>\n",
       "      <td>0.260011</td>\n",
       "      <td>0.323230</td>\n",
       "      <td>0.313145</td>\n",
       "      <td>0.377689</td>\n",
       "      <td>...</td>\n",
       "      <td>0.306986</td>\n",
       "      <td>0.331034</td>\n",
       "      <td>0.355483</td>\n",
       "      <td>0.535962</td>\n",
       "      <td>0.601632</td>\n",
       "      <td>0.341479</td>\n",
       "      <td>0.256770</td>\n",
       "      <td>0.250551</td>\n",
       "      <td>0.278926</td>\n",
       "      <td>0.141796</td>\n",
       "    </tr>\n",
       "    <tr>\n",
       "      <th>Banks</th>\n",
       "      <td>0.323162</td>\n",
       "      <td>0.259850</td>\n",
       "      <td>0.131022</td>\n",
       "      <td>0.225447</td>\n",
       "      <td>0.038994</td>\n",
       "      <td>0.328764</td>\n",
       "      <td>0.294718</td>\n",
       "      <td>0.463570</td>\n",
       "      <td>0.367628</td>\n",
       "      <td>0.406541</td>\n",
       "      <td>...</td>\n",
       "      <td>0.389098</td>\n",
       "      <td>0.462036</td>\n",
       "      <td>0.449843</td>\n",
       "      <td>0.485775</td>\n",
       "      <td>0.341479</td>\n",
       "      <td>0.691481</td>\n",
       "      <td>0.428882</td>\n",
       "      <td>0.357658</td>\n",
       "      <td>0.476916</td>\n",
       "      <td>0.216693</td>\n",
       "    </tr>\n",
       "    <tr>\n",
       "      <th>Insur</th>\n",
       "      <td>0.211645</td>\n",
       "      <td>0.206223</td>\n",
       "      <td>0.076961</td>\n",
       "      <td>0.203351</td>\n",
       "      <td>0.045131</td>\n",
       "      <td>0.245832</td>\n",
       "      <td>0.225084</td>\n",
       "      <td>0.312541</td>\n",
       "      <td>0.257521</td>\n",
       "      <td>0.264842</td>\n",
       "      <td>...</td>\n",
       "      <td>0.291596</td>\n",
       "      <td>0.358539</td>\n",
       "      <td>0.320080</td>\n",
       "      <td>0.324238</td>\n",
       "      <td>0.256770</td>\n",
       "      <td>0.428882</td>\n",
       "      <td>0.417066</td>\n",
       "      <td>0.261815</td>\n",
       "      <td>0.327899</td>\n",
       "      <td>0.159927</td>\n",
       "    </tr>\n",
       "    <tr>\n",
       "      <th>RlEst</th>\n",
       "      <td>0.247687</td>\n",
       "      <td>0.219280</td>\n",
       "      <td>0.104489</td>\n",
       "      <td>0.183527</td>\n",
       "      <td>0.074579</td>\n",
       "      <td>0.283094</td>\n",
       "      <td>0.250000</td>\n",
       "      <td>0.339140</td>\n",
       "      <td>0.295604</td>\n",
       "      <td>0.307383</td>\n",
       "      <td>...</td>\n",
       "      <td>0.257047</td>\n",
       "      <td>0.357338</td>\n",
       "      <td>0.330486</td>\n",
       "      <td>0.355213</td>\n",
       "      <td>0.250551</td>\n",
       "      <td>0.357658</td>\n",
       "      <td>0.261815</td>\n",
       "      <td>0.505042</td>\n",
       "      <td>0.322400</td>\n",
       "      <td>0.201515</td>\n",
       "    </tr>\n",
       "    <tr>\n",
       "      <th>Fin</th>\n",
       "      <td>0.280403</td>\n",
       "      <td>0.210465</td>\n",
       "      <td>0.188843</td>\n",
       "      <td>0.159901</td>\n",
       "      <td>0.053772</td>\n",
       "      <td>0.339414</td>\n",
       "      <td>0.286521</td>\n",
       "      <td>0.385826</td>\n",
       "      <td>0.328465</td>\n",
       "      <td>0.357008</td>\n",
       "      <td>...</td>\n",
       "      <td>0.356125</td>\n",
       "      <td>0.461661</td>\n",
       "      <td>0.402468</td>\n",
       "      <td>0.444391</td>\n",
       "      <td>0.278926</td>\n",
       "      <td>0.476916</td>\n",
       "      <td>0.327899</td>\n",
       "      <td>0.322400</td>\n",
       "      <td>0.580043</td>\n",
       "      <td>0.211963</td>\n",
       "    </tr>\n",
       "    <tr>\n",
       "      <th>Other</th>\n",
       "      <td>0.177660</td>\n",
       "      <td>0.118487</td>\n",
       "      <td>0.086453</td>\n",
       "      <td>0.093569</td>\n",
       "      <td>0.023901</td>\n",
       "      <td>0.222985</td>\n",
       "      <td>0.192892</td>\n",
       "      <td>0.244166</td>\n",
       "      <td>0.219324</td>\n",
       "      <td>0.236692</td>\n",
       "      <td>...</td>\n",
       "      <td>0.173638</td>\n",
       "      <td>0.278688</td>\n",
       "      <td>0.233307</td>\n",
       "      <td>0.241118</td>\n",
       "      <td>0.141796</td>\n",
       "      <td>0.216693</td>\n",
       "      <td>0.159927</td>\n",
       "      <td>0.201515</td>\n",
       "      <td>0.211963</td>\n",
       "      <td>0.502616</td>\n",
       "    </tr>\n",
       "  </tbody>\n",
       "</table>\n",
       "<p>48 rows × 48 columns</p>\n",
       "</div>"
      ],
      "text/plain": [
       "          Agric     Food      Soda      Beer      Smoke     Toys      Fun    \\\n",
       "Agric  0.759912  0.245160  0.131418  0.171299  0.097673  0.211667  0.217118   \n",
       "Food   0.245160  0.441578  0.231378  0.243561  0.164817  0.234746  0.155929   \n",
       "Soda   0.131418  0.231378  2.322221  0.148511 -0.000820  0.256499  0.180605   \n",
       "Beer   0.171299  0.243561  0.148511  0.774862  0.177845  0.167352  0.174766   \n",
       "Smoke  0.097673  0.164817 -0.000820  0.177845  0.738196  0.102445  0.041181   \n",
       "Toys   0.211667  0.234746  0.256499  0.167352  0.102445  1.270864  0.278190   \n",
       "Fun    0.217118  0.155929  0.180605  0.174766  0.041181  0.278190  0.449204   \n",
       "Books  0.346233  0.277468  0.228264  0.181643  0.131305  0.328360  0.338569   \n",
       "Hshld  0.273630  0.284013  0.222491  0.200300  0.104143  0.361806  0.257025   \n",
       "Clths  0.283559  0.281123  0.214563  0.172858  0.075143  0.434088  0.250245   \n",
       "Hlth   0.301412  0.211035  0.074673  0.152726  0.045086  0.344280  0.269952   \n",
       "MedEq  0.303259  0.166336  0.073692  0.152464  0.040192  0.310685  0.262412   \n",
       "Drugs  0.366252  0.200822  0.135805  0.198707  0.075074  0.432839  0.354373   \n",
       "Chems  0.301285  0.291836  0.128577  0.245597  0.100218  0.358337  0.335961   \n",
       "Rubbr  0.288085  0.282706  0.198307  0.264141  0.056679  0.316213  0.269953   \n",
       "Txtls  0.337675  0.295853  0.258663  0.234634  0.071884  0.418876  0.315229   \n",
       "BldMt  0.335891  0.310296  0.271236  0.258820  0.110787  0.438213  0.356207   \n",
       "Cnstr  0.337360  0.322001  0.193021  0.217008  0.103091  0.480229  0.374521   \n",
       "Steel  0.353199  0.395544  0.360857  0.296978  0.096910  0.465322  0.412820   \n",
       "FabPr  0.373708  0.429100  0.264535  0.376973  0.180258  0.569807  0.363589   \n",
       "Mach   0.316010  0.289846  0.244124  0.270491  0.120756  0.437540  0.340490   \n",
       "ElcEq  0.310232  0.227764  0.183209  0.243315  0.090560  0.336639  0.317490   \n",
       "Autos  0.344501  0.336203  0.233425  0.270186  0.159800  0.442379  0.344644   \n",
       "Aero   0.185322  0.217734  0.229188  0.218525  0.117973  0.341024  0.238994   \n",
       "Ships  0.364424  0.323289  0.215800  0.276819  0.041531  0.353081  0.403107   \n",
       "Guns   0.161760  0.154681  0.042729  0.034564  0.120935  0.212001  0.167260   \n",
       "Gold   0.192673  0.081685  0.104949  0.100354  0.141229  0.265639  0.192203   \n",
       "Mines  0.338658  0.237504  0.138283  0.138251  0.028860  0.490811  0.394120   \n",
       "Coal   0.276212  0.258805  0.324263  0.082557  0.153318  0.313079  0.309329   \n",
       "Oil    0.341615  0.283730  0.292481  0.197638  0.043500  0.336801  0.394828   \n",
       "Util   0.133883  0.157620  0.026832  0.143180  0.124655  0.062734  0.113093   \n",
       "Telcm  0.308699  0.259244  0.249656  0.188969  0.127235  0.320151  0.295466   \n",
       "PerSv  0.314906  0.279481  0.176079  0.204062  0.083818  0.371798  0.323629   \n",
       "BusSv  0.273856  0.221468  0.191605  0.190448  0.110318  0.352439  0.310198   \n",
       "Comps  0.338086  0.277613  0.301626  0.262430  0.133299  0.401255  0.334680   \n",
       "Chips  0.279416  0.230524  0.215925  0.214518  0.162803  0.397064  0.344679   \n",
       "LabEq  0.236239  0.218122  0.138818  0.221097  0.145883  0.374257  0.288415   \n",
       "Paper  0.302194  0.307426  0.249400  0.230486  0.140097  0.395722  0.306935   \n",
       "Boxes  0.221080  0.234214  0.112517  0.158256  0.147456  0.301759  0.241367   \n",
       "Trans  0.319162  0.276322  0.286015  0.248959  0.064914  0.346403  0.314277   \n",
       "Whlsl  0.304638  0.305557  0.228524  0.247988  0.123901  0.360664  0.290523   \n",
       "Rtail  0.382462  0.385956  0.203483  0.244799  0.065693  0.445287  0.317316   \n",
       "Meals  0.196740  0.235517  0.217869  0.138269  0.070458  0.359597  0.260011   \n",
       "Banks  0.323162  0.259850  0.131022  0.225447  0.038994  0.328764  0.294718   \n",
       "Insur  0.211645  0.206223  0.076961  0.203351  0.045131  0.245832  0.225084   \n",
       "RlEst  0.247687  0.219280  0.104489  0.183527  0.074579  0.283094  0.250000   \n",
       "Fin    0.280403  0.210465  0.188843  0.159901  0.053772  0.339414  0.286521   \n",
       "Other  0.177660  0.118487  0.086453  0.093569  0.023901  0.222985  0.192892   \n",
       "\n",
       "          Books     Hshld     Clths    ...        Boxes     Trans     Whlsl  \\\n",
       "Agric  0.346233  0.273630  0.283559    ...     0.221080  0.319162  0.304638   \n",
       "Food   0.277468  0.284013  0.281123    ...     0.234214  0.276322  0.305557   \n",
       "Soda   0.228264  0.222491  0.214563    ...     0.112517  0.286015  0.228524   \n",
       "Beer   0.181643  0.200300  0.172858    ...     0.158256  0.248959  0.247988   \n",
       "Smoke  0.131305  0.104143  0.075143    ...     0.147456  0.064914  0.123901   \n",
       "Toys   0.328360  0.361806  0.434088    ...     0.301759  0.346403  0.360664   \n",
       "Fun    0.338569  0.257025  0.250245    ...     0.241367  0.314277  0.290523   \n",
       "Books  0.814828  0.414727  0.442945    ...     0.312996  0.471481  0.459653   \n",
       "Hshld  0.414727  0.597912  0.441359    ...     0.305454  0.372892  0.405773   \n",
       "Clths  0.442945  0.441359  1.064592    ...     0.310001  0.410705  0.383570   \n",
       "Hlth   0.343325  0.351013  0.379774    ...     0.369528  0.446976  0.405125   \n",
       "MedEq  0.371914  0.327022  0.323695    ...     0.272074  0.378803  0.333687   \n",
       "Drugs  0.418999  0.356533  0.339401    ...     0.376618  0.486797  0.442004   \n",
       "Chems  0.445344  0.412148  0.329392    ...     0.435566  0.546974  0.497346   \n",
       "Rubbr  0.415482  0.396322  0.388026    ...     0.345311  0.434955  0.432980   \n",
       "Txtls  0.428502  0.420844  0.534129    ...     0.361076  0.411741  0.435760   \n",
       "BldMt  0.551693  0.445048  0.417987    ...     0.426001  0.547682  0.539140   \n",
       "Cnstr  0.521801  0.484268  0.506986    ...     0.466219  0.632097  0.543822   \n",
       "Steel  0.633757  0.564042  0.545452    ...     0.615342  0.778492  0.753199   \n",
       "FabPr  0.588355  0.570224  0.569235    ...     0.594330  0.672725  0.702154   \n",
       "Mach   0.483898  0.432924  0.407539    ...     0.437772  0.588283  0.550444   \n",
       "ElcEq  0.458332  0.347385  0.362005    ...     0.314846  0.475078  0.448571   \n",
       "Autos  0.536621  0.464953  0.489041    ...     0.450168  0.603131  0.567886   \n",
       "Aero   0.348006  0.295255  0.331955    ...     0.322503  0.464381  0.384879   \n",
       "Ships  0.502726  0.499190  0.505712    ...     0.492384  0.550056  0.564825   \n",
       "Guns   0.309590  0.278532  0.322327    ...     0.281637  0.316903  0.326579   \n",
       "Gold   0.050786  0.077660 -0.032493    ...     0.108549  0.003064  0.131027   \n",
       "Mines  0.504263  0.412278  0.423413    ...     0.458050  0.752186  0.637851   \n",
       "Coal   0.515151  0.386640  0.438193    ...     0.514332  0.601345  0.639641   \n",
       "Oil    0.527789  0.407422  0.435683    ...     0.417671  0.724035  0.649893   \n",
       "Util   0.129761  0.116936  0.111900    ...     0.135622  0.169192  0.161915   \n",
       "Telcm  0.453193  0.367594  0.372431    ...     0.304882  0.426085  0.449231   \n",
       "PerSv  0.448403  0.375867  0.401391    ...     0.373209  0.460554  0.433848   \n",
       "BusSv  0.388646  0.319943  0.316975    ...     0.297883  0.392563  0.389833   \n",
       "Comps  0.444522  0.409226  0.406752    ...     0.349080  0.464327  0.445848   \n",
       "Chips  0.432811  0.358211  0.364334    ...     0.346997  0.448428  0.420353   \n",
       "LabEq  0.355847  0.334089  0.316668    ...     0.337114  0.433466  0.380209   \n",
       "Paper  0.460662  0.415699  0.407840    ...     0.431267  0.456304  0.474524   \n",
       "Boxes  0.312996  0.305454  0.310001    ...     0.688182  0.401004  0.395656   \n",
       "Trans  0.471481  0.372892  0.410705    ...     0.401004  0.976045  0.473271   \n",
       "Whlsl  0.459653  0.405773  0.383570    ...     0.395656  0.473271  0.569165   \n",
       "Rtail  0.577421  0.552059  0.801643    ...     0.402123  0.501116  0.544990   \n",
       "Meals  0.323230  0.313145  0.377689    ...     0.306986  0.331034  0.355483   \n",
       "Banks  0.463570  0.367628  0.406541    ...     0.389098  0.462036  0.449843   \n",
       "Insur  0.312541  0.257521  0.264842    ...     0.291596  0.358539  0.320080   \n",
       "RlEst  0.339140  0.295604  0.307383    ...     0.257047  0.357338  0.330486   \n",
       "Fin    0.385826  0.328465  0.357008    ...     0.356125  0.461661  0.402468   \n",
       "Other  0.244166  0.219324  0.236692    ...     0.173638  0.278688  0.233307   \n",
       "\n",
       "          Rtail     Meals     Banks     Insur     RlEst     Fin       Other  \n",
       "Agric  0.382462  0.196740  0.323162  0.211645  0.247687  0.280403  0.177660  \n",
       "Food   0.385956  0.235517  0.259850  0.206223  0.219280  0.210465  0.118487  \n",
       "Soda   0.203483  0.217869  0.131022  0.076961  0.104489  0.188843  0.086453  \n",
       "Beer   0.244799  0.138269  0.225447  0.203351  0.183527  0.159901  0.093569  \n",
       "Smoke  0.065693  0.070458  0.038994  0.045131  0.074579  0.053772  0.023901  \n",
       "Toys   0.445287  0.359597  0.328764  0.245832  0.283094  0.339414  0.222985  \n",
       "Fun    0.317316  0.260011  0.294718  0.225084  0.250000  0.286521  0.192892  \n",
       "Books  0.577421  0.323230  0.463570  0.312541  0.339140  0.385826  0.244166  \n",
       "Hshld  0.552059  0.313145  0.367628  0.257521  0.295604  0.328465  0.219324  \n",
       "Clths  0.801643  0.377689  0.406541  0.264842  0.307383  0.357008  0.236692  \n",
       "Hlth   0.449905  0.310925  0.371130  0.271624  0.306467  0.383918  0.419437  \n",
       "MedEq  0.361139  0.213373  0.338883  0.237866  0.306803  0.359337  0.261302  \n",
       "Drugs  0.415703  0.302651  0.375377  0.265252  0.363179  0.473451  0.358434  \n",
       "Chems  0.465008  0.336172  0.460758  0.345637  0.385068  0.444995  0.258757  \n",
       "Rubbr  0.466809  0.288239  0.442946  0.310002  0.336739  0.376249  0.227447  \n",
       "Txtls  0.554766  0.356414  0.436300  0.323159  0.334060  0.348817  0.228484  \n",
       "BldMt  0.598350  0.362168  0.529365  0.356140  0.387630  0.454727  0.305557  \n",
       "Cnstr  0.638483  0.416530  0.555584  0.395821  0.445678  0.514612  0.317820  \n",
       "Steel  0.741626  0.475999  0.694815  0.489273  0.457060  0.648351  0.365825  \n",
       "FabPr  0.646890  0.465395  0.715032  0.520055  0.470140  0.607202  0.384576  \n",
       "Mach   0.524124  0.370736  0.513342  0.356366  0.398569  0.466382  0.286236  \n",
       "ElcEq  0.448128  0.297740  0.406734  0.304569  0.337434  0.382778  0.317974  \n",
       "Autos  0.598180  0.408463  0.536674  0.396569  0.411897  0.501924  0.309161  \n",
       "Aero   0.336983  0.214843  0.412500  0.285157  0.316461  0.353089  0.188798  \n",
       "Ships  0.622372  0.414440  0.592796  0.413674  0.429748  0.496012  0.272134  \n",
       "Guns   0.324394  0.182332  0.330451  0.168518  0.215529  0.292140  0.136240  \n",
       "Gold  -0.010573 -0.014772 -0.214969 -0.162677  0.038535  0.009643  0.257764  \n",
       "Mines  0.649523  0.401238  0.456155  0.292700  0.386747  0.522582  0.468588  \n",
       "Coal   0.625737  0.429254  0.494556  0.308425  0.368328  0.532268  0.295077  \n",
       "Oil    0.637302  0.411862  0.424161  0.327394  0.361290  0.501739  0.301095  \n",
       "Util   0.132399  0.130985  0.108002  0.131187  0.134260  0.078397  0.072110  \n",
       "Telcm  0.499862  0.280973  0.381424  0.270838  0.319967  0.376090  0.248537  \n",
       "PerSv  0.520650  0.342907  0.468150  0.342229  0.320200  0.399145  0.247724  \n",
       "BusSv  0.380192  0.260556  0.352817  0.250293  0.327258  0.364751  0.244268  \n",
       "Comps  0.459520  0.311125  0.404072  0.278833  0.386797  0.419070  0.298255  \n",
       "Chips  0.379305  0.291152  0.381402  0.255665  0.358487  0.415558  0.303600  \n",
       "LabEq  0.321845  0.245231  0.332181  0.239928  0.288186  0.353587  0.245178  \n",
       "Paper  0.541838  0.357879  0.461562  0.334972  0.334116  0.379220  0.245120  \n",
       "Boxes  0.402123  0.306986  0.389098  0.291596  0.257047  0.356125  0.173638  \n",
       "Trans  0.501116  0.331034  0.462036  0.358539  0.357338  0.461661  0.278688  \n",
       "Whlsl  0.544990  0.355483  0.449843  0.320080  0.330486  0.402468  0.233307  \n",
       "Rtail  1.202576  0.535962  0.485775  0.324238  0.355213  0.444391  0.241118  \n",
       "Meals  0.535962  0.601632  0.341479  0.256770  0.250551  0.278926  0.141796  \n",
       "Banks  0.485775  0.341479  0.691481  0.428882  0.357658  0.476916  0.216693  \n",
       "Insur  0.324238  0.256770  0.428882  0.417066  0.261815  0.327899  0.159927  \n",
       "RlEst  0.355213  0.250551  0.357658  0.261815  0.505042  0.322400  0.201515  \n",
       "Fin    0.444391  0.278926  0.476916  0.327899  0.322400  0.580043  0.211963  \n",
       "Other  0.241118  0.141796  0.216693  0.159927  0.201515  0.211963  0.502616  \n",
       "\n",
       "[48 rows x 48 columns]"
      ]
     },
     "execution_count": 119,
     "metadata": {},
     "output_type": "execute_result"
    }
   ],
   "source": [
    "cov=two_thousand.cov()\n",
    "cov"
   ]
  },
  {
   "cell_type": "markdown",
   "metadata": {
    "hideCode": false,
    "hidePrompt": false
   },
   "source": [
    "## Part B"
   ]
  },
  {
   "cell_type": "markdown",
   "metadata": {
    "hideCode": false,
    "hidePrompt": false
   },
   "source": [
    "### Naive Portfolio"
   ]
  },
  {
   "cell_type": "code",
   "execution_count": 120,
   "metadata": {
    "hideCode": false,
    "hidePrompt": false
   },
   "outputs": [
    {
     "data": {
      "text/plain": [
       "0.05610179539295392"
      ]
     },
     "execution_count": 120,
     "metadata": {},
     "output_type": "execute_result"
    }
   ],
   "source": [
    "mu_naive=mu.mean()\n",
    "mu_naive"
   ]
  },
  {
   "cell_type": "code",
   "execution_count": 121,
   "metadata": {
    "hideCode": false,
    "hidePrompt": false
   },
   "outputs": [
    {
     "data": {
      "text/plain": [
       "0.6230163774921683"
      ]
     },
     "execution_count": 121,
     "metadata": {},
     "output_type": "execute_result"
    }
   ],
   "source": [
    "sigma_naive=two_thousand.mean(axis=1).std()\n",
    "sigma_naive"
   ]
  },
  {
   "cell_type": "markdown",
   "metadata": {
    "hideCode": false,
    "hidePrompt": false
   },
   "source": [
    "### Market Portfolio"
   ]
  },
  {
   "cell_type": "code",
   "execution_count": 122,
   "metadata": {
    "hideCode": false,
    "hidePrompt": false
   },
   "outputs": [
    {
     "data": {
      "text/plain": [
       "0.06881927152576628"
      ]
     },
     "execution_count": 122,
     "metadata": {},
     "output_type": "execute_result"
    }
   ],
   "source": [
    "mu_market=sp.mean()\n",
    "mu_market"
   ]
  },
  {
   "cell_type": "code",
   "execution_count": 123,
   "metadata": {
    "hideCode": false,
    "hidePrompt": false
   },
   "outputs": [
    {
     "data": {
      "text/plain": [
       "0.42221679661860295"
      ]
     },
     "execution_count": 123,
     "metadata": {},
     "output_type": "execute_result"
    }
   ],
   "source": [
    "sigma_market=sp.std()\n",
    "sigma_market"
   ]
  },
  {
   "cell_type": "markdown",
   "metadata": {
    "hideCode": false,
    "hidePrompt": false
   },
   "source": [
    "### MVP Portfolio"
   ]
  },
  {
   "cell_type": "code",
   "execution_count": 124,
   "metadata": {
    "hideCode": false,
    "hidePrompt": false
   },
   "outputs": [],
   "source": [
    "from numpy.linalg import inv"
   ]
  },
  {
   "cell_type": "code",
   "execution_count": 125,
   "metadata": {
    "hideCode": false,
    "hidePrompt": false
   },
   "outputs": [],
   "source": [
    "one_vector=np.ones((48,1))"
   ]
  },
  {
   "cell_type": "code",
   "execution_count": 126,
   "metadata": {
    "hideCode": false,
    "hidePrompt": false
   },
   "outputs": [],
   "source": [
    "sigma_mvp=1/np.sqrt(np.matmul(np.matmul(one_vector.T,inv(cov)),one_vector))"
   ]
  },
  {
   "cell_type": "code",
   "execution_count": 127,
   "metadata": {
    "hideCode": false,
    "hidePrompt": false
   },
   "outputs": [
    {
     "data": {
      "text/plain": [
       "0.33658658080915832"
      ]
     },
     "execution_count": 127,
     "metadata": {},
     "output_type": "execute_result"
    }
   ],
   "source": [
    "sigma_mvp=sigma_mvp[0][0]\n",
    "sigma_mvp"
   ]
  },
  {
   "cell_type": "code",
   "execution_count": 128,
   "metadata": {
    "hideCode": false,
    "hidePrompt": false
   },
   "outputs": [],
   "source": [
    "weights_mvp=sigma_mvp**2*np.matmul(inv(cov),one_vector)"
   ]
  },
  {
   "cell_type": "code",
   "execution_count": 129,
   "metadata": {
    "hideCode": false,
    "hidePrompt": false
   },
   "outputs": [],
   "source": [
    "weights_mvp=weights_mvp.flatten()"
   ]
  },
  {
   "cell_type": "code",
   "execution_count": 130,
   "metadata": {
    "hideCode": false,
    "hidePrompt": false
   },
   "outputs": [],
   "source": [
    "mu_mvp=(weights_mvp*two_thousand).mean(axis=1).mean()"
   ]
  },
  {
   "cell_type": "code",
   "execution_count": 131,
   "metadata": {
    "hideCode": false,
    "hidePrompt": false
   },
   "outputs": [
    {
     "data": {
      "text/plain": [
       "0.0010913609071116516"
      ]
     },
     "execution_count": 131,
     "metadata": {},
     "output_type": "execute_result"
    }
   ],
   "source": [
    "mu_mvp"
   ]
  },
  {
   "cell_type": "markdown",
   "metadata": {
    "hideCode": false,
    "hidePrompt": false
   },
   "source": [
    "### Random 2 Sector Efficient Frontiers"
   ]
  },
  {
   "cell_type": "code",
   "execution_count": 132,
   "metadata": {
    "hideCode": false,
    "hidePrompt": false
   },
   "outputs": [
    {
     "data": {
      "text/plain": [
       "Text(0,0.5,'\\\\mu')"
      ]
     },
     "execution_count": 132,
     "metadata": {},
     "output_type": "execute_result"
    },
    {
     "data": {
      "image/png": "[encoded data removed]",
      "text/plain": [
       "<Figure size 720x576 with 1 Axes>"
      ]
     },
     "metadata": {},
     "output_type": "display_data"
    }
   ],
   "source": [
    "mpl.rcParams['figure.figsize']=[10,8]\n",
    "legend=[]\n",
    "for j in range(5):\n",
    "    rand_sectors=np.random.choice(range(48),size=2)\n",
    "    mus={}\n",
    "    sigmas={}\n",
    "    for i in range(2):\n",
    "        mus[i]=two_thousand[two_thousand.columns[rand_sectors][i]].mean()\n",
    "        sigmas[i]=two_thousand[two_thousand.columns[rand_sectors][i]].std()\n",
    "    \n",
    "    cov12=two_thousand[two_thousand.columns[rand_sectors][0]].cov(two_thousand[two_thousand.columns[rand_sectors][1]])\n",
    "    mus_array=np.array(list(mus.values()))\n",
    "    sigmas_array=np.array(list(sigmas.values()))\n",
    "    cov=two_thousand[two_thousand.columns[rand_sectors]].cov()\n",
    "    one_vector=np.array([1,0])\n",
    "    \n",
    "    sigma_mvp=1/np.sqrt(one_vector.T@inv(cov)@one_vector)\n",
    "    #sigma_mvp=sigma_mvp[0][0]\n",
    "    weights_mvp=sigma_mvp**2*inv(cov)@one_vector\n",
    "    mu_mvp=(two_thousand[two_thousand.columns[rand_sectors]]@weights_mvp).mean()\n",
    "    mus_v=np.linspace(mus_array[0],mus_array[1],100)\n",
    "    w1=((mus_v-mus_array[1])/(mus_array[0]-mus_array[1])).reshape((100,1))\n",
    "    w2=((mus_array[0]-mus_v)/(mus_array[0]-mus_array[1])).reshape((100,1))\n",
    "    w=np.concatenate((w1,w2),axis=1)\n",
    "    sigma_v=np.diag(w@cov@w.T)\n",
    "    \n",
    "    plt.plot(sigma_v,mus_v)\n",
    "    s=\" \"\n",
    "    title=s.join(list(two_thousand.columns[rand_sectors]))\n",
    "    legend.append(title)\n",
    "plt.legend(legend)\n",
    "plt.title(\"5 Efficient Frontiers with 2 Random Sectors Each\")\n",
    "plt.xlabel(\"\\sigma\")\n",
    "plt.ylabel(\"\\mu\")"
   ]
  },
  {
   "cell_type": "markdown",
   "metadata": {
    "hideCode": false,
    "hidePrompt": false
   },
   "source": [
    "# Part C"
   ]
  },
  {
   "cell_type": "code",
   "execution_count": 133,
   "metadata": {
    "hideCode": false,
    "hidePrompt": false
   },
   "outputs": [],
   "source": [
    "mu_test=np.linspace(-1,1,500)"
   ]
  },
  {
   "cell_type": "code",
   "execution_count": 134,
   "metadata": {
    "hideCode": false,
    "hidePrompt": false
   },
   "outputs": [],
   "source": [
    "cov=two_thousand.cov()"
   ]
  },
  {
   "cell_type": "code",
   "execution_count": 135,
   "metadata": {
    "hideCode": false,
    "hidePrompt": false
   },
   "outputs": [],
   "source": [
    "sigma_vs=[]\n",
    "for i in mu_test:\n",
    "    mu_tilde=np.array([i,1])\n",
    "    m_tilde=np.concatenate((mu.values.reshape((48,1)),np.ones((48,1))),axis=1)\n",
    "    B=m_tilde.T@inv(cov)@m_tilde\n",
    "    sigma_v=np.sqrt(mu_tilde.T@inv(B)@m_tilde.T@inv(cov)@m_tilde@inv(B)@mu_tilde)\n",
    "    sigma_vs.append(sigma_v)"
   ]
  },
  {
   "cell_type": "code",
   "execution_count": 136,
   "metadata": {
    "hideCode": false,
    "hidePrompt": false
   },
   "outputs": [],
   "source": [
    "one_vector=np.ones((48,1))"
   ]
  },
  {
   "cell_type": "code",
   "execution_count": 137,
   "metadata": {
    "hideCode": false,
    "hidePrompt": false
   },
   "outputs": [],
   "source": [
    "sigma_mvp=1/np.sqrt(np.matmul(np.matmul(one_vector.T,inv(cov)),one_vector))\n",
    "sigma_mvp=sigma_mvp[0][0]\n",
    "weights_mvp=sigma_mvp**2*np.matmul(inv(cov),one_vector)\n",
    "mu_mvp=((two_thousand@weights_mvp).mean()).values[0]"
   ]
  },
  {
   "cell_type": "code",
   "execution_count": 138,
   "metadata": {
    "hideCode": false,
    "hidePrompt": false
   },
   "outputs": [
    {
     "data": {
      "text/plain": [
       "0.052385323541359309"
      ]
     },
     "execution_count": 138,
     "metadata": {},
     "output_type": "execute_result"
    }
   ],
   "source": [
    "mu_mvp"
   ]
  },
  {
   "cell_type": "code",
   "execution_count": 139,
   "metadata": {
    "hideCode": false,
    "hidePrompt": false
   },
   "outputs": [],
   "source": [
    "m_ex=mu.values-(libor.mean()*one_vector).flatten()"
   ]
  },
  {
   "cell_type": "code",
   "execution_count": 140,
   "metadata": {
    "hideCode": false,
    "hidePrompt": false
   },
   "outputs": [],
   "source": [
    "w_m=(1/(one_vector.T@inv(cov)@m_ex))*inv(cov)@m_ex"
   ]
  },
  {
   "cell_type": "code",
   "execution_count": 141,
   "metadata": {
    "hideCode": false,
    "hidePrompt": false
   },
   "outputs": [
    {
     "data": {
      "text/plain": [
       "0.5077139237135991"
      ]
     },
     "execution_count": 141,
     "metadata": {},
     "output_type": "execute_result"
    }
   ],
   "source": [
    "mu_m=(two_thousand@w_m).mean()\n",
    "mu_m"
   ]
  },
  {
   "cell_type": "code",
   "execution_count": 142,
   "metadata": {
    "hideCode": false,
    "hidePrompt": false
   },
   "outputs": [
    {
     "data": {
      "text/plain": [
       "1.118346550090299"
      ]
     },
     "execution_count": 142,
     "metadata": {},
     "output_type": "execute_result"
    }
   ],
   "source": [
    "sigma_m=(two_thousand@w_m).std()\n",
    "sigma_m"
   ]
  },
  {
   "cell_type": "code",
   "execution_count": 143,
   "metadata": {
    "hideCode": false,
    "hidePrompt": false
   },
   "outputs": [
    {
     "data": {
      "text/plain": [
       "Text(0.5,1,'Markowitz Bullet and CML')"
      ]
     },
     "execution_count": 143,
     "metadata": {},
     "output_type": "execute_result"
    },
    {
     "data": {
      "image/png": "[encoded data removed]",
      "text/plain": [
       "<Figure size 720x576 with 1 Axes>"
      ]
     },
     "metadata": {},
     "output_type": "display_data"
    }
   ],
   "source": [
    "plt.plot(sigma_vs,mu_test,label=\"Efficient Frontier\")\n",
    "plt.scatter(0,libor.mean(),c=\"r\",label=\"Risk Free Rate\")\n",
    "plt.scatter(sigma_mvp,mu_mvp,c=\"g\",label=\"MVP\")\n",
    "plt.scatter(sigma_m,mu_m,c=\"y\",label=\"Market\")\n",
    "plt.plot([0,sigma_m],[libor.mean(),mu_m],label=\"CML\")\n",
    "plt.grid()\n",
    "plt.legend()\n",
    "plt.title(\"Markowitz Bullet and CML\")"
   ]
  },
  {
   "cell_type": "markdown",
   "metadata": {
    "hideCode": false,
    "hidePrompt": false
   },
   "source": [
    "# Part D"
   ]
  },
  {
   "cell_type": "code",
   "execution_count": 144,
   "metadata": {
    "hideCode": false,
    "hidePrompt": false
   },
   "outputs": [],
   "source": [
    "sigma_vs=np.array(sigma_vs)\n",
    "test_mus=mu_test[mu_test>0]\n",
    "test_sigs=sigma_vs[mu_test>0]\n",
    "three_ix=np.random.randint(low=0,high=len(test_mus),size=3)"
   ]
  },
  {
   "cell_type": "code",
   "execution_count": 145,
   "metadata": {
    "hideCode": false,
    "hidePrompt": false
   },
   "outputs": [],
   "source": [
    "three_ix.sort()"
   ]
  },
  {
   "cell_type": "code",
   "execution_count": 146,
   "metadata": {
    "hideCode": false,
    "hidePrompt": false
   },
   "outputs": [
    {
     "data": {
      "text/plain": [
       "array([ 0.20641283,  0.48296593,  0.90781563])"
      ]
     },
     "execution_count": 146,
     "metadata": {},
     "output_type": "execute_result"
    }
   ],
   "source": [
    "test_mus[three_ix]"
   ]
  },
  {
   "cell_type": "code",
   "execution_count": 147,
   "metadata": {
    "hideCode": false,
    "hidePrompt": false
   },
   "outputs": [
    {
     "data": {
      "text/plain": [
       "array([ 0.49340269,  1.06321134,  2.03170649])"
      ]
     },
     "execution_count": 147,
     "metadata": {},
     "output_type": "execute_result"
    }
   ],
   "source": [
    "test_sigs[three_ix]"
   ]
  },
  {
   "cell_type": "markdown",
   "metadata": {
    "hideCode": false,
    "hidePrompt": false
   },
   "source": [
    "Always Increasing"
   ]
  },
  {
   "cell_type": "code",
   "execution_count": 148,
   "metadata": {
    "hideCode": false,
    "hidePrompt": false
   },
   "outputs": [],
   "source": [
    "#compute the weight vectors for the test_mus\n",
    "three_mus=test_mus[three_ix]\n",
    "three_mus=np.concatenate((three_mus.reshape((1,3)),np.ones((1,3))))"
   ]
  },
  {
   "cell_type": "code",
   "execution_count": 149,
   "metadata": {
    "hideCode": false,
    "hidePrompt": false
   },
   "outputs": [
    {
     "data": {
      "text/plain": [
       "array([[ 0.20641283,  0.48296593,  0.90781563],\n",
       "       [ 1.        ,  1.        ,  1.        ]])"
      ]
     },
     "execution_count": 149,
     "metadata": {},
     "output_type": "execute_result"
    }
   ],
   "source": [
    "three_mus"
   ]
  },
  {
   "cell_type": "code",
   "execution_count": 150,
   "metadata": {
    "hideCode": false,
    "hidePrompt": false
   },
   "outputs": [],
   "source": [
    "three_weights=inv(cov)@m_tilde@inv(B)@three_mus"
   ]
  },
  {
   "cell_type": "code",
   "execution_count": 151,
   "metadata": {
    "hideCode": false,
    "hidePrompt": false
   },
   "outputs": [],
   "source": [
    "M=np.stack((three_weights[:,0],three_weights[:,2]),axis=1)"
   ]
  },
  {
   "cell_type": "code",
   "execution_count": 152,
   "metadata": {
    "hideCode": false,
    "hidePrompt": false
   },
   "outputs": [],
   "source": [
    "weights=(inv(M.T@M)@M.T)@three_weights[:,1]"
   ]
  },
  {
   "cell_type": "markdown",
   "metadata": {
    "hideCode": false,
    "hidePrompt": false
   },
   "source": [
    "Moore Penrose Psuedo Inverse"
   ]
  },
  {
   "cell_type": "code",
   "execution_count": 153,
   "metadata": {
    "hideCode": false,
    "hidePrompt": false
   },
   "outputs": [
    {
     "data": {
      "text/plain": [
       "array([  6.93889390e-17,   1.49186219e-16,   6.93889390e-17,\n",
       "         8.32667268e-17,   5.55111512e-17,   5.55111512e-17,\n",
       "         1.11022302e-16,   2.77555756e-17,   5.55111512e-17,\n",
       "         0.00000000e+00,  -8.32667268e-17,   2.22044605e-16,\n",
       "        -8.32667268e-17,  -4.16333634e-17,   1.11022302e-16,\n",
       "        -8.67361738e-17,  -5.55111512e-17,   0.00000000e+00,\n",
       "        -1.38777878e-16,  -1.11022302e-16,  -5.55111512e-17,\n",
       "        -3.46944695e-17,  -1.38777878e-16,   1.11022302e-16,\n",
       "        -9.71445147e-17,   1.66533454e-16,   5.55111512e-17,\n",
       "         5.55111512e-17,   0.00000000e+00,   2.77555756e-17,\n",
       "         2.49800181e-16,   5.55111512e-17,  -2.08166817e-17,\n",
       "         1.11022302e-16,  -1.11022302e-16,  -2.77555756e-16,\n",
       "         2.22044605e-16,  -1.38777878e-16,   1.38777878e-16,\n",
       "        -1.11022302e-16,   2.77555756e-17,   0.00000000e+00,\n",
       "         2.35922393e-16,  -1.11022302e-16,   3.33066907e-16,\n",
       "         5.55111512e-17,   1.11022302e-16,   3.74700271e-16])"
      ]
     },
     "execution_count": 153,
     "metadata": {},
     "output_type": "execute_result"
    }
   ],
   "source": [
    "(weights[0]*M[:,0]+weights[1]*M[:,1])-three_weights[:,1]"
   ]
  },
  {
   "cell_type": "markdown",
   "metadata": {
    "hideCode": false,
    "hidePrompt": false
   },
   "source": [
    "Small delta difference"
   ]
  },
  {
   "cell_type": "markdown",
   "metadata": {
    "hideCode": false,
    "hidePrompt": false
   },
   "source": [
    "# Part E"
   ]
  },
  {
   "cell_type": "code",
   "execution_count": 154,
   "metadata": {
    "hideCode": false,
    "hidePrompt": false
   },
   "outputs": [
    {
     "data": {
      "text/plain": [
       "True"
      ]
     },
     "execution_count": 154,
     "metadata": {},
     "output_type": "execute_result"
    }
   ],
   "source": [
    "libor.mean()<mu_mvp"
   ]
  },
  {
   "cell_type": "markdown",
   "metadata": {
    "hideCode": false,
    "hidePrompt": false
   },
   "source": [
    "# Part F"
   ]
  },
  {
   "cell_type": "code",
   "execution_count": 155,
   "metadata": {
    "hideCode": false,
    "hidePrompt": false
   },
   "outputs": [
    {
     "data": {
      "text/plain": [
       "0.4476977077630783"
      ]
     },
     "execution_count": 155,
     "metadata": {},
     "output_type": "execute_result"
    }
   ],
   "source": [
    "slope=((mu_m-libor.mean())/sigma_m)\n",
    "slope"
   ]
  },
  {
   "cell_type": "code",
   "execution_count": 156,
   "metadata": {
    "hideCode": false,
    "hidePrompt": false
   },
   "outputs": [
    {
     "data": {
      "text/plain": [
       "0.007032736753425608"
      ]
     },
     "execution_count": 156,
     "metadata": {},
     "output_type": "execute_result"
    }
   ],
   "source": [
    "libor.mean()"
   ]
  },
  {
   "cell_type": "markdown",
   "metadata": {
    "hideCode": false,
    "hidePrompt": false
   },
   "source": [
    "Capital Market Line Equation:\n",
    "$$\\mu=0.005+0.71\\sigma$$"
   ]
  },
  {
   "cell_type": "markdown",
   "metadata": {
    "hideCode": false,
    "hidePrompt": false
   },
   "source": [
    "# Part G"
   ]
  },
  {
   "cell_type": "code",
   "execution_count": 157,
   "metadata": {
    "hideCode": false,
    "hidePrompt": false
   },
   "outputs": [],
   "source": [
    "k_mvp=(two_thousand@weights_mvp)[0]\n",
    "k_one=two_thousand@three_weights[:,0]\n",
    "k_two=two_thousand@three_weights[:,1]\n",
    "k_three=two_thousand@three_weights[:,2]\n",
    "k_naive=(two_thousand@(1/48.0*np.ones((48,1))))[0]\n",
    "k_market=two_thousand@w_m"
   ]
  },
  {
   "cell_type": "code",
   "execution_count": 158,
   "metadata": {
    "hideCode": false,
    "hidePrompt": false
   },
   "outputs": [
    {
     "data": {
      "text/plain": [
       "0.11329052638079977"
      ]
     },
     "execution_count": 158,
     "metadata": {},
     "output_type": "execute_result"
    }
   ],
   "source": [
    "k_market.cov(k_mvp)"
   ]
  },
  {
   "cell_type": "code",
   "execution_count": 159,
   "metadata": {
    "hideCode": false,
    "hidePrompt": false
   },
   "outputs": [],
   "source": [
    "beta_mvp=k_market.cov(k_mvp)/k_market.std()\n",
    "beta_one=k_market.cov(k_one)/k_market.std()\n",
    "beta_two=k_market.cov(k_two)/k_market.std()\n",
    "beta_three=k_market.cov(k_three)/k_market.std()\n",
    "beta_naive=k_market.cov(k_naive)/k_market.std()"
   ]
  },
  {
   "cell_type": "code",
   "execution_count": 160,
   "metadata": {
    "hideCode": false,
    "hidePrompt": false
   },
   "outputs": [
    {
     "data": {
      "text/plain": [
       "Text(0.5,1,'Security Market Line')"
      ]
     },
     "execution_count": 160,
     "metadata": {},
     "output_type": "execute_result"
    },
    {
     "data": {
      "image/png": "[encoded data removed]",
      "text/plain": [
       "<Figure size 720x576 with 1 Axes>"
      ]
     },
     "metadata": {},
     "output_type": "display_data"
    }
   ],
   "source": [
    "plt.scatter(mu_mvp,beta_mvp,label=\"MVP\")\n",
    "plt.scatter(test_mus[three_ix][0],beta_one,label=\"ONE\")\n",
    "plt.scatter(test_mus[three_ix][1],beta_two,label=\"TWO\")\n",
    "plt.scatter(test_mus[three_ix][2],beta_two,label='THREE')\n",
    "plt.scatter(mu_naive,beta_naive,label=\"NAIVE\")\n",
    "plt.plot([0,1],[libor.mean(),1],label=\"SML\")\n",
    "plt.legend()\n",
    "plt.title(\"Security Market Line\")"
   ]
  },
  {
   "cell_type": "markdown",
   "metadata": {
    "hideCode": false,
    "hidePrompt": false
   },
   "source": [
    "# Part H"
   ]
  },
  {
   "cell_type": "code",
   "execution_count": 161,
   "metadata": {
    "hideCode": false,
    "hidePrompt": false
   },
   "outputs": [],
   "source": [
    "def cum_rets(k):\n",
    "    prev=[100]\n",
    "    for i in k:\n",
    "        prev.append(prev[-1]*(1+0.01*i))\n",
    "    return prev"
   ]
  },
  {
   "cell_type": "code",
   "execution_count": 162,
   "metadata": {
    "hideCode": false,
    "hidePrompt": false
   },
   "outputs": [],
   "source": [
    "feed={\"mvp\":k_mvp,\"one\":k_one,\"two\":k_two,\"three\":k_three,\"naive\":k_naive}\n",
    "rets=pd.DataFrame(index=k_mvp.index,columns=list(feed.keys()))\n",
    "for i in feed.keys():\n",
    "    rets[i]=pd.Series(cum_rets(feed[i])[1:],index=feed[i].index)"
   ]
  },
  {
   "cell_type": "code",
   "execution_count": 163,
   "metadata": {
    "hideCode": false,
    "hidePrompt": false,
    "scrolled": false
   },
   "outputs": [
    {
     "data": {
      "text/plain": [
       "Text(0.5,1,'Cumulative Return by Various Portfolios')"
      ]
     },
     "execution_count": 163,
     "metadata": {},
     "output_type": "execute_result"
    },
    {
     "data": {
      "image/png": "[encoded data removed]",
      "text/plain": [
       "<Figure size 720x576 with 1 Axes>"
      ]
     },
     "metadata": {},
     "output_type": "display_data"
    }
   ],
   "source": [
    "rets.plot()\n",
    "plt.title(\"Cumulative Return by Various Portfolios\")"
   ]
  }
 ],
 "metadata": {
  "hide_code_all_hidden": false,
  "kernelspec": {
   "display_name": "Python [default]",
   "language": "python",
   "name": "python3"
  },
  "language_info": {
   "codemirror_mode": {
    "name": "ipython",
    "version": 3
   },
   "file_extension": ".py",
   "mimetype": "text/x-python",
   "name": "python",
   "nbconvert_exporter": "python",
   "pygments_lexer": "ipython3",
   "version": "3.6.3"
  }
 },
 "nbformat": 4,
 "nbformat_minor": 2
}
