{
 "cells": [
  {
   "cell_type": "code",
   "execution_count": 10,
   "metadata": {},
   "outputs": [],
   "source": [
    "import matplotlib.pyplot as plt\n",
    "import matplotlib as mpl\n",
    "import numpy as np\n",
    "import pandas as pd\n",
    "import math"
   ]
  },
  {
   "cell_type": "code",
   "execution_count": 2,
   "metadata": {},
   "outputs": [],
   "source": [
    "%matplotlib inline"
   ]
  },
  {
   "cell_type": "markdown",
   "metadata": {},
   "source": [
    "# A"
   ]
  },
  {
   "cell_type": "markdown",
   "metadata": {},
   "source": [
    "$$ R_n=aY_n+b \\\\\n",
    "Y_n\\sim B(n,p) \\\\\n",
    "E(R_n)=E(aY_n+b)=aE(Y_n)+b\\\\\n",
    "E(Y_n)=np\\\\\n",
    "E(R_n)=anp+b\\\\\n",
    "Var(R_n)=a^2np(1-p)\n",
    "$$"
   ]
  },
  {
   "cell_type": "code",
   "execution_count": 3,
   "metadata": {},
   "outputs": [],
   "source": [
    "def mean(n,p, a, b):  \n",
    "    return a*n*p + b\n",
    "def variance(n,p): \n",
    "    return a*a*n*p*(1-p)"
   ]
  },
  {
   "cell_type": "markdown",
   "metadata": {},
   "source": [
    "# B"
   ]
  },
  {
   "cell_type": "markdown",
   "metadata": {},
   "source": [
    "$$\\tilde{p}=\\frac{(1+r)-d}{u-d}$$"
   ]
  },
  {
   "cell_type": "code",
   "execution_count": 4,
   "metadata": {},
   "outputs": [],
   "source": [
    "def p_tilde(n,r,d,u): \n",
    "    p = ((1+r)-d)/(u-d)\n",
    "    return p "
   ]
  },
  {
   "cell_type": "markdown",
   "metadata": {},
   "source": [
    "# C"
   ]
  },
  {
   "cell_type": "code",
   "execution_count": 6,
   "metadata": {},
   "outputs": [],
   "source": [
    "def spot_calc(path,u,d):\n",
    "    S = np.zeros(len(path)+1)\n",
    "    S[0]=1\n",
    "    for i in range(len(path)): \n",
    "        if path[i] == 1: \n",
    "            S[i+1]=S[i]*u \n",
    "        else: \n",
    "            S[i+1]=S[i]*d\n",
    "    return S\n",
    "\n",
    "def backwards_hedge(spot_path,option_path):\n",
    "    delta_hedge=np.zeros(option_path.shape)\n",
    "    for i in range(option_value.shape[1]-1,1,-1):\n",
    "        delta_hedge[i]=(option_path[i]/(1+r)-option_path[i-1])/(spot_path[i]/(1+r)-spot_path[i-1])\n",
    "    return delta_hedge\n",
    "\n",
    "def replicating_port(delta_zero,S_zero,V_zero):\n",
    "    Xo = delta_zero*S_zero + (V_zero - delta_zero*S_zero)\n",
    "    return Xo "
   ]
  },
  {
   "cell_type": "markdown",
   "metadata": {},
   "source": [
    "# D"
   ]
  },
  {
   "cell_type": "code",
   "execution_count": 7,
   "metadata": {},
   "outputs": [],
   "source": [
    "def option_calc(S,K,call=True):\n",
    "    V = np.zeros(len(S))\n",
    "    if call: \n",
    "        for i in range(len(S)):\n",
    "            V[i] = max(0,S[i]- K) \n",
    "    else: \n",
    "        for i in range(len(S)):\n",
    "            V[i] = max(0, K - S[i]) \n",
    "    return V      "
   ]
  },
  {
   "cell_type": "markdown",
   "metadata": {},
   "source": [
    "# E"
   ]
  },
  {
   "cell_type": "code",
   "execution_count": 33,
   "metadata": {},
   "outputs": [],
   "source": [
    "def MonteCarlo(N,p,num_sim): \n",
    "    paths = []\n",
    "    for i in range(N): \n",
    "        sim = np.random.binomial(1,p, num_sim)\n",
    "        paths.append(sim)\n",
    "    paths=(np.array(paths)).T\n",
    "    return paths\n",
    "\n",
    "def OptionSimulate(p,u,d,N,L,K): \n",
    "    paths =  MonteCarlo(N,p,L)\n",
    "    Vs_call=[]\n",
    "    Vs_put=[]\n",
    "    for i in range(L): \n",
    "        S = spot_calc(paths[i],u,d)\n",
    "        Vs_call.append(option_calc(S,K))\n",
    "        Vs_put.append(option_calc(S,K, call=False))\n",
    "    ttlc = 0 \n",
    "    ttlp = 0\n",
    "    for j in range(L): \n",
    "        ttlc = ttlc + Vs_call[j][N-1]\n",
    "        ttlp = ttlp + Vs_put[j][N-1]\n",
    "    E_call = ttlc/L \n",
    "    E_put = ttlp/L\n",
    "    return E_call,E_put"
   ]
  },
  {
   "cell_type": "code",
   "execution_count": 34,
   "metadata": {},
   "outputs": [],
   "source": [
    "r = 0.003 \n",
    "d = 1.002\n",
    "u = 1.005\n",
    "N = 100 \n",
    "p1 = 0.4 \n",
    "p2 = 0.6 \n",
    "S_zero = 1 \n",
    "L = 1000\n",
    "p_neutral = p_tilde(N,r,d,u)\n",
    "a = math.log(u/d)\n",
    "b = N*math.log(d)\n",
    "K1 = S_zero*np.exp(mean(N,p1,a,b))\n",
    "K2 = S_zero*np.exp(mean(N,p2,a,b))\n",
    "K_neutral = S_zero*np.exp(mean(N,p_neutral,a,b))\n",
    "\n",
    "C1,P1 = OptionSimulate(p1,u,d,N,L,K1) \n",
    "C2,P2 = OptionSimulate(p2,u,d,N,L,K2) \n"
   ]
  },
  {
   "cell_type": "markdown",
   "metadata": {},
   "source": [
    "Some math explaining what is happening above:\n",
    "$$ \n",
    "\\begin{aligned}\n",
    "R_n &=log(u^k)+log(d^{n-k}) \\\\\n",
    "&=k log(u)+(n-k)log(d) \\\\\n",
    "&=k(log(u)-log(d))+n log(d) \\\\\n",
    "&= k log\\left(\\frac{u}{d}\\right)+n log(d)\n",
    "\\end{aligned}\n",
    "$$"
   ]
  },
  {
   "cell_type": "markdown",
   "metadata": {},
   "source": [
    "So then: \n",
    "$$\n",
    "\\begin{aligned}\n",
    "E(R_n)&=(np)log\\left(\\frac{u}{d}\\right)+n log(d) \\\\\n",
    "Var(R_n)&=\\left(log\\left(\\frac{u}{d}\\right)\\right)^2 * np(1-p) \\\\\n",
    "\\end{aligned}\n",
    "$$"
   ]
  },
  {
   "cell_type": "code",
   "execution_count": 35,
   "metadata": {
    "scrolled": true
   },
   "outputs": [
    {
     "name": "stdout",
     "output_type": "stream",
     "text": [
      "0.00578005718226 0.0102095841593\n",
      "0.00637937160496 0.0106943203986\n"
     ]
    }
   ],
   "source": [
    "print(C1,P1)\n",
    "print(C2,P2)"
   ]
  },
  {
   "cell_type": "markdown",
   "metadata": {},
   "source": [
    "# F"
   ]
  },
  {
   "cell_type": "code",
   "execution_count": 16,
   "metadata": {},
   "outputs": [],
   "source": [
    "def value_risk_neutral(p,u,d,N,L,K): \n",
    "    paths =  MonteCarlo(N,p,L)\n",
    "    Vs_call=[]\n",
    "    Vs_put=[]\n",
    "    for i in range(L): \n",
    "        S = spot_calc(paths[i],u,d)\n",
    "        Vs_call.append(option_calc(S,K))\n",
    "        Vs_put.append(option_calc(S,K,call=False))\n",
    "    ttlc = 0 \n",
    "    ttlp = 0\n",
    "    for j in range(L): \n",
    "        ttlc = ttlc + Vs_call[j][N-1]/((1+r)**N)\n",
    "        ttlp = ttlp + Vs_put[j][N-1]/((1+r)**N)\n",
    "    E_call = ttlc/L \n",
    "    E_put = ttlp/L\n",
    "    \n",
    "    return E_call,E_put"
   ]
  },
  {
   "cell_type": "code",
   "execution_count": 18,
   "metadata": {},
   "outputs": [],
   "source": [
    "C1,P1 = value_risk_neutral(p1,u,d,N,L,K1) \n",
    "C2,P2 = value_risk_neutral(p2,u,d,N,L,K2) "
   ]
  },
  {
   "cell_type": "code",
   "execution_count": 19,
   "metadata": {},
   "outputs": [
    {
     "name": "stdout",
     "output_type": "stream",
     "text": [
      "0.00409984468354 0.0079184008596\n",
      "0.00462208296425 0.00829138612218\n"
     ]
    }
   ],
   "source": [
    "print(C1,P1)\n",
    "print(C2,P2)"
   ]
  },
  {
   "cell_type": "markdown",
   "metadata": {},
   "source": [
    "# G"
   ]
  },
  {
   "cell_type": "code",
   "execution_count": 20,
   "metadata": {},
   "outputs": [],
   "source": [
    "p=0.5\n",
    "path=MonteCarlo(100,p,3)"
   ]
  },
  {
   "cell_type": "code",
   "execution_count": 21,
   "metadata": {},
   "outputs": [],
   "source": [
    "spot_price=np.zeros((path.shape[0],path.shape[1]+1))"
   ]
  },
  {
   "cell_type": "code",
   "execution_count": 22,
   "metadata": {},
   "outputs": [],
   "source": [
    "for i in range(len(path)):\n",
    "    spot_price[i]=spot_calc(path[i],u,d)"
   ]
  },
  {
   "cell_type": "code",
   "execution_count": 23,
   "metadata": {},
   "outputs": [
    {
     "data": {
      "text/plain": [
       "[<matplotlib.lines.Line2D at 0x7fe456e7d208>,\n",
       " <matplotlib.lines.Line2D at 0x7fe456e7d400>,\n",
       " <matplotlib.lines.Line2D at 0x7fe456e7d550>]"
      ]
     },
     "execution_count": 23,
     "metadata": {},
     "output_type": "execute_result"
    },
    {
     "data": {
      "image/png": "[encoded data removed]",
      "text/plain": [
       "<Figure size 432x288 with 1 Axes>"
      ]
     },
     "metadata": {},
     "output_type": "display_data"
    }
   ],
   "source": [
    "plt.plot(spot_price.T)"
   ]
  },
  {
   "cell_type": "code",
   "execution_count": 24,
   "metadata": {},
   "outputs": [],
   "source": [
    "option_value=np.zeros((spot_price.shape))\n",
    "for i in range(spot_price.shape[0]):\n",
    "    option_value[i]=option_calc(spot_price[i],K1)"
   ]
  },
  {
   "cell_type": "code",
   "execution_count": 25,
   "metadata": {},
   "outputs": [
    {
     "data": {
      "text/plain": [
       "[<matplotlib.lines.Line2D at 0x7fe44fd0d048>,\n",
       " <matplotlib.lines.Line2D at 0x7fe44fd0d198>,\n",
       " <matplotlib.lines.Line2D at 0x7fe44fd0d2e8>]"
      ]
     },
     "execution_count": 25,
     "metadata": {},
     "output_type": "execute_result"
    },
    {
     "data": {
      "image/png": "[encoded data removed]",
      "text/plain": [
       "<Figure size 432x288 with 1 Axes>"
      ]
     },
     "metadata": {},
     "output_type": "display_data"
    }
   ],
   "source": [
    "plt.plot(option_value.T)"
   ]
  },
  {
   "cell_type": "code",
   "execution_count": 27,
   "metadata": {},
   "outputs": [],
   "source": [
    "delta_hedge=np.zeros((spot_price.shape))\n",
    "for i in range(spot_price.shape[0]):\n",
    "    delta_hedge[i]=backwards_hedge(spot_price[i],option_value[i])"
   ]
  },
  {
   "cell_type": "code",
   "execution_count": 28,
   "metadata": {},
   "outputs": [],
   "source": [
    "a =np.zeros(len(spot_price[0]))\n",
    "b = np.zeros(spot_price[0].shape)"
   ]
  },
  {
   "cell_type": "code",
   "execution_count": 29,
   "metadata": {},
   "outputs": [
    {
     "data": {
      "text/plain": [
       "[<matplotlib.lines.Line2D at 0x7fe44fc6d828>,\n",
       " <matplotlib.lines.Line2D at 0x7fe44fc6d978>,\n",
       " <matplotlib.lines.Line2D at 0x7fe44fc6dac8>]"
      ]
     },
     "execution_count": 29,
     "metadata": {},
     "output_type": "execute_result"
    },
    {
     "data": {
      "image/png": "[encoded data removed]",
      "text/plain": [
       "<Figure size 432x288 with 1 Axes>"
      ]
     },
     "metadata": {},
     "output_type": "display_data"
    }
   ],
   "source": [
    "plt.plot(delta_hedge.T)"
   ]
  },
  {
   "cell_type": "markdown",
   "metadata": {},
   "source": [
    "# H\n",
    "Option values printed above."
   ]
  }
 ],
 "metadata": {
  "kernelspec": {
   "display_name": "Python [default]",
   "language": "python",
   "name": "python3"
  },
  "language_info": {
   "codemirror_mode": {
    "name": "ipython",
    "version": 3
   },
   "file_extension": ".py",
   "mimetype": "text/x-python",
   "name": "python",
   "nbconvert_exporter": "python",
   "pygments_lexer": "ipython3",
   "version": "3.6.3"
  }
 },
 "nbformat": 4,
 "nbformat_minor": 2
}
